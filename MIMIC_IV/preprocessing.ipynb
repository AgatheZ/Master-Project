{
 "cells": [
  {
   "cell_type": "markdown",
   "metadata": {},
   "source": [
    "## Data loading and imports"
   ]
  },
  {
   "cell_type": "code",
   "execution_count": 3,
   "metadata": {},
   "outputs": [],
   "source": [
    "import numpy as np \n",
    "import pandas as pd\n",
    "import matplotlib.pyplot as plt \n",
    "from matplotlib.pyplot import cm\n",
    "import seaborn as sns"
   ]
  },
  {
   "cell_type": "code",
   "execution_count": 63,
   "metadata": {},
   "outputs": [],
   "source": [
    "def trunc_length(ds, nb_hours):\n",
    "#function that truncates the data to only consider the first nb_hours hours\n",
    "    df = ds.loc[ds.index <=  nb_hours]\n",
    "\n",
    "    return df\n",
    "\n",
    "def create_batchs(ds):\n",
    "    batchs = []\n",
    "    ids = ds.stay_id.unique()\n",
    "    for i in ids:\n",
    "        batchs.append(ds.loc[ds['stay_id'] == i])\n",
    "    return batchs\n",
    "\n",
    "def remove_missing(df, var, threshold):\n",
    "#remove from batch the entries where a too large proportion of the variables var are missing \n",
    "    res = df\n",
    "    \n",
    "    \n",
    "    percent_missing = df.isnull().sum() * 100 / len(df)\n",
    "    missing_value_df = pd.DataFrame({'column_name': df.columns,\n",
    "                                    'percent_missing': percent_missing})\n",
    "    for vital in var: \n",
    "        criterion = missing_value_df.loc[missing_value_df.column_name == vital].percent_missing >= threshold \n",
    "        if criterion:\n",
    "            print('entry removed')\n",
    "            print(missing_value_df.loc[missing_value_df.column_name == vital].percent_missing)\n",
    "            df.drop([vital], axis = 1)\n",
    "        else:\n",
    "            res.append(batch[i])\n",
    "    return res\n",
    "\n",
    "def get_column_name(df):\n",
    "    listn = [col for col in df.columns]\n",
    "    return listn\n",
    "\n",
    "def aggregation(batch, rate):\n",
    "    'function that takes a batch of patients and returns the aggregated vitals with the correct aggregation rate'\n",
    "    if rate == 1:\n",
    "        return batch\n",
    "    elif rate == 24:\n",
    "        bch = []\n",
    "        for df in batch:\n",
    "            df['hour_slice'] = 0\n",
    "            df['hour_slice'][range(25,49)] = 1\n",
    "            df = df.groupby('hour_slice').mean()\n",
    "            bch.append(df)\n",
    "        return bch\n",
    "    elif rate == 48:\n",
    "        bch = []\n",
    "        for df in batch:\n",
    "            df['hour_slice'] = 0\n",
    "            df = df.groupby('hour_slice').mean()\n",
    "            bch.append(df)\n",
    "        return bch"
   ]
  },
  {
   "cell_type": "code",
   "execution_count": 67,
   "metadata": {},
   "outputs": [],
   "source": [
    "df_hourly = pd.read_csv('data/preprocessed_mimic4_hour.csv', delimiter=',', index_col = 'hour_from_intime')\n",
    "df_24h = pd.read_csv('data/preprocessed_mimic4_24hour.csv', delimiter=',', index_col = 'hour_from_intime')\n",
    "df_48h = pd.read_csv('data/preprocessed_mimic4_48hour.csv', delimiter=',')\n",
    "df_med = pd.read_csv('data/preprocessed_mimic4_med.csv', delimiter=',')\n",
    "\n",
    "df_hourly = df_hourly.drop(columns = ['icu_intime'])\n",
    "df_24h = df_24h.drop(columns = ['icu_intime'])\n",
    "df_48h = df_48h.drop(columns = ['icu_intime'])\n"
   ]
  },
  {
   "cell_type": "code",
   "execution_count": 73,
   "metadata": {},
   "outputs": [
    {
     "name": "stdout",
     "output_type": "stream",
     "text": [
      "948\n"
     ]
    }
   ],
   "source": [
    "print(len(df_med.stay_id.unique()))"
   ]
  },
  {
   "cell_type": "code",
   "execution_count": 65,
   "metadata": {},
   "outputs": [
    {
     "ename": "IndexError",
     "evalue": "list index out of range",
     "output_type": "error",
     "traceback": [
      "\u001b[1;31m---------------------------------------------------------------------------\u001b[0m",
      "\u001b[1;31mIndexError\u001b[0m                                Traceback (most recent call last)",
      "\u001b[1;32mc:\\Users\\USER\\Documents\\Imperial\\Summer_project\\Azure\\Master-Project\\MIMIC_IV\\preprocessing.ipynb Cell 6'\u001b[0m in \u001b[0;36m<module>\u001b[1;34m\u001b[0m\n\u001b[0;32m     <a href='vscode-notebook-cell:/c%3A/Users/USER/Documents/Imperial/Summer_project/Azure/Master-Project/MIMIC_IV/preprocessing.ipynb#ch0000007?line=21'>22</a>\u001b[0m \u001b[39m#reindex for patients that don't have entries at the begginning of their stays \u001b[39;00m\n\u001b[0;32m     <a href='vscode-notebook-cell:/c%3A/Users/USER/Documents/Imperial/Summer_project/Azure/Master-Project/MIMIC_IV/preprocessing.ipynb#ch0000007?line=22'>23</a>\u001b[0m \u001b[39mfor\u001b[39;00m i \u001b[39min\u001b[39;00m \u001b[39mrange\u001b[39m(\u001b[39mlen\u001b[39m(batch_24h)):\n\u001b[1;32m---> <a href='vscode-notebook-cell:/c%3A/Users/USER/Documents/Imperial/Summer_project/Azure/Master-Project/MIMIC_IV/preprocessing.ipynb#ch0000007?line=23'>24</a>\u001b[0m     batch_hourly[i] \u001b[39m=\u001b[39m batch_hourly[i]\u001b[39m.\u001b[39mreindex(\u001b[39mrange\u001b[39m(\u001b[39m0\u001b[39m, \u001b[39m49\u001b[39m), fill_value \u001b[39m=\u001b[39m \u001b[39mNone\u001b[39;00m) \n\u001b[0;32m     <a href='vscode-notebook-cell:/c%3A/Users/USER/Documents/Imperial/Summer_project/Azure/Master-Project/MIMIC_IV/preprocessing.ipynb#ch0000007?line=24'>25</a>\u001b[0m     batch_24h[i] \u001b[39m=\u001b[39m batch_24h[i]\u001b[39m.\u001b[39mreindex(\u001b[39mrange\u001b[39m(\u001b[39m0\u001b[39m, \u001b[39m3\u001b[39m), fill_value \u001b[39m=\u001b[39m \u001b[39mNone\u001b[39;00m) \n\u001b[0;32m     <a href='vscode-notebook-cell:/c%3A/Users/USER/Documents/Imperial/Summer_project/Azure/Master-Project/MIMIC_IV/preprocessing.ipynb#ch0000007?line=26'>27</a>\u001b[0m df_hourly \u001b[39m=\u001b[39m pd\u001b[39m.\u001b[39mconcat(batch_hourly)\n",
      "\u001b[1;31mIndexError\u001b[0m: list index out of range"
     ]
    }
   ],
   "source": [
    "#truncate to only get 48 hours of stay.\n",
    "df_hourly = trunc_length(df_hourly, 48)\n",
    "df_24h = trunc_length(df_24h, 2)\n",
    "\n",
    "#pivot the tables \n",
    "df_hourly = df_hourly.pivot_table(index = ['stay_id', 'hour_from_intime'], columns = 'feature_name', values = 'feature_mean_value')\n",
    "df_24h = df_24h.pivot_table(index = ['stay_id', 'hour_from_intime'], columns = 'feature_name', values = 'feature_mean_value')\n",
    "df_48h = df_48h.pivot_table(index = ['stay_id'], columns = 'feature_name', values = 'feature_mean_value')\n",
    "df_med = df_med.pivot_table(index = ['stay_id'], columns = 'med_name', values = 'amount')\n",
    "\n",
    "#create batches \n",
    "df_hourly = df_hourly.reset_index(level=['stay_id'])\n",
    "df_24h = df_24h.reset_index(level=['stay_id'])\n",
    "df_48h = df_48h.reset_index(level=['stay_id'])\n",
    "df_med = df_med.reset_index(level=['stay_id'])\n",
    "\n",
    "batch_hourly = create_batchs(df_hourly)\n",
    "batch_24h = create_batchs(df_24h)\n",
    "batch_48h = create_batchs(df_48h)\n",
    "batch_med = create_batchs(df_med)\n",
    "\n",
    "#reindex for patients that don't have entries at the begginning of their stays \n",
    "for i in range(len(batch_24h)):\n",
    "    batch_hourly[i] = batch_hourly[i].reindex(range(0, 49), fill_value = None) \n",
    "    batch_24h[i] = batch_24h[i].reindex(range(0, 3), fill_value = None) \n",
    "\n",
    "df_hourly = pd.concat(batch_hourly)\n",
    "df_24h = pd.concat(batch_24h)\n"
   ]
  }
 ],
 "metadata": {
  "interpreter": {
   "hash": "1d5c1156327dacead463cc502c55ebae8ce9c8c01979cf154173ff808e75bf55"
  },
  "kernelspec": {
   "display_name": "Python 3.9.7 64-bit",
   "language": "python",
   "name": "python3"
  },
  "language_info": {
   "codemirror_mode": {
    "name": "ipython",
    "version": 3
   },
   "file_extension": ".py",
   "mimetype": "text/x-python",
   "name": "python",
   "nbconvert_exporter": "python",
   "pygments_lexer": "ipython3",
   "version": "3.9.7"
  },
  "orig_nbformat": 4
 },
 "nbformat": 4,
 "nbformat_minor": 2
}
