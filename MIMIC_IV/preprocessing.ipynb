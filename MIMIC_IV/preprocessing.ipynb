{
 "cells": [
  {
   "cell_type": "markdown",
   "metadata": {},
   "source": [
    "## Data loading and imports"
   ]
  },
  {
   "cell_type": "code",
   "execution_count": 254,
   "metadata": {},
   "outputs": [],
   "source": [
    "import numpy as np \n",
    "import pandas as pd\n",
    "import matplotlib.pyplot as plt \n",
    "from matplotlib.pyplot import cm\n",
    "import seaborn as sns"
   ]
  },
  {
   "cell_type": "code",
   "execution_count": 255,
   "metadata": {},
   "outputs": [],
   "source": [
    "def trunc_length(ds, nb_hours):\n",
    "#function that truncates the data to only consider the first nb_hours hours\n",
    "    df = ds.loc[ds.hour_from_intime <=  nb_hours]\n",
    "    df = df.loc[df.hour_from_intime > 0]\n",
    "    return df\n",
    "\n",
    "def create_batchs(ds):\n",
    "    batchs = []\n",
    "    ids = ds.stay_id.unique()\n",
    "    for i in ids:\n",
    "        batchs.append(ds.loc[ds['stay_id'] == i])\n",
    "    return batchs\n",
    "\n",
    "def remove_missing(df, var, threshold):\n",
    "#remove from batch the entries where a too large proportion of the variables var are missing \n",
    "    res = df\n",
    "    \n",
    "    \n",
    "    percent_missing = df.isnull().sum() * 100 / len(df)\n",
    "    missing_value_df = pd.DataFrame({'column_name': df.columns,\n",
    "                                    'percent_missing': percent_missing})\n",
    "    for vital in var: \n",
    "        criterion = missing_value_df.loc[missing_value_df.column_name == vital].percent_missing >= threshold \n",
    "        if criterion:\n",
    "            print('entry removed')\n",
    "            print(missing_value_df.loc[missing_value_df.column_name == vital].percent_missing)\n",
    "            df.drop([vital], axis = 1)\n",
    "        else:\n",
    "            res.append(batch[i])\n",
    "    return res\n",
    "\n",
    "def get_column_name(df):\n",
    "    listn = [col for col in df.columns]\n",
    "    return listn\n",
    "\n",
    "def aggregation(batch, rate):\n",
    "    'function that takes a batch of patients and returns the aggregated vitals with the correct aggregation rate'\n",
    "    if rate == 1:\n",
    "        return batch\n",
    "    elif rate == 24:\n",
    "        bch = []\n",
    "        for df in batch:\n",
    "            df['hour_slice'] = 0\n",
    "            df['hour_slice'][range(25,49)] = 1\n",
    "            df = df.groupby('hour_slice').mean()\n",
    "            bch.append(df)\n",
    "        return bch\n",
    "    elif rate == 48:\n",
    "        bch = []\n",
    "        for df in batch:\n",
    "            df['hour_slice'] = 0\n",
    "            df = df.groupby('hour_slice').mean()\n",
    "            bch.append(df)\n",
    "        return bch\n",
    "\n",
    "def arrange_ids(df1, df2, df3, df4, df5):\n",
    "    ids1 = df1.stay_id.unique()\n",
    "    ids2 = df2.stay_id.unique()\n",
    "    ids3 = df3.stay_id.unique()\n",
    "    ids4 = df4.stay_id.unique()\n",
    "    ids5 = df5.stay_id.unique()\n",
    "\n",
    "    min_ids = list(set(ids1) & set(ids2) & set(ids3) & set(ids4) & set(ids5))\n",
    "    return df1.loc[df1['stay_id'].isin(min_ids)], df2.loc[df2['stay_id'].isin(min_ids)], df3.loc[df3['stay_id'].isin(min_ids)], df4.loc[df4['stay_id'].isin(min_ids)], df5.loc[df5['stay_id'].isin(min_ids)]\n"
   ]
  },
  {
   "cell_type": "code",
   "execution_count": 256,
   "metadata": {},
   "outputs": [],
   "source": [
    "df_hourly = pd.read_csv(r'C:\\Users\\USER\\Documents\\Imperial\\Summer_project\\Azure\\data\\preprocessed_mimic4_hour.csv', delimiter=',')\n",
    "df_24h = pd.read_csv(r'C:\\Users\\USER\\Documents\\Imperial\\Summer_project\\Azure\\data\\preprocessed_mimic4_24hour.csv', delimiter=',')\n",
    "df_48h = pd.read_csv(r'C:\\Users\\USER\\Documents\\Imperial\\Summer_project\\Azure\\data\\preprocessed_mimic4_48hour.csv', delimiter=',')\n",
    "df_med = pd.read_csv(r'C:\\Users\\USER\\Documents\\Imperial\\Summer_project\\Azure\\data\\preprocessed_mimic4_med.csv', delimiter=',')\n",
    "df_demographic = pd.read_csv(r'C:\\Users\\USER\\Documents\\Imperial\\Summer_project\\Azure\\data\\demographics_mimic4.csv', delimiter=',')\n",
    "\n",
    "df_hourly = df_hourly.drop(columns = ['icu_intime'])\n",
    "df_24h = df_24h.drop(columns = ['icu_intime'])\n",
    "df_48h = df_48h.drop(columns = ['icu_intime'])\n",
    "\n",
    "\n",
    "\n"
   ]
  },
  {
   "cell_type": "code",
   "execution_count": 257,
   "metadata": {},
   "outputs": [
    {
     "name": "stdout",
     "output_type": "stream",
     "text": [
      "0      0.0\n",
      "1      0.0\n",
      "3      1.0\n",
      "4      1.0\n",
      "5      1.0\n",
      "      ... \n",
      "944    0.0\n",
      "945    1.0\n",
      "946    1.0\n",
      "947    0.0\n",
      "948    1.0\n",
      "Name: los, Length: 928, dtype: float64\n"
     ]
    }
   ],
   "source": [
    "\n",
    "print(labels)\n"
   ]
  },
  {
   "cell_type": "code",
   "execution_count": 258,
   "metadata": {},
   "outputs": [
    {
     "name": "stdout",
     "output_type": "stream",
     "text": [
      "0      0.0\n",
      "1      0.0\n",
      "3      1.0\n",
      "4      1.0\n",
      "5      1.0\n",
      "      ... \n",
      "944    0.0\n",
      "945    1.0\n",
      "946    1.0\n",
      "947    0.0\n",
      "948    1.0\n",
      "Name: los, Length: 928, dtype: float64\n"
     ]
    },
    {
     "name": "stderr",
     "output_type": "stream",
     "text": [
      "C:\\Users\\USER\\AppData\\Local\\Temp\\ipykernel_4716\\3499322277.py:9: SettingWithCopyWarning: \n",
      "A value is trying to be set on a copy of a slice from a DataFrame\n",
      "\n",
      "See the caveats in the documentation: https://pandas.pydata.org/pandas-docs/stable/user_guide/indexing.html#returning-a-view-versus-a-copy\n",
      "  labels[labels > 4] = 1\n",
      "C:\\Users\\USER\\AppData\\Local\\Temp\\ipykernel_4716\\3499322277.py:22: SettingWithCopyWarning: \n",
      "A value is trying to be set on a copy of a slice from a DataFrame\n",
      "\n",
      "See the caveats in the documentation: https://pandas.pydata.org/pandas-docs/stable/user_guide/indexing.html#returning-a-view-versus-a-copy\n",
      "  df_demographic.gender[df_demographic.gender == 'M'] = 0\n"
     ]
    }
   ],
   "source": [
    "#truncate to only get 48 hours of stay.\n",
    "df_hourly = trunc_length(df_hourly, 48)\n",
    "df_24h = trunc_length(df_24h, 2)\n",
    "df_demographic, df_med, df_hourly, df_24h, df_48h = arrange_ids(df_demographic, df_med, df_hourly, df_24h, df_48h)\n",
    "\n",
    "#label extraction \n",
    "labels = df_demographic.pop('los')\n",
    "labels[labels < 4] = 0\n",
    "labels[labels > 4] = 1\n",
    "print(labels)\n",
    "\n",
    "#pivot the tables \n",
    "df_hourly = df_hourly.pivot_table(index = ['stay_id', 'hour_from_intime'], columns = 'feature_name', values = 'feature_mean_value')\n",
    "df_24h = df_24h.pivot_table(index = ['stay_id', 'hour_from_intime'], columns = 'feature_name', values = 'feature_mean_value')\n",
    "df_48h = df_48h.pivot_table(index = ['stay_id'], columns = 'feature_name', values = 'feature_mean_value')\n",
    "df_med = df_med.pivot_table(index = ['stay_id'], columns = 'med_name', values = 'amount')\n",
    "\n",
    "#one-hot encoding for the medication and the sex\n",
    "df_med = df_med.fillna(value = 0)\n",
    "df_med[df_med > 0] = 1\n",
    "df_demographic.gender[df_demographic.gender == 'F'] = 1\n",
    "df_demographic.gender[df_demographic.gender == 'M'] = 0\n",
    "\n",
    "\n",
    "#create batches \n",
    "df_hourly = df_hourly.reset_index(level=['stay_id'])\n",
    "df_24h = df_24h.reset_index(level=['stay_id'])\n",
    "df_48h = df_48h.reset_index(level=['stay_id'])\n",
    "df_med = df_med.reset_index(level=['stay_id'])\n",
    "\n",
    "batch_hourly = create_batchs(df_hourly)\n",
    "batch_24h = create_batchs(df_24h)\n",
    "batch_48h = create_batchs(df_48h)\n",
    "batch_med = create_batchs(df_med)\n",
    "batch_demographic = create_batchs(df_demographic)\n",
    "\n",
    "#reindex for patients that don't have entries at the begginning of their stays \n",
    "for i in range(len(batch_24h)):\n",
    "    batch_hourly[i] = batch_hourly[i].reindex(range(1, 49), fill_value = None) \n",
    "    batch_24h[i] = batch_24h[i].reindex(range(1, 3), fill_value = None) \n",
    "    batch_hourly[i] = batch_hourly[i].drop(columns = 'stay_id')\n",
    "    batch_24h[i] = batch_24h[i].drop(columns = 'stay_id')\n",
    "    batch_48h[i] = batch_48h[i].drop(columns = 'stay_id')\n",
    "    batch_med[i] = batch_med[i].drop(columns = 'stay_id')\n",
    "    batch_demographic[i] = batch_demographic[i].drop(columns = 'stay_id')\n",
    "\n",
    "\n",
    "df_hourly = pd.concat(batch_hourly)\n",
    "df_24h = pd.concat(batch_24h)\n",
    "\n",
    "#the stay ids column are dropped since we alreasy took care of them being in the same order for all datasets\n",
    "\n",
    "df_48h = df_48h.drop(columns = 'stay_id')\n",
    "df_med = df_med.drop(columns = 'stay_id')\n"
   ]
  },
  {
   "cell_type": "code",
   "execution_count": 259,
   "metadata": {},
   "outputs": [],
   "source": [
    "#get vitals names\n",
    "vitals_hourly = get_column_name(df_hourly)\n",
    "vitals_24h = get_column_name(df_24h)\n",
    "vitals_48h = get_column_name(df_48h)\n",
    "med = get_column_name(df_med)"
   ]
  },
  {
   "cell_type": "markdown",
   "metadata": {},
   "source": [
    "### Data imputation"
   ]
  },
  {
   "cell_type": "code",
   "execution_count": 260,
   "metadata": {},
   "outputs": [],
   "source": [
    "#first linear inputation and then replaced by mean when it's not possible \n",
    "#pas incroyable de recalculer le mean à chaque itération... é changer \n",
    "\n",
    "for i in range(len(batch_hourly)):\n",
    "   batch_hourly[i] = batch_hourly[i].interpolate(limit = 15)\n",
    "   batch_24h[i] = batch_24h[i].interpolate(limit = 15)\n",
    "\n",
    "for i in range(len(batch_hourly)):\n",
    "   batch_hourly[i] = batch_hourly[i].interpolate(limit = 15)\n",
    "   batch_24h[i] = batch_24h[i].interpolate(limit = 15)\n",
    "   batch_48h[i] = batch_48h[i].fillna(df_48h.mean())\n",
    "   batch_24h[i] = batch_24h[i].fillna(df_24h.mean())\n",
    "   batch_hourly[i] = batch_hourly[i].fillna(df_hourly.mean())\n",
    "   batch_demographic[i].bmi = batch_demographic[i].bmi.fillna(0)\n",
    "   batch_demographic[i].gcs = batch_demographic[i].gcs.fillna(df_demographic.gcs.mean())\n",
    "\n",
    "\n",
    "\n"
   ]
  },
  {
   "cell_type": "code",
   "execution_count": 286,
   "metadata": {},
   "outputs": [
    {
     "name": "stdout",
     "output_type": "stream",
     "text": [
      "0\n"
     ]
    }
   ],
   "source": [
    "print(np.sum(pd.isnull(batch_hourly[:])))"
   ]
  },
  {
   "cell_type": "code",
   "execution_count": 275,
   "metadata": {},
   "outputs": [
    {
     "ename": "AttributeError",
     "evalue": "'numpy.ndarray' object has no attribute 'to_numpy'",
     "output_type": "error",
     "traceback": [
      "\u001b[1;31m---------------------------------------------------------------------------\u001b[0m",
      "\u001b[1;31mAttributeError\u001b[0m                            Traceback (most recent call last)",
      "\u001b[1;32mc:\\Users\\USER\\Documents\\Imperial\\Summer_project\\Azure\\Master-Project\\MIMIC_IV\\preprocessing.ipynb Cell 11'\u001b[0m in \u001b[0;36m<module>\u001b[1;34m\u001b[0m\n\u001b[0;32m      <a href='vscode-notebook-cell:/c%3A/Users/USER/Documents/Imperial/Summer_project/Azure/Master-Project/MIMIC_IV/preprocessing.ipynb#ch0000009?line=0'>1</a>\u001b[0m \u001b[39m#feature concatenation \u001b[39;00m\n\u001b[0;32m      <a href='vscode-notebook-cell:/c%3A/Users/USER/Documents/Imperial/Summer_project/Azure/Master-Project/MIMIC_IV/preprocessing.ipynb#ch0000009?line=1'>2</a>\u001b[0m final_data \u001b[39m=\u001b[39m np\u001b[39m.\u001b[39marray([[np\u001b[39m.\u001b[39mconcatenate([np\u001b[39m.\u001b[39mconcatenate(batch_demographic[i]\u001b[39m.\u001b[39mvalues), np\u001b[39m.\u001b[39mconcatenate(batch_hourly[i]\u001b[39m.\u001b[39mvalues), np\u001b[39m.\u001b[39mconcatenate(batch_24h[i]\u001b[39m.\u001b[39mvalues), np\u001b[39m.\u001b[39mconcatenate(batch_48h[i]\u001b[39m.\u001b[39mvalues), np\u001b[39m.\u001b[39mconcatenate(batch_med[i]\u001b[39m.\u001b[39mvalues)])] \u001b[39mfor\u001b[39;00m i \u001b[39min\u001b[39;00m \u001b[39mrange\u001b[39m(\u001b[39mlen\u001b[39m(batch_hourly))])\n\u001b[1;32m----> <a href='vscode-notebook-cell:/c%3A/Users/USER/Documents/Imperial/Summer_project/Azure/Master-Project/MIMIC_IV/preprocessing.ipynb#ch0000009?line=2'>3</a>\u001b[0m final_data \u001b[39m=\u001b[39m np\u001b[39m.\u001b[39;49msqueeze(final_data)\u001b[39m.\u001b[39;49mto_numpy()\n",
      "\u001b[1;31mAttributeError\u001b[0m: 'numpy.ndarray' object has no attribute 'to_numpy'"
     ]
    }
   ],
   "source": [
    "#feature concatenation \n",
    "final_data = np.array([[np.concatenate([np.concatenate(batch_demographic[i].values), np.concatenate(batch_hourly[i].values), np.concatenate(batch_24h[i].values), np.concatenate(batch_48h[i].values), np.concatenate(batch_med[i].values)])] for i in range(len(batch_hourly))])\n",
    "final_data = np.squeeze(final_data).to_numpy()"
   ]
  },
  {
   "cell_type": "code",
   "execution_count": 277,
   "metadata": {},
   "outputs": [
    {
     "ename": "AttributeError",
     "evalue": "module 'pandas' has no attribute 'isnan'",
     "output_type": "error",
     "traceback": [
      "\u001b[1;31m---------------------------------------------------------------------------\u001b[0m",
      "\u001b[1;31mAttributeError\u001b[0m                            Traceback (most recent call last)",
      "\u001b[1;32mc:\\Users\\USER\\Documents\\Imperial\\Summer_project\\Azure\\Master-Project\\MIMIC_IV\\preprocessing.ipynb Cell 12'\u001b[0m in \u001b[0;36m<module>\u001b[1;34m\u001b[0m\n\u001b[0;32m      <a href='vscode-notebook-cell:/c%3A/Users/USER/Documents/Imperial/Summer_project/Azure/Master-Project/MIMIC_IV/preprocessing.ipynb#ch0000011?line=0'>1</a>\u001b[0m \u001b[39m# print(np.concatenate(batch_hourly[1].values))\u001b[39;00m\n\u001b[1;32m----> <a href='vscode-notebook-cell:/c%3A/Users/USER/Documents/Imperial/Summer_project/Azure/Master-Project/MIMIC_IV/preprocessing.ipynb#ch0000011?line=1'>2</a>\u001b[0m np\u001b[39m.\u001b[39msum(pd\u001b[39m.\u001b[39;49misnan(final_data))\n",
      "File \u001b[1;32mc:\\Users\\USER\\AppData\\Local\\Programs\\Python\\Python39\\lib\\site-packages\\pandas\\__init__.py:244\u001b[0m, in \u001b[0;36m__getattr__\u001b[1;34m(name)\u001b[0m\n\u001b[0;32m    <a href='file:///c%3A/Users/USER/AppData/Local/Programs/Python/Python39/lib/site-packages/pandas/__init__.py?line=239'>240</a>\u001b[0m     \u001b[39mfrom\u001b[39;00m \u001b[39mpandas\u001b[39;00m\u001b[39m.\u001b[39;00m\u001b[39mcore\u001b[39;00m\u001b[39m.\u001b[39;00m\u001b[39marrays\u001b[39;00m\u001b[39m.\u001b[39;00m\u001b[39msparse\u001b[39;00m \u001b[39mimport\u001b[39;00m SparseArray \u001b[39mas\u001b[39;00m _SparseArray\n\u001b[0;32m    <a href='file:///c%3A/Users/USER/AppData/Local/Programs/Python/Python39/lib/site-packages/pandas/__init__.py?line=241'>242</a>\u001b[0m     \u001b[39mreturn\u001b[39;00m _SparseArray\n\u001b[1;32m--> <a href='file:///c%3A/Users/USER/AppData/Local/Programs/Python/Python39/lib/site-packages/pandas/__init__.py?line=243'>244</a>\u001b[0m \u001b[39mraise\u001b[39;00m \u001b[39mAttributeError\u001b[39;00m(\u001b[39mf\u001b[39m\u001b[39m\"\u001b[39m\u001b[39mmodule \u001b[39m\u001b[39m'\u001b[39m\u001b[39mpandas\u001b[39m\u001b[39m'\u001b[39m\u001b[39m has no attribute \u001b[39m\u001b[39m'\u001b[39m\u001b[39m{\u001b[39;00mname\u001b[39m}\u001b[39;00m\u001b[39m'\u001b[39m\u001b[39m\"\u001b[39m)\n",
      "\u001b[1;31mAttributeError\u001b[0m: module 'pandas' has no attribute 'isnan'"
     ]
    }
   ],
   "source": [
    "# print(np.concatenate(batch_hourly[1].values))\n",
    "np.sum(pd.isnull(final_data))"
   ]
  }
 ],
 "metadata": {
  "interpreter": {
   "hash": "1d5c1156327dacead463cc502c55ebae8ce9c8c01979cf154173ff808e75bf55"
  },
  "kernelspec": {
   "display_name": "Python 3.9.7 64-bit",
   "language": "python",
   "name": "python3"
  },
  "language_info": {
   "codemirror_mode": {
    "name": "ipython",
    "version": 3
   },
   "file_extension": ".py",
   "mimetype": "text/x-python",
   "name": "python",
   "nbconvert_exporter": "python",
   "pygments_lexer": "ipython3",
   "version": "3.9.7"
  },
  "orig_nbformat": 4
 },
 "nbformat": 4,
 "nbformat_minor": 2
}
