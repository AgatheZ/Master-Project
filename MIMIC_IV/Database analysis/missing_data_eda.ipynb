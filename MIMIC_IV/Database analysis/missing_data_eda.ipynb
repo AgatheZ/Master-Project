{
    "cells": [
        {
            "cell_type": "code",
            "execution_count": 2,
            "metadata": {
                "azdata_cell_guid": "01d3aa74-1814-4d9e-a7fe-f5b02dfaaeaa",
                "language": "python"
            },
            "outputs": [],
            "source": [
                "import numpy as np \n",
                "import pandas as pd\n",
                "import matplotlib.pyplot as plt \n",
                "from matplotlib.pyplot import cm\n",
                "import seaborn as sns\n",
                "import plotly.graph_objects as go\n",
                "import plotly.io as pio\n"
            ]
        },
        {
            "cell_type": "code",
            "execution_count": 21,
            "metadata": {
                "azdata_cell_guid": "ef87eaea-1f19-4652-81c9-1a6c9cccff0d",
                "language": "python"
            },
            "outputs": [
                {
                    "name": "stdout",
                    "output_type": "stream",
                    "text": [
                        "929\n",
                        "    sex age     bmi death gcs\n",
                        "0     0  53  22.784     0   6\n",
                        "1     1  56     NaN     0   6\n",
                        "2     1  50  24.285     0   9\n",
                        "3     1  19  27.588     0   9\n",
                        "4     1  89     NaN     0   7\n",
                        "..   ..  ..     ...   ...  ..\n",
                        "924   0  24     NaN     0  12\n",
                        "925   1  66  21.028     0  10\n",
                        "926   0  76     NaN     0  10\n",
                        "927   1  61     NaN     0   8\n",
                        "928   1  79  24.983     0   9\n",
                        "\n",
                        "[929 rows x 5 columns]\n",
                        "       hour_from_intime  ABPd  ABPm  ABPs     HR  ICP    RR        SpO2\n",
                        "0                     1   NaN   NaN   NaN    NaN  NaN   NaN         NaN\n",
                        "1                     2   NaN   NaN   NaN    NaN  NaN   NaN         NaN\n",
                        "2                     3   NaN   NaN   NaN  100.5  NaN  21.0   95.666667\n",
                        "3                     4   NaN   NaN   NaN   99.0  NaN  20.0   95.000000\n",
                        "4                     5   NaN   NaN   NaN   81.0  NaN  22.0  100.000000\n",
                        "...                 ...   ...   ...   ...    ...  ...   ...         ...\n",
                        "22291                20   NaN   NaN   NaN   82.0  NaN  22.0   97.000000\n",
                        "22292                21   NaN   NaN   NaN   85.0  NaN  29.0   95.000000\n",
                        "22293                22   NaN   NaN   NaN   89.0  NaN  27.0   97.000000\n",
                        "22294                23   NaN   NaN   NaN   89.0  NaN  28.0   96.000000\n",
                        "22295                24   NaN   NaN   NaN   84.0  NaN  23.0   95.000000\n",
                        "\n",
                        "[22296 rows x 8 columns]\n"
                    ]
                },
                {
                    "ename": "AttributeError",
                    "evalue": "'numpy.ndarray' object has no attribute 'isnull'",
                    "output_type": "error",
                    "traceback": [
                        "\u001b[1;31m---------------------------------------------------------------------------\u001b[0m",
                        "\u001b[1;31mAttributeError\u001b[0m                            Traceback (most recent call last)",
                        "\u001b[1;32mc:\\Users\\USER\\OneDrive\\Summer_project\\Azure\\Master-Project\\MIMIC_IV\\Database analysis\\missing_data_eda.ipynb Cell 2'\u001b[0m in \u001b[0;36m<module>\u001b[1;34m\u001b[0m\n\u001b[0;32m     <a href='vscode-notebook-cell:/c%3A/Users/USER/OneDrive/Summer_project/Azure/Master-Project/MIMIC_IV/Database%20analysis/missing_data_eda.ipynb#ch0000001?line=13'>14</a>\u001b[0m ICP_missing \u001b[39m=\u001b[39m []\n\u001b[0;32m     <a href='vscode-notebook-cell:/c%3A/Users/USER/OneDrive/Summer_project/Azure/Master-Project/MIMIC_IV/Database%20analysis/missing_data_eda.ipynb#ch0000001?line=14'>15</a>\u001b[0m \u001b[39mfor\u001b[39;00m i \u001b[39min\u001b[39;00m \u001b[39mrange\u001b[39m(\u001b[39mlen\u001b[39m(batch)):\n\u001b[1;32m---> <a href='vscode-notebook-cell:/c%3A/Users/USER/OneDrive/Summer_project/Azure/Master-Project/MIMIC_IV/Database%20analysis/missing_data_eda.ipynb#ch0000001?line=15'>16</a>\u001b[0m     percent_missing \u001b[39m=\u001b[39m batch[i]\u001b[39m.\u001b[39;49misnull()\u001b[39m.\u001b[39msum() \u001b[39m*\u001b[39m \u001b[39m100\u001b[39m \u001b[39m/\u001b[39m \u001b[39mlen\u001b[39m(batch[i])\n\u001b[0;32m     <a href='vscode-notebook-cell:/c%3A/Users/USER/OneDrive/Summer_project/Azure/Master-Project/MIMIC_IV/Database%20analysis/missing_data_eda.ipynb#ch0000001?line=16'>17</a>\u001b[0m     ICP_missing\u001b[39m.\u001b[39mappend(percent_missing\u001b[39m.\u001b[39mvalues)\n\u001b[0;32m     <a href='vscode-notebook-cell:/c%3A/Users/USER/OneDrive/Summer_project/Azure/Master-Project/MIMIC_IV/Database%20analysis/missing_data_eda.ipynb#ch0000001?line=18'>19</a>\u001b[0m demographic[\u001b[39m'\u001b[39m\u001b[39mseverity\u001b[39m\u001b[39m'\u001b[39m] \u001b[39m=\u001b[39m demographic\u001b[39m.\u001b[39mapply(\u001b[39mlambda\u001b[39;00m row: label_severity(row), axis\u001b[39m=\u001b[39m\u001b[39m1\u001b[39m)\n",
                        "\u001b[1;31mAttributeError\u001b[0m: 'numpy.ndarray' object has no attribute 'isnull'"
                    ]
                }
            ],
            "source": [
                "df = pd.read_csv('preprocessed_batches/df_hourly.csv')\n",
                "batch = np.load('preprocessed_batches/batch_hourly.npy')\n",
                "print(len(batch))\n",
                "demographic = pd.DataFrame(np.load('preprocessed_batches/df_demographic.npy', allow_pickle=True), columns = [ 'sex', 'age',  'bmi', 'death', 'gcs'])\n",
                "\n",
                "def label_severity (row):\n",
                "    if row['gcs'] < 8 :\n",
                "        return \"severe\"\n",
                "    else:\n",
                "        return \"mild\"\n",
                "\n",
                "print(demographic)\n",
                "print(df)\n",
                "ICP_missing = []\n",
                "for i in range(len(batch)):\n",
                "    percent_missing = batch[i].isnull().sum() * 100 / len(batch[i])\n",
                "    ICP_missing.append(percent_missing.values)\n",
                "\n",
                "demographic['severity'] = demographic.apply(lambda row: label_severity(row), axis=1)\n",
                "    \n",
                "\n"
            ]
        },
        {
            "cell_type": "code",
            "execution_count": 12,
            "metadata": {},
            "outputs": [
                {
                    "name": "stdout",
                    "output_type": "stream",
                    "text": [
                        "<pandas.core.groupby.generic.DataFrameGroupBy object at 0x0000029DF8E62820>\n"
                    ]
                }
            ],
            "source": [
                "df = df.groupby(['hour_from_intime'])\n",
                "print(df)"
            ]
        }
    ],
    "metadata": {
        "kernelspec": {
            "display_name": "Python 3.9.7 64-bit",
            "language": "python",
            "name": "python3"
        },
        "language_info": {
            "codemirror_mode": {
                "name": "ipython",
                "version": 3
            },
            "file_extension": ".py",
            "mimetype": "text/x-python",
            "name": "python",
            "nbconvert_exporter": "python",
            "pygments_lexer": "ipython3",
            "version": "3.9.7"
        },
        "vscode": {
            "interpreter": {
                "hash": "1d5c1156327dacead463cc502c55ebae8ce9c8c01979cf154173ff808e75bf55"
            }
        }
    },
    "nbformat": 4,
    "nbformat_minor": 2
}
