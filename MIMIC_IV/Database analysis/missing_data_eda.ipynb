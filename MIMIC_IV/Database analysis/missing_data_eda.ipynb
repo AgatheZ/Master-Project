{
    "cells": [
        {
            "cell_type": "code",
            "execution_count": 1,
            "metadata": {
                "azdata_cell_guid": "01d3aa74-1814-4d9e-a7fe-f5b02dfaaeaa",
                "language": "python"
            },
            "outputs": [],
            "source": [
                "import numpy as np \n",
                "import pandas as pd\n",
                "import matplotlib.pyplot as plt \n",
                "from matplotlib.pyplot import cm\n",
                "import seaborn as sns\n",
                "import plotly.graph_objects as go\n",
                "import plotly.io as pio\n"
            ]
        },
        {
            "cell_type": "code",
            "execution_count": 6,
            "metadata": {},
            "outputs": [],
            "source": [
                "def create_batchs(ds):\n",
                "        batchs = []\n",
                "        ids = ds.stay_id.unique()\n",
                "        for i in ids:\n",
                "            batchs.append(ds.loc[ds['stay_id'] == i])\n",
                "        return batchs"
            ]
        },
        {
            "cell_type": "code",
            "execution_count": 9,
            "metadata": {
                "azdata_cell_guid": "ef87eaea-1f19-4652-81c9-1a6c9cccff0d",
                "language": "python"
            },
            "outputs": [
                {
                    "name": "stdout",
                    "output_type": "stream",
                    "text": [
                        "929\n",
                        "           id sex age        los     bmi death gcs\n",
                        "0    30006565   M  53   3.325139  22.784     0   6\n",
                        "1    30008528   F  56   2.814954     NaN     0   6\n",
                        "2    30033718   F  50   8.457454  24.285     0   9\n",
                        "3    30035412   F  19   7.523762  27.588     0   9\n",
                        "4    30037915   F  89   8.934433     NaN     0   7\n",
                        "..        ...  ..  ..        ...     ...   ...  ..\n",
                        "924  39935682   M  24   2.167859     NaN     0  12\n",
                        "925  39940048   F  66   8.703519  21.028     0  10\n",
                        "926  39945709   M  76  12.393704     NaN     0  10\n",
                        "927  39956278   F  61   3.601539     NaN     0   8\n",
                        "928  39985110   F  79   6.632975  24.983     0   9\n",
                        "\n",
                        "[929 rows x 7 columns]\n",
                        "       hour_from_intime  ABPd  ABPm  ABPs     HR  ICP    RR        SpO2\n",
                        "0                     1   NaN   NaN   NaN    NaN  NaN   NaN         NaN\n",
                        "1                     2   NaN   NaN   NaN    NaN  NaN   NaN         NaN\n",
                        "2                     3   NaN   NaN   NaN  100.5  NaN  21.0   95.666667\n",
                        "3                     4   NaN   NaN   NaN   99.0  NaN  20.0   95.000000\n",
                        "4                     5   NaN   NaN   NaN   81.0  NaN  22.0  100.000000\n",
                        "...                 ...   ...   ...   ...    ...  ...   ...         ...\n",
                        "22291                20   NaN   NaN   NaN   82.0  NaN  22.0   97.000000\n",
                        "22292                21   NaN   NaN   NaN   85.0  NaN  29.0   95.000000\n",
                        "22293                22   NaN   NaN   NaN   89.0  NaN  27.0   97.000000\n",
                        "22294                23   NaN   NaN   NaN   89.0  NaN  28.0   96.000000\n",
                        "22295                24   NaN   NaN   NaN   84.0  NaN  23.0   95.000000\n",
                        "\n",
                        "[22296 rows x 8 columns]\n"
                    ]
                },
                {
                    "name": "stderr",
                    "output_type": "stream",
                    "text": [
                        "c:\\Users\\USER\\AppData\\Local\\Programs\\Python\\Python39\\lib\\site-packages\\seaborn\\_decorators.py:36: FutureWarning: Pass the following variables as keyword args: x, y. From version 0.12, the only valid positional argument will be `data`, and passing other arguments without an explicit keyword will result in an error or misinterpretation.\n",
                        "  warnings.warn(\n"
                    ]
                },
                {
                    "ename": "TypeError",
                    "evalue": "Neither the `x` nor `y` variable appears to be numeric.",
                    "output_type": "error",
                    "traceback": [
                        "\u001b[1;31m---------------------------------------------------------------------------\u001b[0m",
                        "\u001b[1;31mTypeError\u001b[0m                                 Traceback (most recent call last)",
                        "\u001b[1;32mc:\\Users\\USER\\OneDrive\\Summer_project\\Azure\\Master-Project\\MIMIC_IV\\Database analysis\\missing_data_eda.ipynb Cell 3'\u001b[0m in \u001b[0;36m<module>\u001b[1;34m\u001b[0m\n\u001b[0;32m     <a href='vscode-notebook-cell:/c%3A/Users/USER/OneDrive/Summer_project/Azure/Master-Project/MIMIC_IV/Database%20analysis/missing_data_eda.ipynb#ch0000001?line=19'>20</a>\u001b[0m     ICP_missing\u001b[39m.\u001b[39mappend(percent_missing\u001b[39m.\u001b[39mvalues)\n\u001b[0;32m     <a href='vscode-notebook-cell:/c%3A/Users/USER/OneDrive/Summer_project/Azure/Master-Project/MIMIC_IV/Database%20analysis/missing_data_eda.ipynb#ch0000001?line=21'>22</a>\u001b[0m demographic[\u001b[39m'\u001b[39m\u001b[39mseverity\u001b[39m\u001b[39m'\u001b[39m] \u001b[39m=\u001b[39m demographic\u001b[39m.\u001b[39mapply(\u001b[39mlambda\u001b[39;00m row: label_severity(row), axis\u001b[39m=\u001b[39m\u001b[39m1\u001b[39m)\n\u001b[1;32m---> <a href='vscode-notebook-cell:/c%3A/Users/USER/OneDrive/Summer_project/Azure/Master-Project/MIMIC_IV/Database%20analysis/missing_data_eda.ipynb#ch0000001?line=23'>24</a>\u001b[0m sns\u001b[39m.\u001b[39;49mboxplot(demographic[\u001b[39m'\u001b[39;49m\u001b[39mseverity\u001b[39;49m\u001b[39m'\u001b[39;49m], ICP_missing)\n",
                        "File \u001b[1;32mc:\\Users\\USER\\AppData\\Local\\Programs\\Python\\Python39\\lib\\site-packages\\seaborn\\_decorators.py:46\u001b[0m, in \u001b[0;36m_deprecate_positional_args.<locals>.inner_f\u001b[1;34m(*args, **kwargs)\u001b[0m\n\u001b[0;32m     36\u001b[0m     warnings\u001b[39m.\u001b[39mwarn(\n\u001b[0;32m     37\u001b[0m         \u001b[39m\"\u001b[39m\u001b[39mPass the following variable\u001b[39m\u001b[39m{}\u001b[39;00m\u001b[39m as \u001b[39m\u001b[39m{}\u001b[39;00m\u001b[39mkeyword arg\u001b[39m\u001b[39m{}\u001b[39;00m\u001b[39m: \u001b[39m\u001b[39m{}\u001b[39;00m\u001b[39m. \u001b[39m\u001b[39m\"\u001b[39m\n\u001b[0;32m     38\u001b[0m         \u001b[39m\"\u001b[39m\u001b[39mFrom version 0.12, the only valid positional argument \u001b[39m\u001b[39m\"\u001b[39m\n\u001b[1;32m   (...)\u001b[0m\n\u001b[0;32m     43\u001b[0m         \u001b[39mFutureWarning\u001b[39;00m\n\u001b[0;32m     44\u001b[0m     )\n\u001b[0;32m     45\u001b[0m kwargs\u001b[39m.\u001b[39mupdate({k: arg \u001b[39mfor\u001b[39;00m k, arg \u001b[39min\u001b[39;00m \u001b[39mzip\u001b[39m(sig\u001b[39m.\u001b[39mparameters, args)})\n\u001b[1;32m---> 46\u001b[0m \u001b[39mreturn\u001b[39;00m f(\u001b[39m*\u001b[39m\u001b[39m*\u001b[39mkwargs)\n",
                        "File \u001b[1;32mc:\\Users\\USER\\AppData\\Local\\Programs\\Python\\Python39\\lib\\site-packages\\seaborn\\categorical.py:2243\u001b[0m, in \u001b[0;36mboxplot\u001b[1;34m(x, y, hue, data, order, hue_order, orient, color, palette, saturation, width, dodge, fliersize, linewidth, whis, ax, **kwargs)\u001b[0m\n\u001b[0;32m   2231\u001b[0m \u001b[39m@_deprecate_positional_args\u001b[39m\n\u001b[0;32m   2232\u001b[0m \u001b[39mdef\u001b[39;00m \u001b[39mboxplot\u001b[39m(\n\u001b[0;32m   2233\u001b[0m     \u001b[39m*\u001b[39m,\n\u001b[1;32m   (...)\u001b[0m\n\u001b[0;32m   2240\u001b[0m     \u001b[39m*\u001b[39m\u001b[39m*\u001b[39mkwargs\n\u001b[0;32m   2241\u001b[0m ):\n\u001b[1;32m-> 2243\u001b[0m     plotter \u001b[39m=\u001b[39m _BoxPlotter(x, y, hue, data, order, hue_order,\n\u001b[0;32m   2244\u001b[0m                           orient, color, palette, saturation,\n\u001b[0;32m   2245\u001b[0m                           width, dodge, fliersize, linewidth)\n\u001b[0;32m   2247\u001b[0m     \u001b[39mif\u001b[39;00m ax \u001b[39mis\u001b[39;00m \u001b[39mNone\u001b[39;00m:\n\u001b[0;32m   2248\u001b[0m         ax \u001b[39m=\u001b[39m plt\u001b[39m.\u001b[39mgca()\n",
                        "File \u001b[1;32mc:\\Users\\USER\\AppData\\Local\\Programs\\Python\\Python39\\lib\\site-packages\\seaborn\\categorical.py:406\u001b[0m, in \u001b[0;36m_BoxPlotter.__init__\u001b[1;34m(self, x, y, hue, data, order, hue_order, orient, color, palette, saturation, width, dodge, fliersize, linewidth)\u001b[0m\n\u001b[0;32m    402\u001b[0m \u001b[39mdef\u001b[39;00m \u001b[39m__init__\u001b[39m(\u001b[39mself\u001b[39m, x, y, hue, data, order, hue_order,\n\u001b[0;32m    403\u001b[0m              orient, color, palette, saturation,\n\u001b[0;32m    404\u001b[0m              width, dodge, fliersize, linewidth):\n\u001b[1;32m--> 406\u001b[0m     \u001b[39mself\u001b[39;49m\u001b[39m.\u001b[39;49mestablish_variables(x, y, hue, data, orient, order, hue_order)\n\u001b[0;32m    407\u001b[0m     \u001b[39mself\u001b[39m\u001b[39m.\u001b[39mestablish_colors(color, palette, saturation)\n\u001b[0;32m    409\u001b[0m     \u001b[39mself\u001b[39m\u001b[39m.\u001b[39mdodge \u001b[39m=\u001b[39m dodge\n",
                        "File \u001b[1;32mc:\\Users\\USER\\AppData\\Local\\Programs\\Python\\Python39\\lib\\site-packages\\seaborn\\categorical.py:156\u001b[0m, in \u001b[0;36m_CategoricalPlotter.establish_variables\u001b[1;34m(self, x, y, hue, data, orient, order, hue_order, units)\u001b[0m\n\u001b[0;32m    153\u001b[0m         \u001b[39mraise\u001b[39;00m \u001b[39mValueError\u001b[39;00m(err)\n\u001b[0;32m    155\u001b[0m \u001b[39m# Figure out the plotting orientation\u001b[39;00m\n\u001b[1;32m--> 156\u001b[0m orient \u001b[39m=\u001b[39m infer_orient(\n\u001b[0;32m    157\u001b[0m     x, y, orient, require_numeric\u001b[39m=\u001b[39;49m\u001b[39mself\u001b[39;49m\u001b[39m.\u001b[39;49mrequire_numeric\n\u001b[0;32m    158\u001b[0m )\n\u001b[0;32m    160\u001b[0m \u001b[39m# Option 2a:\u001b[39;00m\n\u001b[0;32m    161\u001b[0m \u001b[39m# We are plotting a single set of data\u001b[39;00m\n\u001b[0;32m    162\u001b[0m \u001b[39m# ------------------------------------\u001b[39;00m\n\u001b[0;32m    163\u001b[0m \u001b[39mif\u001b[39;00m x \u001b[39mis\u001b[39;00m \u001b[39mNone\u001b[39;00m \u001b[39mor\u001b[39;00m y \u001b[39mis\u001b[39;00m \u001b[39mNone\u001b[39;00m:\n\u001b[0;32m    164\u001b[0m \n\u001b[0;32m    165\u001b[0m     \u001b[39m# Determine where the data are\u001b[39;00m\n",
                        "File \u001b[1;32mc:\\Users\\USER\\AppData\\Local\\Programs\\Python\\Python39\\lib\\site-packages\\seaborn\\_core.py:1352\u001b[0m, in \u001b[0;36minfer_orient\u001b[1;34m(x, y, orient, require_numeric)\u001b[0m\n\u001b[0;32m   1350\u001b[0m \u001b[39melif\u001b[39;00m require_numeric \u001b[39mand\u001b[39;00m \u001b[39m\"\u001b[39m\u001b[39mnumeric\u001b[39m\u001b[39m\"\u001b[39m \u001b[39mnot\u001b[39;00m \u001b[39min\u001b[39;00m (x_type, y_type):\n\u001b[0;32m   1351\u001b[0m     err \u001b[39m=\u001b[39m \u001b[39m\"\u001b[39m\u001b[39mNeither the `x` nor `y` variable appears to be numeric.\u001b[39m\u001b[39m\"\u001b[39m\n\u001b[1;32m-> 1352\u001b[0m     \u001b[39mraise\u001b[39;00m \u001b[39mTypeError\u001b[39;00m(err)\n\u001b[0;32m   1354\u001b[0m \u001b[39melse\u001b[39;00m:\n\u001b[0;32m   1355\u001b[0m     \u001b[39mreturn\u001b[39;00m \u001b[39m\"\u001b[39m\u001b[39mv\u001b[39m\u001b[39m\"\u001b[39m\n",
                        "\u001b[1;31mTypeError\u001b[0m: Neither the `x` nor `y` variable appears to be numeric."
                    ]
                }
            ],
            "source": [
                "df_hourly = pd.read_csv(r'C:\\Users\\USER\\OneDrive\\Summer_project\\Azure\\data\\preprocessed_mimic4_hour_std.csv', delimiter=',', index_col = 'stay_id')\n",
                "df_hourly = df_hourly.pivot_table(index = ['stay_id','hour_from_intime'], columns = 'feature_name', values = 'feature_mean_value')\n",
                "df_hourly = df_hourly.reset_index(level = 'stay_id')\n",
                "batch = create_batchs(df_hourly)\n",
                "df_hourly = df_hourly.drop(columns='stay_id')\n",
                "print(len(batch))\n",
                "demographic = pd.DataFrame(np.load('preprocessed_batches/df_demographic.npy', allow_pickle=True), columns = [ 'id', 'sex', 'age', 'los', 'bmi', 'death', 'gcs'])\n",
                "\n",
                "def label_severity (row):\n",
                "    if row['gcs'] < 8 :\n",
                "        return \"severe\"\n",
                "    else:\n",
                "        return \"mild\"\n",
                "\n",
                "print(demographic)\n",
                "print(df)\n",
                "ICP_missing = []\n",
                "for i in range(len(batch)):\n",
                "    percent_missing = batch[i].isnull().sum() * 100 / len(batch[i])\n",
                "    ICP_missing.append(percent_missing.values)\n",
                "\n",
                "demographic['severity'] = demographic.apply(lambda row: label_severity(row), axis=1)\n",
                "    \n",
                "sns.boxplot(demographic['severity'], ICP_missing)"
            ]
        },
        {
            "cell_type": "code",
            "execution_count": 12,
            "metadata": {},
            "outputs": [
                {
                    "name": "stdout",
                    "output_type": "stream",
                    "text": [
                        "<pandas.core.groupby.generic.DataFrameGroupBy object at 0x0000029DF8E62820>\n"
                    ]
                }
            ],
            "source": [
                "df = df.groupby(['hour_from_intime'])\n",
                "print(df)"
            ]
        }
    ],
    "metadata": {
        "kernelspec": {
            "display_name": "Python 3.9.7 64-bit",
            "language": "python",
            "name": "python3"
        },
        "language_info": {
            "codemirror_mode": {
                "name": "ipython",
                "version": 3
            },
            "file_extension": ".py",
            "mimetype": "text/x-python",
            "name": "python",
            "nbconvert_exporter": "python",
            "pygments_lexer": "ipython3",
            "version": "3.9.7"
        },
        "vscode": {
            "interpreter": {
                "hash": "1d5c1156327dacead463cc502c55ebae8ce9c8c01979cf154173ff808e75bf55"
            }
        }
    },
    "nbformat": 4,
    "nbformat_minor": 2
}
