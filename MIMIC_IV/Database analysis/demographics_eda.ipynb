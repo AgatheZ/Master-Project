{
    "cells": [
        {
            "attachments": {},
            "cell_type": "markdown",
            "metadata": {
                "azdata_cell_guid": "e9b7557a-8dd7-4198-b5da-fcbd7efd249d"
            },
            "source": [
                "## Imports, Data loading & preprocessing"
            ]
        },
        {
            "cell_type": "markdown",
            "metadata": {},
            "source": [
                "This notebook provides plots for the demographic EDA."
            ]
        },
        {
            "cell_type": "code",
            "execution_count": 1,
            "metadata": {
                "azdata_cell_guid": "5e6741bb-7715-49fa-8ba0-0e12c2316ede",
                "language": "python"
            },
            "outputs": [],
            "source": [
                "import numpy as np \n",
                "import pandas as pd\n",
                "import plotly.express as px\n",
                "import matplotlib.pyplot as plt \n",
                "from matplotlib.pyplot import cm\n",
                "import seaborn as sns\n",
                "import plotly.graph_objects as go\n",
                "import mpl_toolkits.mplot3d  # noqa: F401\n",
                "from sklearn.cluster import KMeans\n",
                "from sklearn import datasets\n",
                "import statistics as s"
            ]
        },
        {
            "cell_type": "code",
            "execution_count": 3,
            "metadata": {},
            "outputs": [],
            "source": [
                "#Useful functions\n",
                "def create_batchs(ds):\n",
                "        batchs = []\n",
                "        ids = ds.stay_id.unique()\n",
                "        for i in ids:\n",
                "            batchs.append(ds.loc[ds['stay_id'] == i])\n",
                "        return batchs\n",
                "\n",
                "def label_severity (row):\n",
                "    if row['gcs'] <8 :\n",
                "        return \"severe\"\n",
                "    if row['gcs'] >= 13 :\n",
                "        return \"mild\"\n",
                "    else:\n",
                "        return \"moderate\"\n"
            ]
        },
        {
            "cell_type": "code",
            "execution_count": 5,
            "metadata": {
                "azdata_cell_guid": "589b9673-ccff-4508-84e4-b305a7b52092",
                "language": "python"
            },
            "outputs": [],
            "source": [
                "#Load data \n",
                "demographic_batches= np.load('preprocessed_batches/batch_demographic.npy', allow_pickle = True)\n",
                "demographic = pd.DataFrame(np.load('preprocessed_batches/df_demographic.npy', allow_pickle=True), columns = [ 'id', 'sex', 'age', 'los', 'bmi', 'death', 'gcs'])\n",
                "df_hourly = pd.read_csv(r'C:\\Users\\USER\\OneDrive\\Summer_project\\Azure\\data\\preprocessed_mimic4_hour_std.csv', delimiter=',', index_col = 'stay_id')\n",
                "df_hourly = df_hourly.pivot_table(index = ['stay_id','hour_from_intime'], columns = 'feature_name', values = 'feature_mean_value')\n",
                "df_hourly = df_hourly.reset_index(level = 'stay_id')\n",
                "batches = create_batchs(df_hourly)\n",
                "df_hourly = df_hourly.drop(columns='stay_id')\n"
            ]
        },
        {
            "cell_type": "code",
            "execution_count": 6,
            "metadata": {
                "azdata_cell_guid": "6bc65b95-11d6-4092-bebe-73b1e9d9de0c",
                "language": "python"
            },
            "outputs": [
                {
                    "data": {
                        "text/plain": [
                            "(array([278., 181.,  82.,  80.,  49.,  40.,  36.,  26.,  19.,  19.,  20.,\n",
                            "         11.,   9.,  11.,  11.,   6.,   6.,   4.,   3.,   5.,   7.,   1.,\n",
                            "          2.,   4.,   5.,   2.,   2.,   0.,   4.,   0.,   0.,   0.,   0.,\n",
                            "          3.,   0.,   1.,   0.,   0.,   0.,   2.]),\n",
                            " array([2.0063425925925924, 2.955333333333333, 3.904324074074074,\n",
                            "        4.853314814814814, 5.802305555555555, 6.751296296296296,\n",
                            "        7.700287037037036, 8.649277777777776, 9.598268518518518,\n",
                            "        10.547259259259258, 11.496249999999998, 12.445240740740738,\n",
                            "        13.39423148148148, 14.34322222222222, 15.29221296296296,\n",
                            "        16.241203703703704, 17.190194444444444, 18.139185185185184,\n",
                            "        19.088175925925924, 20.037166666666664, 20.986157407407404,\n",
                            "        21.935148148148144, 22.884138888888884, 23.833129629629628,\n",
                            "        24.782120370370368, 25.731111111111108, 26.68010185185185,\n",
                            "        27.62909259259259, 28.57808333333333, 29.527074074074072,\n",
                            "        30.476064814814812, 31.425055555555552, 32.37404629629629,\n",
                            "        33.32303703703703, 34.27202777777778, 35.22101851851852,\n",
                            "        36.17000925925926, 37.119, 38.06799074074074, 39.01698148148148,\n",
                            "        39.96597222222222], dtype=object),\n",
                            " <BarContainer object of 40 artists>)"
                        ]
                    },
                    "execution_count": 6,
                    "metadata": {},
                    "output_type": "execute_result"
                },
                {
                    "data": {
                        "image/png": "[encoded data removed]",
                        "text/plain": [
                            "<Figure size 432x288 with 1 Axes>"
                        ]
                    },
                    "metadata": {
                        "needs_background": "light"
                    },
                    "output_type": "display_data"
                }
            ],
            "source": [
                "#LOS distribution \n",
                "plt.hist(demographic['los'], bins=40)"
            ]
        },
        {
            "cell_type": "code",
            "execution_count": 7,
            "metadata": {},
            "outputs": [
                {
                    "name": "stdout",
                    "output_type": "stream",
                    "text": [
                        "52\n"
                    ]
                }
            ],
            "source": [
                "#death rate in tBI severe\n",
                "demographic['severity'] = demographic.apply(lambda row: label_severity(row), axis=1)\n",
                "print(sum(demographic[demographic.severity == 'severe'].death))"
            ]
        },
        {
            "attachments": {},
            "cell_type": "markdown",
            "metadata": {
                "azdata_cell_guid": "0f08bd81-66c7-4979-b742-1c0ec51acf38",
                "language": "python"
            },
            "source": [
                "## Univariate analysis"
            ]
        },
        {
            "cell_type": "code",
            "execution_count": 8,
            "metadata": {
                "azdata_cell_guid": "4c860eea-ebb7-4386-a081-6fd178a77ee9",
                "language": "python"
            },
            "outputs": [
                {
                    "data": {
                        "text/plain": [
                            "[Text(0.5, 1.0, 'Repartition of the TBI severity (GCS) and the corresponding deaths (n = 929)')]"
                        ]
                    },
                    "execution_count": 8,
                    "metadata": {},
                    "output_type": "execute_result"
                },
                {
                    "data": {
                        "image/png": "[encoded data removed]",
                        "text/plain": [
                            "<Figure size 432x288 with 1 Axes>"
                        ]
                    },
                    "metadata": {
                        "needs_background": "light"
                    },
                    "output_type": "display_data"
                }
            ],
            "source": [
                "sns.histplot(data = demographic, x = \"gcs\", hue = \"death\", multiple=\"stack\", binwidth=0.7).set(title='Repartition of the TBI severity (GCS) and the corresponding deaths (n = 929)')"
            ]
        },
        {
            "cell_type": "code",
            "execution_count": 9,
            "metadata": {
                "azdata_cell_guid": "b0916b92-212c-4939-815f-4b9579606277",
                "language": "python"
            },
            "outputs": [
                {
                    "data": {
                        "text/plain": [
                            "<matplotlib.legend.Legend at 0x2ad862dbac0>"
                        ]
                    },
                    "execution_count": 9,
                    "metadata": {},
                    "output_type": "execute_result"
                },
                {
                    "data": {
                        "image/png": "[encoded data removed]",
                        "text/plain": [
                            "<Figure size 432x288 with 1 Axes>"
                        ]
                    },
                    "metadata": {
                        "needs_background": "light"
                    },
                    "output_type": "display_data"
                }
            ],
            "source": [
                "sns.histplot(data = demographic, x = \"gcs\", hue = \"sex\", multiple=\"dodge\", binwidth=0.5).set(title='Repartition of TBI severity by sex (n = 929)')\n",
                "plt.legend(labels = ['F', 'M'])"
            ]
        },
        {
            "cell_type": "code",
            "execution_count": 10,
            "metadata": {
                "azdata_cell_guid": "6c291eb2-a442-475a-a873-1b6e3b1b7f41",
                "language": "python"
            },
            "outputs": [
                {
                    "name": "stdout",
                    "output_type": "stream",
                    "text": [
                        "3.926226851851852\n"
                    ]
                },
                {
                    "data": {
                        "image/png": "[encoded data removed]",
                        "text/plain": [
                            "<Figure size 432x288 with 1 Axes>"
                        ]
                    },
                    "metadata": {
                        "needs_background": "light"
                    },
                    "output_type": "display_data"
                }
            ],
            "source": [
                "count, bins_count = np.histogram(demographic['los'], bins=40)\n",
                "pdf = count / sum(count)\n",
                "cdf = np.cumsum(pdf)\n",
                "plt.plot(bins_count[1:], pdf, color=\"red\", label=\"PDF\")\n",
                "plt.plot(bins_count[1:], cdf, label=\"CDF\")\n",
                "plt.legend()\n",
                "plt.grid()\n",
                "plt.title('CDF of the Length of Stay for TBI patients ')\n",
                "print(s.median(demographic['los']))"
            ]
        },
        {
            "cell_type": "code",
            "execution_count": 11,
            "metadata": {},
            "outputs": [
                {
                    "data": {
                        "text/plain": [
                            "<matplotlib.lines.Line2D at 0x2ad864ff1f0>"
                        ]
                    },
                    "execution_count": 11,
                    "metadata": {},
                    "output_type": "execute_result"
                },
                {
                    "data": {
                        "image/png": "[encoded data removed]",
                        "text/plain": [
                            "<Figure size 432x288 with 1 Axes>"
                        ]
                    },
                    "metadata": {
                        "needs_background": "light"
                    },
                    "output_type": "display_data"
                }
            ],
            "source": [
                "#LOS HIST\n",
                "fig, ax = plt.subplots()\n",
                "sns.histplot(data = demographic, x = \"los\", )\n",
                "ax.spines['top'].set_visible(False)\n",
                "ax.spines['right'].set_visible(False)\n",
                "plt.xlabel('Length of stay (days)')\n",
                "plt.axvline(x=demographic.los.mean(),\n",
                "            color='red')"
            ]
        },
        {
            "cell_type": "code",
            "execution_count": 12,
            "metadata": {},
            "outputs": [
                {
                    "data": {
                        "text/plain": [
                            "Text(0.5, 0, 'Length of stay (days)')"
                        ]
                    },
                    "execution_count": 12,
                    "metadata": {},
                    "output_type": "execute_result"
                },
                {
                    "data": {
                        "image/png": "[encoded data removed]",
                        "text/plain": [
                            "<Figure size 432x288 with 1 Axes>"
                        ]
                    },
                    "metadata": {
                        "needs_background": "light"
                    },
                    "output_type": "display_data"
                }
            ],
            "source": [
                "#LOS HIST + SEVERITY \n",
                "\n",
                "fig, ax = plt.subplots()\n",
                "sns.histplot(data = demographic, x = \"los\", hue = 'severity', multiple = \"stack\" )\n",
                "plt.legend(title='TBI severity', labels= ['Mild', 'Moderate', 'Severe'])\n",
                "\n",
                "ax.spines['top'].set_visible(False)\n",
                "ax.spines['right'].set_visible(False)\n",
                "plt.xlabel('Length of stay (days)')\n",
                "          \n"
            ]
        },
        {
            "attachments": {},
            "cell_type": "markdown",
            "metadata": {
                "azdata_cell_guid": "55f8795a-62ed-4977-98b1-7f585c33fb44",
                "language": "python"
            },
            "source": [
                "## Multivariate analysis"
            ]
        },
        {
            "cell_type": "code",
            "execution_count": 13,
            "metadata": {
                "azdata_cell_guid": "0c9abd75-ffe3-409c-9463-4331e06b7185",
                "language": "python"
            },
            "outputs": [
                {
                    "data": {
                        "application/vnd.plotly.v1+json": {
                            "config": {
                                "plotlyServerURL": "https://plot.ly"
                            },
                            "data": [
                                {
                                    "boxpoints": "all",
                                    "type": "box",
                                    "x": [
                                        0,
                                        0,
                                        0,
                                        0,
                                        0,
                                        0,
                                        0,
                                        0,
                                        0,
                                        0,
                                        0,
                                        0,
                                        1,
                                        0,
                                        0,
                                        0,
                                        0,
                                        0,
                                        0,
                                        0,
                                        0,
                                        0,
                                        0,
                                        0,
                                        0,
                                        0,
                                        0,
                                        1,
                                        0,
                                        0,
                                        0,
                                        0,
                                        0,
                                        0,
                                        0,
                                        0,
                                        1,
                                        0,
                                        0,
                                        0,
                                        0,
                                        0,
                                        0,
                                        0,
                                        0,
                                        0,
                                        0,
                                        0,
                                        0,
                                        0,
                                        0,
                                        0,
                                        0,
                                        1,
                                        0,
                                        0,
                                        0,
                                        0,
                                        0,
                                        0,
                                        0,
                                        0,
                                        0,
                                        1,
                                        0,
                                        0,
                                        0,
                                        0,
                                        1,
                                        0,
                                        0,
                                        0,
                                        0,
                                        1,
                                        0,
                                        1,
                                        0,
                                        0,
                                        0,
                                        0,
                                        0,
                                        0,
                                        0,
                                        0,
                                        1,
                                        0,
                                        0,
                                        0,
                                        0,
                                        0,
                                        0,
                                        0,
                                        0,
                                        0,
                                        0,
                                        0,
                                        0,
                                        0,
                                        0,
                                        0,
                                        0,
                                        0,
                                        0,
                                        0,
                                        0,
                                        0,
                                        0,
                                        0,
                                        1,
                                        0,
                                        0,
                                        0,
                                        0,
                                        0,
                                        0,
                                        1,
                                        0,
                                        0,
                                        0,
                                        0,
                                        0,
                                        0,
                                        0,
                                        0,
                                        0,
                                        1,
                                        0,
                                        1,
                                        0,
                                        0,
                                        0,
                                        0,
                                        0,
                                        0,
                                        0,
                                        0,
                                        0,
                                        1,
                                        0,
                                        0,
                                        0,
                                        0,
                                        0,
                                        0,
                                        0,
                                        0,
                                        0,
                                        0,
                                        0,
                                        0,
                                        0,
                                        0,
                                        0,
                                        0,
                                        0,
                                        0,
                                        0,
                                        0,
                                        0,
                                        0,
                                        0,
                                        0,
                                        0,
                                        0,
                                        0,
                                        0,
                                        0,
                                        1,
                                        0,
                                        0,
                                        0,
                                        0,
                                        1,
                                        0,
                                        0,
                                        0,
                                        0,
                                        0,
                                        0,
                                        0,
                                        0,
                                        0,
                                        0,
                                        0,
                                        0,
                                        0,
                                        0,
                                        0,
                                        0,
                                        0,
                                        0,
                                        0,
                                        0,
                                        0,
                                        1,
                                        1,
                                        0,
                                        1,
                                        0,
                                        0,
                                        0,
                                        1,
                                        0,
                                        0,
                                        0,
                                        0,
                                        0,
                                        0,
                                        0,
                                        0,
                                        0,
                                        0,
                                        0,
                                        0,
                                        0,
                                        0,
                                        0,
                                        0,
                                        0,
                                        0,
                                        0,
                                        0,
                                        0,
                                        0,
                                        0,
                                        0,
                                        0,
                                        0,
                                        0,
                                        0,
                                        0,
                                        0,
                                        0,
                                        0,
                                        0,
                                        1,
                                        1,
                                        0,
                                        0,
                                        1,
                                        0,
                                        0,
                                        0,
                                        0,
                                        0,
                                        1,
                                        0,
                                        0,
                                        0,
                                        0,
                                        1,
                                        0,
                                        0,
                                        0,
                                        0,
                                        0,
                                        0,
                                        0,
                                        0,
                                        0,
                                        0,
                                        0,
                                        0,
                                        0,
                                        0,
                                        0,
                                        1,
                                        0,
                                        0,
                                        0,
                                        0,
                                        0,
                                        0,
                                        0,
                                        0,
                                        0,
                                        0,
                                        0,
                                        0,
                                        0,
                                        0,
                                        0,
                                        0,
                                        0,
                                        0,
                                        0,
                                        0,
                                        0,
                                        0,
                                        0,
                                        0,
                                        0,
                                        0,
                                        0,
                                        0,
                                        0,
                                        0,
                                        0,
                                        0,
                                        0,
                                        0,
                                        0,
                                        0,
                                        0,
                                        0,
                                        0,
                                        0,
                                        0,
                                        0,
                                        0,
                                        0,
                                        0,
                                        0,
                                        1,
                                        0,
                                        0,
                                        0,
                                        0,
                                        0,
                                        0,
                                        0,
                                        0,
                                        0,
                                        0,
                                        0,
                                        0,
                                        0,
                                        0,
                                        0,
                                        0,
                                        0,
                                        1,
                                        0,
                                        0,
                                        0,
                                        0,
                                        0,
                                        1,
                                        0,
                                        0,
                                        0,
                                        0,
                                        0,
                                        0,
                                        0,
                                        1,
                                        0,
                                        0,
                                        0,
                                        0,
                                        0,
                                        0,
                                        0,
                                        0,
                                        0,
                                        0,
                                        0,
                                        0,
                                        0,
                                        0,
                                        0,
                                        0,
                                        0,
                                        0,
                                        0,
                                        0,
                                        0,
                                        0,
                                        0,
                                        0,
                                        0,
                                        1,
                                        0,
                                        0,
                                        0,
                                        0,
                                        0,
                                        1,
                                        1,
                                        0,
                                        0,
                                        0,
                                        0,
                                        0,
                                        0,
                                        0,
                                        0,
                                        0,
                                        0,
                                        0,
                                        0,
                                        1,
                                        0,
                                        1,
                                        0,
                                        0,
                                        0,
                                        0,
                                        0,
                                        0,
                                        0,
                                        0,
                                        0,
                                        0,
                                        0,
                                        0,
                                        0,
                                        0,
                                        0,
                                        0,
                                        0,
                                        0,
                                        0,
                                        1,
                                        1,
                                        0,
                                        0,
                                        0,
                                        1,
                                        0,
                                        0,
                                        0,
                                        0,
                                        0,
                                        0,
                                        0,
                                        0,
                                        0,
                                        0,
                                        1,
                                        0,
                                        0,
                                        0,
                                        0,
                                        0,
                                        0,
                                        0,
                                        0,
                                        0,
                                        0,
                                        0,
                                        0,
                                        0,
                                        0,
                                        0,
                                        0,
                                        0,
                                        0,
                                        0,
                                        0,
                                        0,
                                        0,
                                        0,
                                        0,
                                        0,
                                        0,
                                        0,
                                        0,
                                        0,
                                        0,
                                        0,
                                        0,
                                        0,
                                        1,
                                        0,
                                        0,
                                        0,
                                        0,
                                        0,
                                        0,
                                        0,
                                        0,
                                        0,
                                        0,
                                        0,
                                        0,
                                        0,
                                        0,
                                        0,
                                        1,
                                        0,
                                        0,
                                        0,
                                        0,
                                        0,
                                        0,
                                        0,
                                        0,
                                        0,
                                        1,
                                        0,
                                        0,
                                        0,
                                        0,
                                        0,
                                        0,
                                        0,
                                        0,
                                        0,
                                        0,
                                        0,
                                        0,
                                        0,
                                        0,
                                        0,
                                        0,
                                        1,
                                        0,
                                        0,
                                        0,
                                        0,
                                        0,
                                        0,
                                        0,
                                        0,
                                        0,
                                        0,
                                        0,
                                        0,
                                        1,
                                        0,
                                        0,
                                        0,
                                        1,
                                        1,
                                        0,
                                        0,
                                        0,
                                        0,
                                        0,
                                        0,
                                        0,
                                        0,
                                        0,
                                        0,
                                        0,
                                        0,
                                        0,
                                        0,
                                        0,
                                        0,
                                        0,
                                        0,
                                        0,
                                        1,
                                        0,
                                        1,
                                        0,
                                        0,
                                        0,
                                        0,
                                        0,
                                        0,
                                        1,
                                        0,
                                        0,
                                        0,
                                        0,
                                        0,
                                        0,
                                        0,
                                        0,
                                        1,
                                        0,
                                        0,
                                        0,
                                        0,
                                        0,
                                        0,
                                        0,
                                        0,
                                        0,
                                        0,
                                        0,
                                        0,
                                        0,
                                        0,
                                        0,
                                        0,
                                        0,
                                        0,
                                        0,
                                        0,
                                        0,
                                        0,
                                        0,
                                        0,
                                        0,
                                        0,
                                        1,
                                        0,
                                        0,
                                        1,
                                        0,
                                        0,
                                        0,
                                        1,
                                        0,
                                        0,
                                        0,
                                        0,
                                        0,
                                        0,
                                        0,
                                        0,
                                        0,
                                        0,
                                        0,
                                        0,
                                        0,
                                        1,
                                        0,
                                        0,
                                        0,
                                        0,
                                        0,
                                        0,
                                        0,
                                        0,
                                        0,
                                        0,
                                        0,
                                        0,
                                        0,
                                        0,
                                        0,
                                        0,
                                        0,
                                        0,
                                        0,
                                        0,
                                        0,
                                        0,
                                        0,
                                        0,
                                        0,
                                        0,
                                        1,
                                        0,
                                        1,
                                        0,
                                        0,
                                        0,
                                        0,
                                        0,
                                        0,
                                        0,
                                        1,
                                        0,
                                        0,
                                        0,
                                        0,
                                        0,
                                        0,
                                        0,
                                        0,
                                        1,
                                        0,
                                        0,
                                        0,
                                        0,
                                        0,
                                        0,
                                        0,
                                        0,
                                        1,
                                        0,
                                        0,
                                        0,
                                        1,
                                        0,
                                        0,
                                        0,
                                        0,
                                        0,
                                        0,
                                        0,
                                        0,
                                        0,
                                        0,
                                        0,
                                        0,
                                        1,
                                        1,
                                        1,
                                        0,
                                        0,
                                        0,
                                        0,
                                        1,
                                        0,
                                        0,
                                        1,
                                        0,
                                        0,
                                        0,
                                        1,
                                        0,
                                        0,
                                        0,
                                        0,
                                        0,
                                        0,
                                        0,
                                        0,
                                        0,
                                        0,
                                        0,
                                        0,
                                        0,
                                        0,
                                        0,
                                        0,
                                        0,
                                        1,
                                        0,
                                        0,
                                        0,
                                        0,
                                        1,
                                        0,
                                        0,
                                        0,
                                        0,
                                        0,
                                        1,
                                        0,
                                        0,
                                        0,
                                        0,
                                        1,
                                        0,
                                        0,
                                        0,
                                        0,
                                        0,
                                        0,
                                        0,
                                        1,
                                        0,
                                        0,
                                        0,
                                        1,
                                        0,
                                        0,
                                        0,
                                        0,
                                        0,
                                        0,
                                        0,
                                        0,
                                        0,
                                        0,
                                        0,
                                        0,
                                        0,
                                        0,
                                        0,
                                        0,
                                        0,
                                        0,
                                        0,
                                        0,
                                        0,
                                        1,
                                        0,
                                        0,
                                        1,
                                        0,
                                        0,
                                        0,
                                        0,
                                        0,
                                        0,
                                        0,
                                        1,
                                        0,
                                        0,
                                        0,
                                        0,
                                        0,
                                        0,
                                        0,
                                        1,
                                        0,
                                        0,
                                        0,
                                        0,
                                        0,
                                        0,
                                        0,
                                        0,
                                        0,
                                        0,
                                        0,
                                        0,
                                        0,
                                        0,
                                        0,
                                        0,
                                        1,
                                        0,
                                        0,
                                        0,
                                        0,
                                        0,
                                        1,
                                        0,
                                        0,
                                        0,
                                        0,
                                        0,
                                        0,
                                        1,
                                        0,
                                        0,
                                        0,
                                        0,
                                        0,
                                        1,
                                        0,
                                        0,
                                        0,
                                        0,
                                        0,
                                        0,
                                        1,
                                        1,
                                        0,
                                        1,
                                        0,
                                        0,
                                        0,
                                        0,
                                        0,
                                        0,
                                        0,
                                        0,
                                        0,
                                        0,
                                        0,
                                        0,
                                        0,
                                        0,
                                        0,
                                        0,
                                        0,
                                        0,
                                        0,
                                        0,
                                        0,
                                        0,
                                        0,
                                        0,
                                        1,
                                        0,
                                        0,
                                        1,
                                        0,
                                        1,
                                        0,
                                        0,
                                        0,
                                        0,
                                        0,
                                        0,
                                        0,
                                        0,
                                        0,
                                        0,
                                        1,
                                        0,
                                        0,
                                        0,
                                        1,
                                        0,
                                        0,
                                        0,
                                        1,
                                        0,
                                        0,
                                        0,
                                        1,
                                        0,
                                        1,
                                        0,
                                        0,
                                        0,
                                        0,
                                        0,
                                        0,
                                        0,
                                        0,
                                        1,
                                        0,
                                        0,
                                        0,
                                        0,
                                        0,
                                        0,
                                        0,
                                        0,
                                        0,
                                        1,
                                        0,
                                        1,
                                        0,
                                        0,
                                        0,
                                        0,
                                        1,
                                        0,
                                        0,
                                        0,
                                        0,
                                        0,
                                        0,
                                        0,
                                        0,
                                        0,
                                        0,
                                        0,
                                        0,
                                        0,
                                        0,
                                        0,
                                        0,
                                        0,
                                        0
                                    ],
                                    "y": [
                                        53,
                                        56,
                                        50,
                                        19,
                                        89,
                                        91,
                                        65,
                                        40,
                                        88,
                                        85,
                                        75,
                                        74,
                                        62,
                                        63,
                                        71,
                                        63,
                                        61,
                                        75,
                                        66,
                                        72,
                                        82,
                                        22,
                                        18,
                                        79,
                                        41,
                                        76,
                                        88,
                                        87,
                                        65,
                                        63,
                                        65,
                                        23,
                                        91,
                                        76,
                                        87,
                                        59,
                                        51,
                                        71,
                                        88,
                                        37,
                                        29,
                                        56,
                                        80,
                                        91,
                                        54,
                                        74,
                                        91,
                                        71,
                                        76,
                                        61,
                                        74,
                                        56,
                                        82,
                                        67,
                                        67,
                                        55,
                                        57,
                                        52,
                                        78,
                                        82,
                                        44,
                                        83,
                                        87,
                                        66,
                                        81,
                                        20,
                                        75,
                                        75,
                                        85,
                                        86,
                                        71,
                                        61,
                                        82,
                                        80,
                                        81,
                                        88,
                                        74,
                                        80,
                                        41,
                                        74,
                                        75,
                                        79,
                                        66,
                                        59,
                                        56,
                                        73,
                                        78,
                                        38,
                                        77,
                                        37,
                                        56,
                                        61,
                                        91,
                                        20,
                                        66,
                                        80,
                                        79,
                                        88,
                                        79,
                                        62,
                                        91,
                                        60,
                                        58,
                                        72,
                                        75,
                                        73,
                                        86,
                                        43,
                                        71,
                                        66,
                                        91,
                                        89,
                                        43,
                                        86,
                                        71,
                                        85,
                                        88,
                                        86,
                                        82,
                                        87,
                                        76,
                                        79,
                                        74,
                                        36,
                                        55,
                                        60,
                                        82,
                                        88,
                                        88,
                                        79,
                                        52,
                                        76,
                                        26,
                                        86,
                                        86,
                                        28,
                                        76,
                                        19,
                                        68,
                                        63,
                                        73,
                                        89,
                                        80,
                                        80,
                                        48,
                                        61,
                                        59,
                                        66,
                                        82,
                                        87,
                                        76,
                                        74,
                                        61,
                                        78,
                                        89,
                                        71,
                                        74,
                                        58,
                                        67,
                                        81,
                                        66,
                                        73,
                                        81,
                                        76,
                                        73,
                                        76,
                                        57,
                                        77,
                                        72,
                                        60,
                                        80,
                                        91,
                                        87,
                                        45,
                                        20,
                                        89,
                                        51,
                                        29,
                                        48,
                                        70,
                                        63,
                                        70,
                                        20,
                                        83,
                                        22,
                                        63,
                                        89,
                                        85,
                                        91,
                                        88,
                                        45,
                                        59,
                                        46,
                                        52,
                                        85,
                                        78,
                                        80,
                                        63,
                                        66,
                                        74,
                                        29,
                                        82,
                                        49,
                                        63,
                                        72,
                                        41,
                                        86,
                                        91,
                                        53,
                                        87,
                                        84,
                                        74,
                                        33,
                                        45,
                                        20,
                                        66,
                                        85,
                                        82,
                                        34,
                                        64,
                                        65,
                                        27,
                                        52,
                                        80,
                                        91,
                                        62,
                                        62,
                                        28,
                                        63,
                                        40,
                                        59,
                                        67,
                                        30,
                                        47,
                                        52,
                                        62,
                                        87,
                                        91,
                                        41,
                                        77,
                                        39,
                                        25,
                                        68,
                                        54,
                                        78,
                                        64,
                                        51,
                                        75,
                                        80,
                                        43,
                                        91,
                                        80,
                                        83,
                                        91,
                                        86,
                                        80,
                                        59,
                                        88,
                                        43,
                                        58,
                                        70,
                                        66,
                                        64,
                                        58,
                                        69,
                                        68,
                                        81,
                                        52,
                                        64,
                                        89,
                                        73,
                                        75,
                                        79,
                                        71,
                                        80,
                                        80,
                                        29,
                                        82,
                                        82,
                                        85,
                                        21,
                                        74,
                                        80,
                                        75,
                                        57,
                                        55,
                                        91,
                                        23,
                                        91,
                                        74,
                                        79,
                                        68,
                                        66,
                                        26,
                                        35,
                                        81,
                                        62,
                                        58,
                                        71,
                                        84,
                                        83,
                                        62,
                                        61,
                                        54,
                                        83,
                                        61,
                                        71,
                                        89,
                                        19,
                                        73,
                                        80,
                                        77,
                                        56,
                                        91,
                                        66,
                                        70,
                                        64,
                                        55,
                                        81,
                                        26,
                                        85,
                                        51,
                                        71,
                                        78,
                                        83,
                                        84,
                                        73,
                                        63,
                                        85,
                                        89,
                                        70,
                                        83,
                                        72,
                                        72,
                                        88,
                                        71,
                                        52,
                                        47,
                                        83,
                                        91,
                                        38,
                                        76,
                                        78,
                                        67,
                                        67,
                                        79,
                                        53,
                                        63,
                                        32,
                                        84,
                                        61,
                                        75,
                                        63,
                                        72,
                                        65,
                                        28,
                                        48,
                                        78,
                                        24,
                                        32,
                                        79,
                                        74,
                                        77,
                                        47,
                                        78,
                                        53,
                                        25,
                                        54,
                                        65,
                                        47,
                                        80,
                                        58,
                                        51,
                                        70,
                                        74,
                                        28,
                                        48,
                                        69,
                                        69,
                                        61,
                                        50,
                                        71,
                                        84,
                                        76,
                                        61,
                                        74,
                                        79,
                                        47,
                                        26,
                                        62,
                                        53,
                                        91,
                                        30,
                                        82,
                                        79,
                                        88,
                                        63,
                                        73,
                                        66,
                                        55,
                                        65,
                                        71,
                                        63,
                                        52,
                                        83,
                                        21,
                                        79,
                                        47,
                                        86,
                                        64,
                                        21,
                                        28,
                                        72,
                                        91,
                                        76,
                                        48,
                                        53,
                                        42,
                                        89,
                                        40,
                                        76,
                                        88,
                                        88,
                                        80,
                                        76,
                                        52,
                                        84,
                                        64,
                                        45,
                                        76,
                                        59,
                                        54,
                                        88,
                                        81,
                                        86,
                                        74,
                                        80,
                                        81,
                                        66,
                                        79,
                                        88,
                                        71,
                                        62,
                                        30,
                                        56,
                                        66,
                                        87,
                                        76,
                                        57,
                                        50,
                                        91,
                                        86,
                                        82,
                                        83,
                                        78,
                                        91,
                                        72,
                                        84,
                                        47,
                                        79,
                                        77,
                                        53,
                                        72,
                                        71,
                                        71,
                                        53,
                                        71,
                                        79,
                                        59,
                                        79,
                                        43,
                                        80,
                                        72,
                                        63,
                                        85,
                                        57,
                                        87,
                                        85,
                                        52,
                                        89,
                                        43,
                                        24,
                                        81,
                                        72,
                                        87,
                                        77,
                                        78,
                                        69,
                                        78,
                                        88,
                                        68,
                                        83,
                                        63,
                                        85,
                                        50,
                                        22,
                                        91,
                                        64,
                                        40,
                                        39,
                                        63,
                                        68,
                                        91,
                                        74,
                                        59,
                                        77,
                                        68,
                                        80,
                                        72,
                                        91,
                                        91,
                                        76,
                                        66,
                                        84,
                                        91,
                                        64,
                                        88,
                                        52,
                                        33,
                                        49,
                                        32,
                                        54,
                                        38,
                                        89,
                                        80,
                                        75,
                                        67,
                                        85,
                                        84,
                                        66,
                                        79,
                                        61,
                                        84,
                                        66,
                                        41,
                                        81,
                                        80,
                                        86,
                                        80,
                                        66,
                                        57,
                                        91,
                                        67,
                                        40,
                                        78,
                                        65,
                                        66,
                                        70,
                                        78,
                                        69,
                                        74,
                                        59,
                                        64,
                                        25,
                                        55,
                                        87,
                                        63,
                                        76,
                                        64,
                                        85,
                                        63,
                                        76,
                                        63,
                                        64,
                                        47,
                                        79,
                                        58,
                                        91,
                                        81,
                                        74,
                                        68,
                                        78,
                                        71,
                                        91,
                                        79,
                                        77,
                                        57,
                                        74,
                                        84,
                                        63,
                                        63,
                                        88,
                                        72,
                                        91,
                                        52,
                                        76,
                                        91,
                                        88,
                                        65,
                                        87,
                                        58,
                                        62,
                                        86,
                                        83,
                                        50,
                                        91,
                                        48,
                                        83,
                                        62,
                                        24,
                                        89,
                                        91,
                                        76,
                                        69,
                                        78,
                                        25,
                                        70,
                                        85,
                                        39,
                                        70,
                                        60,
                                        82,
                                        75,
                                        28,
                                        45,
                                        78,
                                        34,
                                        75,
                                        91,
                                        63,
                                        81,
                                        71,
                                        91,
                                        88,
                                        79,
                                        58,
                                        23,
                                        46,
                                        59,
                                        60,
                                        80,
                                        57,
                                        71,
                                        45,
                                        71,
                                        51,
                                        66,
                                        26,
                                        91,
                                        77,
                                        67,
                                        91,
                                        25,
                                        66,
                                        67,
                                        88,
                                        67,
                                        72,
                                        91,
                                        72,
                                        54,
                                        82,
                                        67,
                                        71,
                                        68,
                                        85,
                                        82,
                                        47,
                                        51,
                                        82,
                                        89,
                                        83,
                                        27,
                                        58,
                                        75,
                                        88,
                                        71,
                                        46,
                                        53,
                                        62,
                                        72,
                                        72,
                                        72,
                                        85,
                                        84,
                                        72,
                                        51,
                                        83,
                                        25,
                                        63,
                                        45,
                                        71,
                                        62,
                                        76,
                                        89,
                                        62,
                                        84,
                                        59,
                                        63,
                                        49,
                                        33,
                                        73,
                                        45,
                                        64,
                                        38,
                                        56,
                                        72,
                                        70,
                                        24,
                                        68,
                                        82,
                                        80,
                                        81,
                                        82,
                                        59,
                                        59,
                                        41,
                                        32,
                                        81,
                                        66,
                                        57,
                                        71,
                                        69,
                                        69,
                                        77,
                                        91,
                                        84,
                                        80,
                                        53,
                                        77,
                                        56,
                                        88,
                                        55,
                                        76,
                                        91,
                                        29,
                                        37,
                                        64,
                                        88,
                                        83,
                                        78,
                                        78,
                                        74,
                                        75,
                                        89,
                                        42,
                                        83,
                                        63,
                                        56,
                                        80,
                                        23,
                                        55,
                                        61,
                                        91,
                                        53,
                                        91,
                                        74,
                                        82,
                                        91,
                                        86,
                                        46,
                                        77,
                                        28,
                                        53,
                                        76,
                                        91,
                                        77,
                                        37,
                                        68,
                                        76,
                                        65,
                                        62,
                                        88,
                                        84,
                                        85,
                                        63,
                                        45,
                                        53,
                                        85,
                                        76,
                                        71,
                                        41,
                                        78,
                                        68,
                                        53,
                                        59,
                                        62,
                                        55,
                                        65,
                                        82,
                                        87,
                                        65,
                                        91,
                                        80,
                                        45,
                                        46,
                                        76,
                                        55,
                                        72,
                                        82,
                                        39,
                                        81,
                                        82,
                                        19,
                                        85,
                                        64,
                                        77,
                                        61,
                                        55,
                                        89,
                                        30,
                                        85,
                                        55,
                                        68,
                                        72,
                                        42,
                                        66,
                                        64,
                                        91,
                                        70,
                                        82,
                                        64,
                                        55,
                                        73,
                                        56,
                                        30,
                                        62,
                                        52,
                                        91,
                                        55,
                                        72,
                                        91,
                                        80,
                                        76,
                                        71,
                                        69,
                                        91,
                                        80,
                                        91,
                                        68,
                                        82,
                                        63,
                                        61,
                                        80,
                                        76,
                                        59,
                                        81,
                                        76,
                                        41,
                                        68,
                                        91,
                                        51,
                                        91,
                                        53,
                                        47,
                                        56,
                                        66,
                                        82,
                                        52,
                                        76,
                                        79,
                                        55,
                                        79,
                                        80,
                                        84,
                                        80,
                                        50,
                                        56,
                                        84,
                                        73,
                                        50,
                                        74,
                                        80,
                                        66,
                                        45,
                                        19,
                                        72,
                                        60,
                                        67,
                                        22,
                                        45,
                                        72,
                                        50,
                                        63,
                                        64,
                                        67,
                                        55,
                                        91,
                                        82,
                                        91,
                                        66,
                                        79,
                                        19,
                                        88,
                                        72,
                                        57,
                                        59,
                                        76,
                                        51,
                                        91,
                                        61,
                                        91,
                                        26,
                                        74,
                                        47,
                                        62,
                                        83,
                                        61,
                                        61,
                                        42,
                                        76,
                                        67,
                                        55,
                                        82,
                                        73,
                                        79,
                                        86,
                                        88,
                                        80,
                                        48,
                                        51,
                                        91,
                                        82,
                                        71,
                                        82,
                                        55,
                                        74,
                                        85,
                                        69,
                                        57,
                                        18,
                                        61,
                                        66,
                                        91,
                                        24,
                                        66,
                                        76,
                                        61,
                                        79
                                    ]
                                }
                            ],
                            "layout": {
                                "template": {
                                    "data": {
                                        "bar": [
                                            {
                                                "error_x": {
                                                    "color": "#2a3f5f"
                                                },
                                                "error_y": {
                                                    "color": "#2a3f5f"
                                                },
                                                "marker": {
                                                    "line": {
                                                        "color": "#E5ECF6",
                                                        "width": 0.5
                                                    },
                                                    "pattern": {
                                                        "fillmode": "overlay",
                                                        "size": 10,
                                                        "solidity": 0.2
                                                    }
                                                },
                                                "type": "bar"
                                            }
                                        ],
                                        "barpolar": [
                                            {
                                                "marker": {
                                                    "line": {
                                                        "color": "#E5ECF6",
                                                        "width": 0.5
                                                    },
                                                    "pattern": {
                                                        "fillmode": "overlay",
                                                        "size": 10,
                                                        "solidity": 0.2
                                                    }
                                                },
                                                "type": "barpolar"
                                            }
                                        ],
                                        "carpet": [
                                            {
                                                "aaxis": {
                                                    "endlinecolor": "#2a3f5f",
                                                    "gridcolor": "white",
                                                    "linecolor": "white",
                                                    "minorgridcolor": "white",
                                                    "startlinecolor": "#2a3f5f"
                                                },
                                                "baxis": {
                                                    "endlinecolor": "#2a3f5f",
                                                    "gridcolor": "white",
                                                    "linecolor": "white",
                                                    "minorgridcolor": "white",
                                                    "startlinecolor": "#2a3f5f"
                                                },
                                                "type": "carpet"
                                            }
                                        ],
                                        "choropleth": [
                                            {
                                                "colorbar": {
                                                    "outlinewidth": 0,
                                                    "ticks": ""
                                                },
                                                "type": "choropleth"
                                            }
                                        ],
                                        "contour": [
                                            {
                                                "colorbar": {
                                                    "outlinewidth": 0,
                                                    "ticks": ""
                                                },
                                                "colorscale": [
                                                    [
                                                        0,
                                                        "#0d0887"
                                                    ],
                                                    [
                                                        0.1111111111111111,
                                                        "#46039f"
                                                    ],
                                                    [
                                                        0.2222222222222222,
                                                        "#7201a8"
                                                    ],
                                                    [
                                                        0.3333333333333333,
                                                        "#9c179e"
                                                    ],
                                                    [
                                                        0.4444444444444444,
                                                        "#bd3786"
                                                    ],
                                                    [
                                                        0.5555555555555556,
                                                        "#d8576b"
                                                    ],
                                                    [
                                                        0.6666666666666666,
                                                        "#ed7953"
                                                    ],
                                                    [
                                                        0.7777777777777778,
                                                        "#fb9f3a"
                                                    ],
                                                    [
                                                        0.8888888888888888,
                                                        "#fdca26"
                                                    ],
                                                    [
                                                        1,
                                                        "#f0f921"
                                                    ]
                                                ],
                                                "type": "contour"
                                            }
                                        ],
                                        "contourcarpet": [
                                            {
                                                "colorbar": {
                                                    "outlinewidth": 0,
                                                    "ticks": ""
                                                },
                                                "type": "contourcarpet"
                                            }
                                        ],
                                        "heatmap": [
                                            {
                                                "colorbar": {
                                                    "outlinewidth": 0,
                                                    "ticks": ""
                                                },
                                                "colorscale": [
                                                    [
                                                        0,
                                                        "#0d0887"
                                                    ],
                                                    [
                                                        0.1111111111111111,
                                                        "#46039f"
                                                    ],
                                                    [
                                                        0.2222222222222222,
                                                        "#7201a8"
                                                    ],
                                                    [
                                                        0.3333333333333333,
                                                        "#9c179e"
                                                    ],
                                                    [
                                                        0.4444444444444444,
                                                        "#bd3786"
                                                    ],
                                                    [
                                                        0.5555555555555556,
                                                        "#d8576b"
                                                    ],
                                                    [
                                                        0.6666666666666666,
                                                        "#ed7953"
                                                    ],
                                                    [
                                                        0.7777777777777778,
                                                        "#fb9f3a"
                                                    ],
                                                    [
                                                        0.8888888888888888,
                                                        "#fdca26"
                                                    ],
                                                    [
                                                        1,
                                                        "#f0f921"
                                                    ]
                                                ],
                                                "type": "heatmap"
                                            }
                                        ],
                                        "heatmapgl": [
                                            {
                                                "colorbar": {
                                                    "outlinewidth": 0,
                                                    "ticks": ""
                                                },
                                                "colorscale": [
                                                    [
                                                        0,
                                                        "#0d0887"
                                                    ],
                                                    [
                                                        0.1111111111111111,
                                                        "#46039f"
                                                    ],
                                                    [
                                                        0.2222222222222222,
                                                        "#7201a8"
                                                    ],
                                                    [
                                                        0.3333333333333333,
                                                        "#9c179e"
                                                    ],
                                                    [
                                                        0.4444444444444444,
                                                        "#bd3786"
                                                    ],
                                                    [
                                                        0.5555555555555556,
                                                        "#d8576b"
                                                    ],
                                                    [
                                                        0.6666666666666666,
                                                        "#ed7953"
                                                    ],
                                                    [
                                                        0.7777777777777778,
                                                        "#fb9f3a"
                                                    ],
                                                    [
                                                        0.8888888888888888,
                                                        "#fdca26"
                                                    ],
                                                    [
                                                        1,
                                                        "#f0f921"
                                                    ]
                                                ],
                                                "type": "heatmapgl"
                                            }
                                        ],
                                        "histogram": [
                                            {
                                                "marker": {
                                                    "pattern": {
                                                        "fillmode": "overlay",
                                                        "size": 10,
                                                        "solidity": 0.2
                                                    }
                                                },
                                                "type": "histogram"
                                            }
                                        ],
                                        "histogram2d": [
                                            {
                                                "colorbar": {
                                                    "outlinewidth": 0,
                                                    "ticks": ""
                                                },
                                                "colorscale": [
                                                    [
                                                        0,
                                                        "#0d0887"
                                                    ],
                                                    [
                                                        0.1111111111111111,
                                                        "#46039f"
                                                    ],
                                                    [
                                                        0.2222222222222222,
                                                        "#7201a8"
                                                    ],
                                                    [
                                                        0.3333333333333333,
                                                        "#9c179e"
                                                    ],
                                                    [
                                                        0.4444444444444444,
                                                        "#bd3786"
                                                    ],
                                                    [
                                                        0.5555555555555556,
                                                        "#d8576b"
                                                    ],
                                                    [
                                                        0.6666666666666666,
                                                        "#ed7953"
                                                    ],
                                                    [
                                                        0.7777777777777778,
                                                        "#fb9f3a"
                                                    ],
                                                    [
                                                        0.8888888888888888,
                                                        "#fdca26"
                                                    ],
                                                    [
                                                        1,
                                                        "#f0f921"
                                                    ]
                                                ],
                                                "type": "histogram2d"
                                            }
                                        ],
                                        "histogram2dcontour": [
                                            {
                                                "colorbar": {
                                                    "outlinewidth": 0,
                                                    "ticks": ""
                                                },
                                                "colorscale": [
                                                    [
                                                        0,
                                                        "#0d0887"
                                                    ],
                                                    [
                                                        0.1111111111111111,
                                                        "#46039f"
                                                    ],
                                                    [
                                                        0.2222222222222222,
                                                        "#7201a8"
                                                    ],
                                                    [
                                                        0.3333333333333333,
                                                        "#9c179e"
                                                    ],
                                                    [
                                                        0.4444444444444444,
                                                        "#bd3786"
                                                    ],
                                                    [
                                                        0.5555555555555556,
                                                        "#d8576b"
                                                    ],
                                                    [
                                                        0.6666666666666666,
                                                        "#ed7953"
                                                    ],
                                                    [
                                                        0.7777777777777778,
                                                        "#fb9f3a"
                                                    ],
                                                    [
                                                        0.8888888888888888,
                                                        "#fdca26"
                                                    ],
                                                    [
                                                        1,
                                                        "#f0f921"
                                                    ]
                                                ],
                                                "type": "histogram2dcontour"
                                            }
                                        ],
                                        "mesh3d": [
                                            {
                                                "colorbar": {
                                                    "outlinewidth": 0,
                                                    "ticks": ""
                                                },
                                                "type": "mesh3d"
                                            }
                                        ],
                                        "parcoords": [
                                            {
                                                "line": {
                                                    "colorbar": {
                                                        "outlinewidth": 0,
                                                        "ticks": ""
                                                    }
                                                },
                                                "type": "parcoords"
                                            }
                                        ],
                                        "pie": [
                                            {
                                                "automargin": true,
                                                "type": "pie"
                                            }
                                        ],
                                        "scatter": [
                                            {
                                                "fillpattern": {
                                                    "fillmode": "overlay",
                                                    "size": 10,
                                                    "solidity": 0.2
                                                },
                                                "type": "scatter"
                                            }
                                        ],
                                        "scatter3d": [
                                            {
                                                "line": {
                                                    "colorbar": {
                                                        "outlinewidth": 0,
                                                        "ticks": ""
                                                    }
                                                },
                                                "marker": {
                                                    "colorbar": {
                                                        "outlinewidth": 0,
                                                        "ticks": ""
                                                    }
                                                },
                                                "type": "scatter3d"
                                            }
                                        ],
                                        "scattercarpet": [
                                            {
                                                "marker": {
                                                    "colorbar": {
                                                        "outlinewidth": 0,
                                                        "ticks": ""
                                                    }
                                                },
                                                "type": "scattercarpet"
                                            }
                                        ],
                                        "scattergeo": [
                                            {
                                                "marker": {
                                                    "colorbar": {
                                                        "outlinewidth": 0,
                                                        "ticks": ""
                                                    }
                                                },
                                                "type": "scattergeo"
                                            }
                                        ],
                                        "scattergl": [
                                            {
                                                "marker": {
                                                    "colorbar": {
                                                        "outlinewidth": 0,
                                                        "ticks": ""
                                                    }
                                                },
                                                "type": "scattergl"
                                            }
                                        ],
                                        "scattermapbox": [
                                            {
                                                "marker": {
                                                    "colorbar": {
                                                        "outlinewidth": 0,
                                                        "ticks": ""
                                                    }
                                                },
                                                "type": "scattermapbox"
                                            }
                                        ],
                                        "scatterpolar": [
                                            {
                                                "marker": {
                                                    "colorbar": {
                                                        "outlinewidth": 0,
                                                        "ticks": ""
                                                    }
                                                },
                                                "type": "scatterpolar"
                                            }
                                        ],
                                        "scatterpolargl": [
                                            {
                                                "marker": {
                                                    "colorbar": {
                                                        "outlinewidth": 0,
                                                        "ticks": ""
                                                    }
                                                },
                                                "type": "scatterpolargl"
                                            }
                                        ],
                                        "scatterternary": [
                                            {
                                                "marker": {
                                                    "colorbar": {
                                                        "outlinewidth": 0,
                                                        "ticks": ""
                                                    }
                                                },
                                                "type": "scatterternary"
                                            }
                                        ],
                                        "surface": [
                                            {
                                                "colorbar": {
                                                    "outlinewidth": 0,
                                                    "ticks": ""
                                                },
                                                "colorscale": [
                                                    [
                                                        0,
                                                        "#0d0887"
                                                    ],
                                                    [
                                                        0.1111111111111111,
                                                        "#46039f"
                                                    ],
                                                    [
                                                        0.2222222222222222,
                                                        "#7201a8"
                                                    ],
                                                    [
                                                        0.3333333333333333,
                                                        "#9c179e"
                                                    ],
                                                    [
                                                        0.4444444444444444,
                                                        "#bd3786"
                                                    ],
                                                    [
                                                        0.5555555555555556,
                                                        "#d8576b"
                                                    ],
                                                    [
                                                        0.6666666666666666,
                                                        "#ed7953"
                                                    ],
                                                    [
                                                        0.7777777777777778,
                                                        "#fb9f3a"
                                                    ],
                                                    [
                                                        0.8888888888888888,
                                                        "#fdca26"
                                                    ],
                                                    [
                                                        1,
                                                        "#f0f921"
                                                    ]
                                                ],
                                                "type": "surface"
                                            }
                                        ],
                                        "table": [
                                            {
                                                "cells": {
                                                    "fill": {
                                                        "color": "#EBF0F8"
                                                    },
                                                    "line": {
                                                        "color": "white"
                                                    }
                                                },
                                                "header": {
                                                    "fill": {
                                                        "color": "#C8D4E3"
                                                    },
                                                    "line": {
                                                        "color": "white"
                                                    }
                                                },
                                                "type": "table"
                                            }
                                        ]
                                    },
                                    "layout": {
                                        "annotationdefaults": {
                                            "arrowcolor": "#2a3f5f",
                                            "arrowhead": 0,
                                            "arrowwidth": 1
                                        },
                                        "autotypenumbers": "strict",
                                        "coloraxis": {
                                            "colorbar": {
                                                "outlinewidth": 0,
                                                "ticks": ""
                                            }
                                        },
                                        "colorscale": {
                                            "diverging": [
                                                [
                                                    0,
                                                    "#8e0152"
                                                ],
                                                [
                                                    0.1,
                                                    "#c51b7d"
                                                ],
                                                [
                                                    0.2,
                                                    "#de77ae"
                                                ],
                                                [
                                                    0.3,
                                                    "#f1b6da"
                                                ],
                                                [
                                                    0.4,
                                                    "#fde0ef"
                                                ],
                                                [
                                                    0.5,
                                                    "#f7f7f7"
                                                ],
                                                [
                                                    0.6,
                                                    "#e6f5d0"
                                                ],
                                                [
                                                    0.7,
                                                    "#b8e186"
                                                ],
                                                [
                                                    0.8,
                                                    "#7fbc41"
                                                ],
                                                [
                                                    0.9,
                                                    "#4d9221"
                                                ],
                                                [
                                                    1,
                                                    "#276419"
                                                ]
                                            ],
                                            "sequential": [
                                                [
                                                    0,
                                                    "#0d0887"
                                                ],
                                                [
                                                    0.1111111111111111,
                                                    "#46039f"
                                                ],
                                                [
                                                    0.2222222222222222,
                                                    "#7201a8"
                                                ],
                                                [
                                                    0.3333333333333333,
                                                    "#9c179e"
                                                ],
                                                [
                                                    0.4444444444444444,
                                                    "#bd3786"
                                                ],
                                                [
                                                    0.5555555555555556,
                                                    "#d8576b"
                                                ],
                                                [
                                                    0.6666666666666666,
                                                    "#ed7953"
                                                ],
                                                [
                                                    0.7777777777777778,
                                                    "#fb9f3a"
                                                ],
                                                [
                                                    0.8888888888888888,
                                                    "#fdca26"
                                                ],
                                                [
                                                    1,
                                                    "#f0f921"
                                                ]
                                            ],
                                            "sequentialminus": [
                                                [
                                                    0,
                                                    "#0d0887"
                                                ],
                                                [
                                                    0.1111111111111111,
                                                    "#46039f"
                                                ],
                                                [
                                                    0.2222222222222222,
                                                    "#7201a8"
                                                ],
                                                [
                                                    0.3333333333333333,
                                                    "#9c179e"
                                                ],
                                                [
                                                    0.4444444444444444,
                                                    "#bd3786"
                                                ],
                                                [
                                                    0.5555555555555556,
                                                    "#d8576b"
                                                ],
                                                [
                                                    0.6666666666666666,
                                                    "#ed7953"
                                                ],
                                                [
                                                    0.7777777777777778,
                                                    "#fb9f3a"
                                                ],
                                                [
                                                    0.8888888888888888,
                                                    "#fdca26"
                                                ],
                                                [
                                                    1,
                                                    "#f0f921"
                                                ]
                                            ]
                                        },
                                        "colorway": [
                                            "#636efa",
                                            "#EF553B",
                                            "#00cc96",
                                            "#ab63fa",
                                            "#FFA15A",
                                            "#19d3f3",
                                            "#FF6692",
                                            "#B6E880",
                                            "#FF97FF",
                                            "#FECB52"
                                        ],
                                        "font": {
                                            "color": "#2a3f5f"
                                        },
                                        "geo": {
                                            "bgcolor": "white",
                                            "lakecolor": "white",
                                            "landcolor": "#E5ECF6",
                                            "showlakes": true,
                                            "showland": true,
                                            "subunitcolor": "white"
                                        },
                                        "hoverlabel": {
                                            "align": "left"
                                        },
                                        "hovermode": "closest",
                                        "mapbox": {
                                            "style": "light"
                                        },
                                        "paper_bgcolor": "white",
                                        "plot_bgcolor": "#E5ECF6",
                                        "polar": {
                                            "angularaxis": {
                                                "gridcolor": "white",
                                                "linecolor": "white",
                                                "ticks": ""
                                            },
                                            "bgcolor": "#E5ECF6",
                                            "radialaxis": {
                                                "gridcolor": "white",
                                                "linecolor": "white",
                                                "ticks": ""
                                            }
                                        },
                                        "scene": {
                                            "xaxis": {
                                                "backgroundcolor": "#E5ECF6",
                                                "gridcolor": "white",
                                                "gridwidth": 2,
                                                "linecolor": "white",
                                                "showbackground": true,
                                                "ticks": "",
                                                "zerolinecolor": "white"
                                            },
                                            "yaxis": {
                                                "backgroundcolor": "#E5ECF6",
                                                "gridcolor": "white",
                                                "gridwidth": 2,
                                                "linecolor": "white",
                                                "showbackground": true,
                                                "ticks": "",
                                                "zerolinecolor": "white"
                                            },
                                            "zaxis": {
                                                "backgroundcolor": "#E5ECF6",
                                                "gridcolor": "white",
                                                "gridwidth": 2,
                                                "linecolor": "white",
                                                "showbackground": true,
                                                "ticks": "",
                                                "zerolinecolor": "white"
                                            }
                                        },
                                        "shapedefaults": {
                                            "line": {
                                                "color": "#2a3f5f"
                                            }
                                        },
                                        "ternary": {
                                            "aaxis": {
                                                "gridcolor": "white",
                                                "linecolor": "white",
                                                "ticks": ""
                                            },
                                            "baxis": {
                                                "gridcolor": "white",
                                                "linecolor": "white",
                                                "ticks": ""
                                            },
                                            "bgcolor": "#E5ECF6",
                                            "caxis": {
                                                "gridcolor": "white",
                                                "linecolor": "white",
                                                "ticks": ""
                                            }
                                        },
                                        "title": {
                                            "x": 0.05
                                        },
                                        "xaxis": {
                                            "automargin": true,
                                            "gridcolor": "white",
                                            "linecolor": "white",
                                            "ticks": "",
                                            "title": {
                                                "standoff": 15
                                            },
                                            "zerolinecolor": "white",
                                            "zerolinewidth": 2
                                        },
                                        "yaxis": {
                                            "automargin": true,
                                            "gridcolor": "white",
                                            "linecolor": "white",
                                            "ticks": "",
                                            "title": {
                                                "standoff": 15
                                            },
                                            "zerolinecolor": "white",
                                            "zerolinewidth": 2
                                        }
                                    }
                                },
                                "xaxis": {
                                    "title": {
                                        "text": "Deaths repartition -  0 = stayed alive during the ICU stay, 1 = died during the ICU stay - N = 614"
                                    }
                                },
                                "yaxis": {
                                    "title": {
                                        "text": "Age in years"
                                    }
                                }
                            }
                        }
                    },
                    "metadata": {},
                    "output_type": "display_data"
                }
            ],
            "source": [
                "fig = go.Figure()\n",
                "fig.add_trace(go.Box( y = demographic['age'], x= demographic['death'], boxpoints='all'))\n",
                "fig.update_layout(xaxis_title='Deaths repartition -  0 = stayed alive during the ICU stay, 1 = died during the ICU stay - N = 614', yaxis_title = \"Age in years\")\n"
            ]
        },
        {
            "cell_type": "code",
            "execution_count": 14,
            "metadata": {
                "azdata_cell_guid": "c3c9e54e-8053-4f3d-ae2b-5990dea6a0e2",
                "language": "python"
            },
            "outputs": [
                {
                    "data": {
                        "text/plain": [
                            "[Text(0.5, 1.0, 'Repartition of the TBI severity (GCS) and the corresponding deaths')]"
                        ]
                    },
                    "execution_count": 14,
                    "metadata": {},
                    "output_type": "execute_result"
                },
                {
                    "data": {
                        "image/png": "[encoded data removed]",
                        "text/plain": [
                            "<Figure size 432x288 with 1 Axes>"
                        ]
                    },
                    "metadata": {
                        "needs_background": "light"
                    },
                    "output_type": "display_data"
                }
            ],
            "source": [
                "#analysis of death and length of stay \n",
                "sns.histplot(data = demographic, x = \"los\", hue = \"death\", multiple=\"stack\", binwidth=0.7).set(title='Repartition of the TBI severity (GCS) and the corresponding deaths')\n"
            ]
        },
        {
            "cell_type": "code",
            "execution_count": 30,
            "metadata": {},
            "outputs": [
                {
                    "name": "stdout",
                    "output_type": "stream",
                    "text": [
                        "(16.765971284302196, 0.11499122106773009, 11, array([[  5.30462863,   8.69537137],\n",
                        "       [  2.27341227,   3.72658773],\n",
                        "       [  6.44133477,  10.55866523],\n",
                        "       [ 17.42949408,  28.57050592],\n",
                        "       [ 24.24973089,  39.75026911],\n",
                        "       [ 61.38213132, 100.61786868],\n",
                        "       [104.19806243, 170.80193757],\n",
                        "       [ 45.08934338,  73.91065662],\n",
                        "       [ 30.69106566,  50.30893434],\n",
                        "       [ 27.6598493 ,  45.3401507 ],\n",
                        "       [ 20.46071044,  33.53928956],\n",
                        "       [  6.82023681,  11.17976319]]))\n"
                    ]
                }
            ],
            "source": [
                "#chi square test \n",
                "import scipy.stats as stats\n",
                "crosstab = pd.crosstab(demographic[\"gcs\"], demographic[\"sex\"])\n",
                "print(stats.chi2_contingency(crosstab))\n",
                "\n"
            ]
        },
        {
            "cell_type": "code",
            "execution_count": 8,
            "metadata": {},
            "outputs": [
                {
                    "name": "stdout",
                    "output_type": "stream",
                    "text": [
                        "          ABPd        ABPm        ABPs          HR  ICP         RR       SpO2\n",
                        "0          NaN         NaN         NaN   73.986486  NaN  15.662162  97.685446\n",
                        "1          NaN         NaN         NaN   74.022388  NaN  22.030303  97.354839\n",
                        "2          NaN         NaN         NaN   87.528053  NaN  24.031509  96.151667\n",
                        "3    87.958274  110.684397  143.103664  115.628324  NaN  19.055233  99.265625\n",
                        "4    61.042735   84.825643  126.849439   85.780445  NaN  22.945557  99.864264\n",
                        "..         ...         ...         ...         ...  ...        ...        ...\n",
                        "924        NaN         NaN         NaN  100.895000  NaN  23.297872  98.189024\n",
                        "925  74.208589   89.308642  109.911043  106.181106  NaN  18.486250  97.033159\n",
                        "926  77.500000  100.150000  138.884615   90.677449  NaN  22.225676  98.057670\n",
                        "927        NaN   -7.500000         NaN   81.452439  NaN  17.285366  96.967073\n",
                        "928        NaN         NaN         NaN   83.357065  NaN  22.828445  99.069652\n",
                        "\n",
                        "[929 rows x 7 columns]\n"
                    ]
                },
                {
                    "data": {
                        "text/plain": [
                            "<AxesSubplot:xlabel='HR', ylabel='Count'>"
                        ]
                    },
                    "execution_count": 8,
                    "metadata": {},
                    "output_type": "execute_result"
                },
                {
                    "data": {
                        "image/png": "[encoded data removed]",
                        "text/plain": [
                            "<Figure size 432x288 with 1 Axes>"
                        ]
                    },
                    "metadata": {
                        "needs_background": "light"
                    },
                    "output_type": "display_data"
                }
            ],
            "source": [
                "#LOS/death analysis \n",
                "\n",
                "fig, ax = plt.subplots()\n",
                "plt.rcdefaults() \n",
                "plt.style.use(['seaborn-paper', 'seaborn-colorblind'])\n",
                "means = pd.DataFrame(columns=['ABPd', 'ABPm', 'ABPs', 'HR', 'ICP', 'RR', 'SpO2'])\n",
                "means.ABPm = [np.mean(batches[i]['ABPm']) for i in range(len(batches))]\n",
                "means.ABPd = [np.mean(batches[i]['ABPd']) for i in range(len(batches))]\n",
                "means.ABPs = [np.mean(batches[i]['ABPs']) for i in range(len(batches))]\n",
                "means.HR = [np.mean(batches[i]['HR']) for i in range(len(batches))]\n",
                "means.RR = [np.mean(batches[i]['RR']) for i in range(len(batches))]\n",
                "means.ICP = [np.mean(batches[i]['ICP']) for i in range(len(batches))]\n",
                "means.SpO2 = [np.mean(batches[i]['SpO2']) for i in range(len(batches))]\n",
                "\n",
                "\n",
                "\n",
                "ax.spines['top'].set_visible(False)\n",
                "ax.spines['right'].set_visible(False)\n",
                "print(means)\n",
                "plt.xlim(20,200)\n",
                "sns.histplot(data = demographic, x = means.HR, hue = demographic.death, binwidth=3, multiple=\"stack\")\n"
            ]
        },
        {
            "cell_type": "code",
            "execution_count": 9,
            "metadata": {},
            "outputs": [
                {
                    "name": "stdout",
                    "output_type": "stream",
                    "text": [
                        "feature_name  hour_from_intime   ABPd   ABPm    ABPs          HR  ICP  \\\n",
                        "74                           1    NaN    NaN     NaN   97.000000  NaN   \n",
                        "141                          1    NaN    NaN     NaN   86.000000  NaN   \n",
                        "344                          1  97.75  122.5  156.25  106.500000  NaN   \n",
                        "726                          1    NaN    NaN     NaN   71.000000  NaN   \n",
                        "1049                         1    NaN    NaN     NaN   89.333333  NaN   \n",
                        "...                        ...    ...    ...     ...         ...  ...   \n",
                        "131545                       1    NaN    NaN     NaN  111.250000  NaN   \n",
                        "131596                       1    NaN    NaN     NaN   95.333333  NaN   \n",
                        "131803                       1    NaN    NaN     NaN   99.500000  NaN   \n",
                        "132100                       1    NaN    NaN     NaN   98.500000  NaN   \n",
                        "132181                       1    NaN    NaN     NaN   91.000000  NaN   \n",
                        "\n",
                        "feature_name         RR        SpO2  \n",
                        "74            19.500000   99.000000  \n",
                        "141           21.333333   99.666667  \n",
                        "344           17.500000  100.000000  \n",
                        "726           21.000000   90.000000  \n",
                        "1049          15.000000   94.666667  \n",
                        "...                 ...         ...  \n",
                        "131545        18.000000   99.750000  \n",
                        "131596        17.000000   98.333333  \n",
                        "131803        25.000000   99.000000  \n",
                        "132100        24.000000   99.000000  \n",
                        "132181        25.000000   99.000000  \n",
                        "\n",
                        "[620 rows x 8 columns]\n"
                    ]
                },
                {
                    "data": {
                        "text/plain": [
                            "<matplotlib.legend.Legend at 0x204d7e1f370>"
                        ]
                    },
                    "execution_count": 9,
                    "metadata": {},
                    "output_type": "execute_result"
                },
                {
                    "data": {
                        "image/png": "[encoded data removed]",
                        "text/plain": [
                            "<Figure size 640x440 with 1 Axes>"
                        ]
                    },
                    "metadata": {},
                    "output_type": "display_data"
                },
                {
                    "data": {
                        "image/png": "[encoded data removed]",
                        "text/plain": [
                            "<Figure size 640x440 with 1 Axes>"
                        ]
                    },
                    "metadata": {},
                    "output_type": "display_data"
                }
            ],
            "source": [
                "#Missing per hour\n",
                "df_hourly = df_hourly.reset_index(level=['hour_from_intime'])\n",
                "grouped = []\n",
                "plt.rcdefaults() \n",
                "plt.style.use(['seaborn-paper', 'seaborn-colorblind'])\n",
                "for i in range(1,25):\n",
                "    grouped.append(df_hourly[df_hourly.hour_from_intime == i])\n",
                "\n",
                "percent_missing = []\n",
                "print(grouped[0])\n",
                "for i in range(1,25):\n",
                "    percent_missing.append(grouped[i-1].isnull().sum() * 100 / len(grouped[i-1]))\n",
                "\n",
                "test = np.array(percent_missing)\n",
                "\n",
                "fig,ax = plt.subplots()\n",
                "ax.spines['top'].set_visible(False)\n",
                "ax.spines['right'].set_visible(False)\n",
                "plt.plot(range(1,25), test[:,[4,6,7]], marker = 'o',label = ['HR missing rate', 'RR missing rate', 'SpO2 missing rate'])\n",
                "plt.xlabel('Hour from intime')\n",
                "plt.ylabel('Missing rate (%)')\n",
                "plt.legend()\n",
                "\n",
                "fig,ax = plt.subplots()\n",
                "ax.spines['top'].set_visible(False)\n",
                "ax.spines['right'].set_visible(False)\n",
                "plt.xlabel('Hour from intime')\n",
                "plt.ylabel('Missing rate (%)')\n",
                "plt.plot(range(1,25), test[:,[1,2,3,5]], marker = 'o', label = ['ABPd missing rate', 'ABPm missing rate', 'ABPs missing rate', 'ICP missing rate'])\n",
                "plt.legend()"
            ]
        },
        {
            "cell_type": "code",
            "execution_count": null,
            "metadata": {
                "azdata_cell_guid": "b0716748-7401-4ce2-adab-e883bc4dc401",
                "language": "python"
            },
            "outputs": [
                {
                    "data": {
                        "application/vnd.plotly.v1+json": {
                            "config": {
                                "plotlyServerURL": "https://plot.ly"
                            },
                            "data": [
                                {
                                    "boxpoints": "all",
                                    "marker": {
                                        "color": "darkgoldenrod"
                                    },
                                    "type": "box",
                                    "x": [
                                        "mild",
                                        "mild",
                                        "mild",
                                        "mild",
                                        "mild",
                                        "mild",
                                        "mild",
                                        "mild",
                                        "mild",
                                        "mild",
                                        "mild",
                                        "mild",
                                        "mild",
                                        "mild",
                                        "mild",
                                        "mild",
                                        "mild",
                                        "mild",
                                        "mild",
                                        "mild",
                                        "mild",
                                        "mild",
                                        "mild",
                                        "mild",
                                        "mild",
                                        "mild",
                                        "mild",
                                        "mild",
                                        "mild",
                                        "mild",
                                        "mild",
                                        "mild",
                                        "mild",
                                        "mild",
                                        "mild",
                                        "mild",
                                        "mild",
                                        "mild",
                                        "mild",
                                        "mild",
                                        "mild",
                                        "mild",
                                        "mild",
                                        "mild",
                                        "mild",
                                        "mild",
                                        "mild",
                                        "mild",
                                        "mild",
                                        "mild",
                                        "mild",
                                        "mild",
                                        "mild",
                                        "mild",
                                        "mild",
                                        "mild",
                                        "mild",
                                        "mild",
                                        "mild",
                                        "mild",
                                        "mild",
                                        "mild",
                                        "mild",
                                        "mild",
                                        "mild",
                                        "mild",
                                        "mild",
                                        "mild",
                                        "mild",
                                        "mild",
                                        "mild",
                                        "mild"
                                    ],
                                    "y": [
                                        62,
                                        88,
                                        65,
                                        74,
                                        82,
                                        61,
                                        80,
                                        88,
                                        71,
                                        86,
                                        74,
                                        73,
                                        76,
                                        76,
                                        22,
                                        88,
                                        59,
                                        52,
                                        65,
                                        74,
                                        91,
                                        79,
                                        55,
                                        89,
                                        83,
                                        47,
                                        70,
                                        84,
                                        63,
                                        65,
                                        79,
                                        88,
                                        88,
                                        81,
                                        76,
                                        91,
                                        43,
                                        87,
                                        63,
                                        50,
                                        76,
                                        84,
                                        81,
                                        86,
                                        79,
                                        91,
                                        60,
                                        91,
                                        67,
                                        67,
                                        72,
                                        83,
                                        63,
                                        82,
                                        57,
                                        28,
                                        84,
                                        68,
                                        55,
                                        82,
                                        39,
                                        55,
                                        55,
                                        62,
                                        63,
                                        61,
                                        68,
                                        53,
                                        66,
                                        80,
                                        84,
                                        74
                                    ]
                                },
                                {
                                    "boxpoints": "all",
                                    "marker": {
                                        "color": "indianred"
                                    },
                                    "type": "box",
                                    "x": [
                                        "moderate",
                                        "moderate",
                                        "moderate",
                                        "moderate",
                                        "moderate",
                                        "moderate",
                                        "moderate",
                                        "moderate",
                                        "moderate",
                                        "moderate",
                                        "moderate",
                                        "moderate",
                                        "moderate",
                                        "moderate",
                                        "moderate",
                                        "moderate",
                                        "moderate",
                                        "moderate",
                                        "moderate",
                                        "moderate",
                                        "moderate",
                                        "moderate",
                                        "moderate",
                                        "moderate",
                                        "moderate",
                                        "moderate",
                                        "moderate",
                                        "moderate",
                                        "moderate",
                                        "moderate",
                                        "moderate",
                                        "moderate",
                                        "moderate",
                                        "moderate",
                                        "moderate",
                                        "moderate",
                                        "moderate",
                                        "moderate",
                                        "moderate",
                                        "moderate",
                                        "moderate",
                                        "moderate",
                                        "moderate",
                                        "moderate",
                                        "moderate",
                                        "moderate",
                                        "moderate",
                                        "moderate",
                                        "moderate",
                                        "moderate",
                                        "moderate",
                                        "moderate",
                                        "moderate",
                                        "moderate",
                                        "moderate",
                                        "moderate",
                                        "moderate",
                                        "moderate",
                                        "moderate",
                                        "moderate",
                                        "moderate",
                                        "moderate",
                                        "moderate",
                                        "moderate",
                                        "moderate",
                                        "moderate",
                                        "moderate",
                                        "moderate",
                                        "moderate",
                                        "moderate",
                                        "moderate",
                                        "moderate",
                                        "moderate",
                                        "moderate",
                                        "moderate",
                                        "moderate",
                                        "moderate",
                                        "moderate",
                                        "moderate",
                                        "moderate",
                                        "moderate",
                                        "moderate",
                                        "moderate",
                                        "moderate",
                                        "moderate",
                                        "moderate",
                                        "moderate",
                                        "moderate",
                                        "moderate",
                                        "moderate",
                                        "moderate",
                                        "moderate",
                                        "moderate",
                                        "moderate",
                                        "moderate",
                                        "moderate",
                                        "moderate",
                                        "moderate",
                                        "moderate",
                                        "moderate",
                                        "moderate",
                                        "moderate",
                                        "moderate",
                                        "moderate",
                                        "moderate",
                                        "moderate",
                                        "moderate",
                                        "moderate",
                                        "moderate",
                                        "moderate",
                                        "moderate",
                                        "moderate",
                                        "moderate",
                                        "moderate",
                                        "moderate",
                                        "moderate",
                                        "moderate",
                                        "moderate",
                                        "moderate",
                                        "moderate",
                                        "moderate",
                                        "moderate",
                                        "moderate",
                                        "moderate",
                                        "moderate",
                                        "moderate",
                                        "moderate",
                                        "moderate",
                                        "moderate",
                                        "moderate",
                                        "moderate",
                                        "moderate",
                                        "moderate",
                                        "moderate",
                                        "moderate",
                                        "moderate",
                                        "moderate",
                                        "moderate",
                                        "moderate",
                                        "moderate",
                                        "moderate",
                                        "moderate",
                                        "moderate",
                                        "moderate",
                                        "moderate",
                                        "moderate",
                                        "moderate",
                                        "moderate",
                                        "moderate",
                                        "moderate",
                                        "moderate",
                                        "moderate",
                                        "moderate",
                                        "moderate",
                                        "moderate",
                                        "moderate",
                                        "moderate",
                                        "moderate",
                                        "moderate",
                                        "moderate",
                                        "moderate",
                                        "moderate",
                                        "moderate",
                                        "moderate",
                                        "moderate",
                                        "moderate",
                                        "moderate",
                                        "moderate",
                                        "moderate",
                                        "moderate",
                                        "moderate",
                                        "moderate",
                                        "moderate",
                                        "moderate",
                                        "moderate",
                                        "moderate",
                                        "moderate",
                                        "moderate",
                                        "moderate",
                                        "moderate",
                                        "moderate",
                                        "moderate",
                                        "moderate",
                                        "moderate",
                                        "moderate",
                                        "moderate",
                                        "moderate",
                                        "moderate",
                                        "moderate",
                                        "moderate",
                                        "moderate",
                                        "moderate",
                                        "moderate",
                                        "moderate",
                                        "moderate",
                                        "moderate",
                                        "moderate",
                                        "moderate",
                                        "moderate",
                                        "moderate",
                                        "moderate",
                                        "moderate",
                                        "moderate",
                                        "moderate",
                                        "moderate",
                                        "moderate",
                                        "moderate",
                                        "moderate",
                                        "moderate",
                                        "moderate",
                                        "moderate",
                                        "moderate",
                                        "moderate",
                                        "moderate",
                                        "moderate",
                                        "moderate",
                                        "moderate",
                                        "moderate",
                                        "moderate",
                                        "moderate",
                                        "moderate",
                                        "moderate",
                                        "moderate",
                                        "moderate",
                                        "moderate",
                                        "moderate",
                                        "moderate",
                                        "moderate",
                                        "moderate",
                                        "moderate",
                                        "moderate",
                                        "moderate",
                                        "moderate",
                                        "moderate",
                                        "moderate",
                                        "moderate",
                                        "moderate",
                                        "moderate",
                                        "moderate",
                                        "moderate",
                                        "moderate",
                                        "moderate",
                                        "moderate",
                                        "moderate",
                                        "moderate",
                                        "moderate",
                                        "moderate",
                                        "moderate",
                                        "moderate",
                                        "moderate",
                                        "moderate",
                                        "moderate",
                                        "moderate",
                                        "moderate",
                                        "moderate",
                                        "moderate",
                                        "moderate",
                                        "moderate",
                                        "moderate",
                                        "moderate",
                                        "moderate",
                                        "moderate",
                                        "moderate",
                                        "moderate",
                                        "moderate",
                                        "moderate",
                                        "moderate",
                                        "moderate",
                                        "moderate",
                                        "moderate",
                                        "moderate",
                                        "moderate",
                                        "moderate",
                                        "moderate",
                                        "moderate",
                                        "moderate",
                                        "moderate",
                                        "moderate",
                                        "moderate",
                                        "moderate",
                                        "moderate",
                                        "moderate",
                                        "moderate",
                                        "moderate",
                                        "moderate",
                                        "moderate",
                                        "moderate",
                                        "moderate",
                                        "moderate",
                                        "moderate",
                                        "moderate",
                                        "moderate",
                                        "moderate",
                                        "moderate",
                                        "moderate",
                                        "moderate",
                                        "moderate",
                                        "moderate",
                                        "moderate",
                                        "moderate",
                                        "moderate",
                                        "moderate",
                                        "moderate",
                                        "moderate",
                                        "moderate",
                                        "moderate",
                                        "moderate",
                                        "moderate",
                                        "moderate",
                                        "moderate",
                                        "moderate",
                                        "moderate",
                                        "moderate",
                                        "moderate",
                                        "moderate",
                                        "moderate",
                                        "moderate",
                                        "moderate",
                                        "moderate",
                                        "moderate",
                                        "moderate",
                                        "moderate",
                                        "moderate",
                                        "moderate",
                                        "moderate",
                                        "moderate",
                                        "moderate",
                                        "moderate",
                                        "moderate",
                                        "moderate",
                                        "moderate",
                                        "moderate",
                                        "moderate",
                                        "moderate",
                                        "moderate",
                                        "moderate",
                                        "moderate",
                                        "moderate",
                                        "moderate",
                                        "moderate",
                                        "moderate",
                                        "moderate",
                                        "moderate",
                                        "moderate",
                                        "moderate",
                                        "moderate",
                                        "moderate",
                                        "moderate",
                                        "moderate",
                                        "moderate",
                                        "moderate",
                                        "moderate",
                                        "moderate",
                                        "moderate",
                                        "moderate",
                                        "moderate",
                                        "moderate",
                                        "moderate",
                                        "moderate",
                                        "moderate",
                                        "moderate",
                                        "moderate",
                                        "moderate",
                                        "moderate",
                                        "moderate",
                                        "moderate",
                                        "moderate",
                                        "moderate",
                                        "moderate",
                                        "moderate",
                                        "moderate",
                                        "moderate",
                                        "moderate",
                                        "moderate",
                                        "moderate",
                                        "moderate",
                                        "moderate",
                                        "moderate",
                                        "moderate",
                                        "moderate",
                                        "moderate",
                                        "moderate",
                                        "moderate",
                                        "moderate",
                                        "moderate",
                                        "moderate",
                                        "moderate",
                                        "moderate",
                                        "moderate",
                                        "moderate",
                                        "moderate",
                                        "moderate",
                                        "moderate",
                                        "moderate",
                                        "moderate",
                                        "moderate",
                                        "moderate",
                                        "moderate",
                                        "moderate",
                                        "moderate",
                                        "moderate",
                                        "moderate",
                                        "moderate",
                                        "moderate",
                                        "moderate",
                                        "moderate",
                                        "moderate",
                                        "moderate",
                                        "moderate",
                                        "moderate",
                                        "moderate",
                                        "moderate",
                                        "moderate",
                                        "moderate",
                                        "moderate",
                                        "moderate",
                                        "moderate",
                                        "moderate",
                                        "moderate",
                                        "moderate",
                                        "moderate",
                                        "moderate",
                                        "moderate",
                                        "moderate",
                                        "moderate",
                                        "moderate",
                                        "moderate",
                                        "moderate",
                                        "moderate",
                                        "moderate",
                                        "moderate",
                                        "moderate",
                                        "moderate",
                                        "moderate",
                                        "moderate",
                                        "moderate",
                                        "moderate",
                                        "moderate",
                                        "moderate",
                                        "moderate",
                                        "moderate",
                                        "moderate",
                                        "moderate",
                                        "moderate",
                                        "moderate",
                                        "moderate",
                                        "moderate",
                                        "moderate",
                                        "moderate",
                                        "moderate",
                                        "moderate",
                                        "moderate",
                                        "moderate",
                                        "moderate",
                                        "moderate",
                                        "moderate",
                                        "moderate",
                                        "moderate",
                                        "moderate",
                                        "moderate",
                                        "moderate",
                                        "moderate",
                                        "moderate",
                                        "moderate",
                                        "moderate",
                                        "moderate",
                                        "moderate",
                                        "moderate",
                                        "moderate",
                                        "moderate",
                                        "moderate",
                                        "moderate",
                                        "moderate",
                                        "moderate",
                                        "moderate",
                                        "moderate",
                                        "moderate",
                                        "moderate",
                                        "moderate",
                                        "moderate",
                                        "moderate",
                                        "moderate",
                                        "moderate",
                                        "moderate",
                                        "moderate",
                                        "moderate",
                                        "moderate",
                                        "moderate",
                                        "moderate",
                                        "moderate",
                                        "moderate",
                                        "moderate",
                                        "moderate",
                                        "moderate",
                                        "moderate",
                                        "moderate",
                                        "moderate",
                                        "moderate",
                                        "moderate",
                                        "moderate",
                                        "moderate",
                                        "moderate",
                                        "moderate",
                                        "moderate",
                                        "moderate",
                                        "moderate",
                                        "moderate",
                                        "moderate",
                                        "moderate",
                                        "moderate",
                                        "moderate",
                                        "moderate",
                                        "moderate",
                                        "moderate",
                                        "moderate",
                                        "moderate",
                                        "moderate",
                                        "moderate",
                                        "moderate",
                                        "moderate",
                                        "moderate",
                                        "moderate",
                                        "moderate",
                                        "moderate",
                                        "moderate",
                                        "moderate",
                                        "moderate",
                                        "moderate",
                                        "moderate",
                                        "moderate",
                                        "moderate",
                                        "moderate",
                                        "moderate",
                                        "moderate",
                                        "moderate",
                                        "moderate",
                                        "moderate",
                                        "moderate",
                                        "moderate",
                                        "moderate",
                                        "moderate",
                                        "moderate",
                                        "moderate",
                                        "moderate",
                                        "moderate",
                                        "moderate",
                                        "moderate",
                                        "moderate",
                                        "moderate",
                                        "moderate",
                                        "moderate",
                                        "moderate",
                                        "moderate",
                                        "moderate",
                                        "moderate",
                                        "moderate",
                                        "moderate",
                                        "moderate",
                                        "moderate",
                                        "moderate",
                                        "moderate",
                                        "moderate",
                                        "moderate",
                                        "moderate",
                                        "moderate",
                                        "moderate",
                                        "moderate",
                                        "moderate",
                                        "moderate",
                                        "moderate",
                                        "moderate",
                                        "moderate",
                                        "moderate",
                                        "moderate",
                                        "moderate",
                                        "moderate",
                                        "moderate",
                                        "moderate",
                                        "moderate",
                                        "moderate",
                                        "moderate",
                                        "moderate",
                                        "moderate",
                                        "moderate",
                                        "moderate",
                                        "moderate",
                                        "moderate",
                                        "moderate",
                                        "moderate",
                                        "moderate",
                                        "moderate",
                                        "moderate",
                                        "moderate",
                                        "moderate",
                                        "moderate",
                                        "moderate",
                                        "moderate",
                                        "moderate",
                                        "moderate",
                                        "moderate",
                                        "moderate",
                                        "moderate",
                                        "moderate",
                                        "moderate",
                                        "moderate",
                                        "moderate",
                                        "moderate",
                                        "moderate",
                                        "moderate",
                                        "moderate",
                                        "moderate",
                                        "moderate",
                                        "moderate",
                                        "moderate",
                                        "moderate",
                                        "moderate",
                                        "moderate",
                                        "moderate",
                                        "moderate",
                                        "moderate",
                                        "moderate",
                                        "moderate",
                                        "moderate",
                                        "moderate",
                                        "moderate",
                                        "moderate",
                                        "moderate",
                                        "moderate",
                                        "moderate",
                                        "moderate",
                                        "moderate",
                                        "moderate",
                                        "moderate",
                                        "moderate",
                                        "moderate",
                                        "moderate",
                                        "moderate",
                                        "moderate",
                                        "moderate",
                                        "moderate",
                                        "moderate",
                                        "moderate",
                                        "moderate",
                                        "moderate",
                                        "moderate",
                                        "moderate",
                                        "moderate",
                                        "moderate",
                                        "moderate",
                                        "moderate",
                                        "moderate",
                                        "moderate",
                                        "moderate",
                                        "moderate",
                                        "moderate",
                                        "moderate",
                                        "moderate",
                                        "moderate",
                                        "moderate",
                                        "moderate",
                                        "moderate",
                                        "moderate",
                                        "moderate",
                                        "moderate",
                                        "moderate",
                                        "moderate",
                                        "moderate",
                                        "moderate",
                                        "moderate",
                                        "moderate",
                                        "moderate",
                                        "moderate",
                                        "moderate",
                                        "moderate",
                                        "moderate",
                                        "moderate",
                                        "moderate",
                                        "moderate",
                                        "moderate",
                                        "moderate",
                                        "moderate",
                                        "moderate",
                                        "moderate",
                                        "moderate",
                                        "moderate",
                                        "moderate",
                                        "moderate",
                                        "moderate",
                                        "moderate",
                                        "moderate",
                                        "moderate",
                                        "moderate",
                                        "moderate",
                                        "moderate",
                                        "moderate",
                                        "moderate",
                                        "moderate",
                                        "moderate",
                                        "moderate",
                                        "moderate",
                                        "moderate",
                                        "moderate",
                                        "moderate",
                                        "moderate",
                                        "moderate",
                                        "moderate",
                                        "moderate",
                                        "moderate",
                                        "moderate",
                                        "moderate"
                                    ],
                                    "y": [
                                        50,
                                        19,
                                        91,
                                        65,
                                        40,
                                        88,
                                        85,
                                        75,
                                        74,
                                        63,
                                        71,
                                        63,
                                        61,
                                        75,
                                        72,
                                        82,
                                        22,
                                        18,
                                        79,
                                        41,
                                        76,
                                        65,
                                        63,
                                        23,
                                        91,
                                        76,
                                        59,
                                        71,
                                        88,
                                        37,
                                        29,
                                        56,
                                        80,
                                        91,
                                        54,
                                        91,
                                        71,
                                        76,
                                        61,
                                        74,
                                        56,
                                        82,
                                        67,
                                        55,
                                        78,
                                        44,
                                        83,
                                        87,
                                        66,
                                        81,
                                        20,
                                        75,
                                        75,
                                        85,
                                        86,
                                        71,
                                        82,
                                        80,
                                        81,
                                        74,
                                        80,
                                        41,
                                        75,
                                        79,
                                        66,
                                        59,
                                        56,
                                        73,
                                        78,
                                        38,
                                        77,
                                        37,
                                        56,
                                        61,
                                        91,
                                        20,
                                        66,
                                        79,
                                        79,
                                        62,
                                        91,
                                        60,
                                        58,
                                        72,
                                        75,
                                        73,
                                        86,
                                        43,
                                        66,
                                        91,
                                        89,
                                        43,
                                        71,
                                        85,
                                        88,
                                        87,
                                        76,
                                        79,
                                        82,
                                        88,
                                        88,
                                        79,
                                        52,
                                        76,
                                        26,
                                        86,
                                        86,
                                        28,
                                        68,
                                        63,
                                        80,
                                        80,
                                        48,
                                        61,
                                        59,
                                        66,
                                        82,
                                        87,
                                        76,
                                        61,
                                        78,
                                        89,
                                        71,
                                        74,
                                        58,
                                        66,
                                        73,
                                        81,
                                        73,
                                        57,
                                        72,
                                        60,
                                        80,
                                        91,
                                        87,
                                        20,
                                        89,
                                        29,
                                        48,
                                        70,
                                        63,
                                        70,
                                        20,
                                        83,
                                        63,
                                        89,
                                        85,
                                        91,
                                        45,
                                        46,
                                        80,
                                        63,
                                        66,
                                        29,
                                        82,
                                        49,
                                        72,
                                        91,
                                        53,
                                        87,
                                        84,
                                        74,
                                        33,
                                        45,
                                        66,
                                        85,
                                        82,
                                        34,
                                        64,
                                        27,
                                        52,
                                        80,
                                        91,
                                        62,
                                        62,
                                        28,
                                        63,
                                        59,
                                        67,
                                        30,
                                        47,
                                        87,
                                        91,
                                        41,
                                        39,
                                        25,
                                        68,
                                        54,
                                        78,
                                        75,
                                        80,
                                        43,
                                        91,
                                        80,
                                        83,
                                        91,
                                        86,
                                        80,
                                        59,
                                        43,
                                        58,
                                        70,
                                        66,
                                        64,
                                        58,
                                        69,
                                        68,
                                        52,
                                        64,
                                        89,
                                        75,
                                        79,
                                        71,
                                        80,
                                        80,
                                        29,
                                        82,
                                        82,
                                        85,
                                        21,
                                        80,
                                        75,
                                        55,
                                        91,
                                        23,
                                        74,
                                        68,
                                        66,
                                        35,
                                        81,
                                        62,
                                        58,
                                        71,
                                        84,
                                        83,
                                        62,
                                        61,
                                        83,
                                        61,
                                        71,
                                        89,
                                        19,
                                        73,
                                        80,
                                        77,
                                        56,
                                        66,
                                        70,
                                        64,
                                        81,
                                        26,
                                        85,
                                        51,
                                        71,
                                        78,
                                        83,
                                        84,
                                        73,
                                        63,
                                        85,
                                        70,
                                        83,
                                        72,
                                        72,
                                        88,
                                        71,
                                        52,
                                        47,
                                        91,
                                        38,
                                        76,
                                        78,
                                        67,
                                        67,
                                        53,
                                        63,
                                        32,
                                        84,
                                        61,
                                        75,
                                        63,
                                        65,
                                        28,
                                        48,
                                        78,
                                        79,
                                        74,
                                        77,
                                        53,
                                        25,
                                        54,
                                        47,
                                        80,
                                        74,
                                        61,
                                        71,
                                        76,
                                        61,
                                        74,
                                        79,
                                        47,
                                        26,
                                        62,
                                        53,
                                        91,
                                        30,
                                        79,
                                        88,
                                        73,
                                        66,
                                        55,
                                        71,
                                        63,
                                        52,
                                        83,
                                        21,
                                        47,
                                        86,
                                        64,
                                        28,
                                        72,
                                        91,
                                        76,
                                        48,
                                        42,
                                        89,
                                        40,
                                        80,
                                        76,
                                        52,
                                        84,
                                        45,
                                        59,
                                        54,
                                        81,
                                        86,
                                        74,
                                        80,
                                        66,
                                        79,
                                        88,
                                        71,
                                        62,
                                        30,
                                        56,
                                        66,
                                        87,
                                        57,
                                        50,
                                        86,
                                        82,
                                        83,
                                        78,
                                        91,
                                        72,
                                        84,
                                        47,
                                        79,
                                        77,
                                        53,
                                        72,
                                        71,
                                        53,
                                        71,
                                        79,
                                        59,
                                        79,
                                        80,
                                        72,
                                        63,
                                        85,
                                        57,
                                        85,
                                        52,
                                        43,
                                        24,
                                        81,
                                        72,
                                        87,
                                        77,
                                        69,
                                        78,
                                        88,
                                        68,
                                        83,
                                        22,
                                        91,
                                        64,
                                        40,
                                        39,
                                        63,
                                        68,
                                        91,
                                        74,
                                        59,
                                        77,
                                        80,
                                        72,
                                        91,
                                        91,
                                        66,
                                        84,
                                        88,
                                        52,
                                        33,
                                        32,
                                        54,
                                        38,
                                        80,
                                        75,
                                        85,
                                        84,
                                        66,
                                        79,
                                        61,
                                        66,
                                        41,
                                        80,
                                        80,
                                        57,
                                        91,
                                        67,
                                        40,
                                        78,
                                        65,
                                        78,
                                        69,
                                        59,
                                        64,
                                        55,
                                        87,
                                        63,
                                        76,
                                        64,
                                        85,
                                        63,
                                        76,
                                        63,
                                        64,
                                        47,
                                        58,
                                        81,
                                        74,
                                        68,
                                        78,
                                        71,
                                        91,
                                        79,
                                        77,
                                        57,
                                        74,
                                        84,
                                        63,
                                        63,
                                        88,
                                        72,
                                        76,
                                        91,
                                        88,
                                        65,
                                        58,
                                        83,
                                        50,
                                        91,
                                        83,
                                        24,
                                        89,
                                        91,
                                        76,
                                        69,
                                        78,
                                        70,
                                        85,
                                        39,
                                        70,
                                        82,
                                        75,
                                        28,
                                        45,
                                        78,
                                        75,
                                        91,
                                        63,
                                        81,
                                        71,
                                        91,
                                        88,
                                        79,
                                        58,
                                        23,
                                        59,
                                        80,
                                        57,
                                        71,
                                        45,
                                        71,
                                        51,
                                        66,
                                        91,
                                        67,
                                        25,
                                        66,
                                        88,
                                        67,
                                        72,
                                        72,
                                        82,
                                        71,
                                        68,
                                        85,
                                        82,
                                        47,
                                        51,
                                        82,
                                        89,
                                        83,
                                        27,
                                        58,
                                        75,
                                        88,
                                        71,
                                        46,
                                        53,
                                        62,
                                        72,
                                        72,
                                        85,
                                        84,
                                        63,
                                        45,
                                        71,
                                        62,
                                        76,
                                        89,
                                        62,
                                        84,
                                        59,
                                        33,
                                        64,
                                        38,
                                        56,
                                        72,
                                        70,
                                        24,
                                        68,
                                        80,
                                        81,
                                        82,
                                        59,
                                        59,
                                        41,
                                        81,
                                        66,
                                        71,
                                        69,
                                        84,
                                        53,
                                        56,
                                        88,
                                        55,
                                        76,
                                        91,
                                        37,
                                        64,
                                        88,
                                        83,
                                        78,
                                        75,
                                        89,
                                        42,
                                        83,
                                        63,
                                        56,
                                        80,
                                        55,
                                        61,
                                        91,
                                        53,
                                        91,
                                        74,
                                        91,
                                        86,
                                        46,
                                        77,
                                        53,
                                        76,
                                        91,
                                        77,
                                        37,
                                        68,
                                        76,
                                        65,
                                        62,
                                        88,
                                        85,
                                        63,
                                        85,
                                        76,
                                        71,
                                        41,
                                        53,
                                        62,
                                        55,
                                        65,
                                        82,
                                        87,
                                        65,
                                        91,
                                        45,
                                        46,
                                        76,
                                        72,
                                        82,
                                        85,
                                        77,
                                        85,
                                        68,
                                        72,
                                        42,
                                        66,
                                        64,
                                        91,
                                        70,
                                        82,
                                        55,
                                        73,
                                        56,
                                        30,
                                        52,
                                        91,
                                        91,
                                        71,
                                        69,
                                        80,
                                        91,
                                        82,
                                        76,
                                        59,
                                        81,
                                        76,
                                        41,
                                        51,
                                        91,
                                        47,
                                        56,
                                        82,
                                        52,
                                        79,
                                        55,
                                        79,
                                        84,
                                        80,
                                        50,
                                        74,
                                        80,
                                        66,
                                        45,
                                        19,
                                        72,
                                        60,
                                        67,
                                        22,
                                        72,
                                        50,
                                        63,
                                        67,
                                        55,
                                        91,
                                        91,
                                        66,
                                        79,
                                        88,
                                        72,
                                        57,
                                        59,
                                        51,
                                        26,
                                        74,
                                        62,
                                        83,
                                        61,
                                        61,
                                        42,
                                        76,
                                        67,
                                        55,
                                        82,
                                        73,
                                        79,
                                        86,
                                        88,
                                        80,
                                        48,
                                        51,
                                        91,
                                        71,
                                        82,
                                        55,
                                        85,
                                        69,
                                        57,
                                        18,
                                        61,
                                        66,
                                        91,
                                        24,
                                        66,
                                        76,
                                        61,
                                        79
                                    ]
                                },
                                {
                                    "boxpoints": "all",
                                    "marker": {
                                        "color": "lightseagreen"
                                    },
                                    "type": "box",
                                    "x": [
                                        "severe",
                                        "severe",
                                        "severe",
                                        "severe",
                                        "severe",
                                        "severe",
                                        "severe",
                                        "severe",
                                        "severe",
                                        "severe",
                                        "severe",
                                        "severe",
                                        "severe",
                                        "severe",
                                        "severe",
                                        "severe",
                                        "severe",
                                        "severe",
                                        "severe",
                                        "severe",
                                        "severe",
                                        "severe",
                                        "severe",
                                        "severe",
                                        "severe",
                                        "severe",
                                        "severe",
                                        "severe",
                                        "severe",
                                        "severe",
                                        "severe",
                                        "severe",
                                        "severe",
                                        "severe",
                                        "severe",
                                        "severe",
                                        "severe",
                                        "severe",
                                        "severe",
                                        "severe",
                                        "severe",
                                        "severe",
                                        "severe",
                                        "severe",
                                        "severe",
                                        "severe",
                                        "severe",
                                        "severe",
                                        "severe",
                                        "severe",
                                        "severe",
                                        "severe",
                                        "severe",
                                        "severe",
                                        "severe",
                                        "severe",
                                        "severe",
                                        "severe",
                                        "severe",
                                        "severe",
                                        "severe",
                                        "severe",
                                        "severe",
                                        "severe",
                                        "severe",
                                        "severe",
                                        "severe",
                                        "severe",
                                        "severe",
                                        "severe",
                                        "severe",
                                        "severe",
                                        "severe",
                                        "severe",
                                        "severe",
                                        "severe",
                                        "severe",
                                        "severe",
                                        "severe",
                                        "severe",
                                        "severe",
                                        "severe",
                                        "severe",
                                        "severe",
                                        "severe",
                                        "severe",
                                        "severe",
                                        "severe",
                                        "severe",
                                        "severe",
                                        "severe",
                                        "severe",
                                        "severe",
                                        "severe",
                                        "severe",
                                        "severe",
                                        "severe",
                                        "severe",
                                        "severe",
                                        "severe",
                                        "severe",
                                        "severe",
                                        "severe",
                                        "severe",
                                        "severe",
                                        "severe",
                                        "severe",
                                        "severe",
                                        "severe",
                                        "severe",
                                        "severe",
                                        "severe",
                                        "severe",
                                        "severe",
                                        "severe",
                                        "severe",
                                        "severe",
                                        "severe",
                                        "severe",
                                        "severe",
                                        "severe",
                                        "severe",
                                        "severe",
                                        "severe",
                                        "severe",
                                        "severe",
                                        "severe",
                                        "severe",
                                        "severe",
                                        "severe",
                                        "severe",
                                        "severe",
                                        "severe",
                                        "severe",
                                        "severe",
                                        "severe",
                                        "severe",
                                        "severe",
                                        "severe",
                                        "severe",
                                        "severe",
                                        "severe",
                                        "severe",
                                        "severe",
                                        "severe",
                                        "severe",
                                        "severe"
                                    ],
                                    "y": [
                                        53,
                                        56,
                                        89,
                                        66,
                                        87,
                                        87,
                                        51,
                                        67,
                                        57,
                                        52,
                                        88,
                                        74,
                                        86,
                                        82,
                                        36,
                                        55,
                                        60,
                                        76,
                                        19,
                                        89,
                                        74,
                                        67,
                                        81,
                                        77,
                                        45,
                                        51,
                                        85,
                                        78,
                                        74,
                                        63,
                                        41,
                                        86,
                                        20,
                                        40,
                                        52,
                                        62,
                                        77,
                                        64,
                                        51,
                                        88,
                                        81,
                                        73,
                                        57,
                                        26,
                                        54,
                                        91,
                                        79,
                                        72,
                                        24,
                                        32,
                                        78,
                                        65,
                                        58,
                                        51,
                                        28,
                                        48,
                                        69,
                                        69,
                                        50,
                                        82,
                                        21,
                                        53,
                                        76,
                                        64,
                                        76,
                                        88,
                                        71,
                                        89,
                                        78,
                                        85,
                                        68,
                                        91,
                                        64,
                                        49,
                                        89,
                                        67,
                                        66,
                                        66,
                                        70,
                                        74,
                                        25,
                                        91,
                                        52,
                                        87,
                                        62,
                                        86,
                                        48,
                                        62,
                                        25,
                                        60,
                                        34,
                                        46,
                                        26,
                                        77,
                                        91,
                                        54,
                                        72,
                                        51,
                                        25,
                                        49,
                                        73,
                                        45,
                                        32,
                                        69,
                                        77,
                                        91,
                                        80,
                                        77,
                                        29,
                                        78,
                                        74,
                                        23,
                                        82,
                                        45,
                                        53,
                                        78,
                                        59,
                                        80,
                                        81,
                                        19,
                                        64,
                                        61,
                                        89,
                                        30,
                                        64,
                                        55,
                                        72,
                                        80,
                                        76,
                                        91,
                                        68,
                                        80,
                                        91,
                                        76,
                                        56,
                                        73,
                                        50,
                                        45,
                                        64,
                                        82,
                                        19,
                                        76,
                                        91,
                                        61,
                                        91,
                                        47,
                                        82
                                    ]
                                }
                            ],
                            "layout": {
                                "showlegend": false,
                                "template": {
                                    "data": {
                                        "bar": [
                                            {
                                                "error_x": {
                                                    "color": "#2a3f5f"
                                                },
                                                "error_y": {
                                                    "color": "#2a3f5f"
                                                },
                                                "marker": {
                                                    "line": {
                                                        "color": "#E5ECF6",
                                                        "width": 0.5
                                                    },
                                                    "pattern": {
                                                        "fillmode": "overlay",
                                                        "size": 10,
                                                        "solidity": 0.2
                                                    }
                                                },
                                                "type": "bar"
                                            }
                                        ],
                                        "barpolar": [
                                            {
                                                "marker": {
                                                    "line": {
                                                        "color": "#E5ECF6",
                                                        "width": 0.5
                                                    },
                                                    "pattern": {
                                                        "fillmode": "overlay",
                                                        "size": 10,
                                                        "solidity": 0.2
                                                    }
                                                },
                                                "type": "barpolar"
                                            }
                                        ],
                                        "carpet": [
                                            {
                                                "aaxis": {
                                                    "endlinecolor": "#2a3f5f",
                                                    "gridcolor": "white",
                                                    "linecolor": "white",
                                                    "minorgridcolor": "white",
                                                    "startlinecolor": "#2a3f5f"
                                                },
                                                "baxis": {
                                                    "endlinecolor": "#2a3f5f",
                                                    "gridcolor": "white",
                                                    "linecolor": "white",
                                                    "minorgridcolor": "white",
                                                    "startlinecolor": "#2a3f5f"
                                                },
                                                "type": "carpet"
                                            }
                                        ],
                                        "choropleth": [
                                            {
                                                "colorbar": {
                                                    "outlinewidth": 0,
                                                    "ticks": ""
                                                },
                                                "type": "choropleth"
                                            }
                                        ],
                                        "contour": [
                                            {
                                                "colorbar": {
                                                    "outlinewidth": 0,
                                                    "ticks": ""
                                                },
                                                "colorscale": [
                                                    [
                                                        0,
                                                        "#0d0887"
                                                    ],
                                                    [
                                                        0.1111111111111111,
                                                        "#46039f"
                                                    ],
                                                    [
                                                        0.2222222222222222,
                                                        "#7201a8"
                                                    ],
                                                    [
                                                        0.3333333333333333,
                                                        "#9c179e"
                                                    ],
                                                    [
                                                        0.4444444444444444,
                                                        "#bd3786"
                                                    ],
                                                    [
                                                        0.5555555555555556,
                                                        "#d8576b"
                                                    ],
                                                    [
                                                        0.6666666666666666,
                                                        "#ed7953"
                                                    ],
                                                    [
                                                        0.7777777777777778,
                                                        "#fb9f3a"
                                                    ],
                                                    [
                                                        0.8888888888888888,
                                                        "#fdca26"
                                                    ],
                                                    [
                                                        1,
                                                        "#f0f921"
                                                    ]
                                                ],
                                                "type": "contour"
                                            }
                                        ],
                                        "contourcarpet": [
                                            {
                                                "colorbar": {
                                                    "outlinewidth": 0,
                                                    "ticks": ""
                                                },
                                                "type": "contourcarpet"
                                            }
                                        ],
                                        "heatmap": [
                                            {
                                                "colorbar": {
                                                    "outlinewidth": 0,
                                                    "ticks": ""
                                                },
                                                "colorscale": [
                                                    [
                                                        0,
                                                        "#0d0887"
                                                    ],
                                                    [
                                                        0.1111111111111111,
                                                        "#46039f"
                                                    ],
                                                    [
                                                        0.2222222222222222,
                                                        "#7201a8"
                                                    ],
                                                    [
                                                        0.3333333333333333,
                                                        "#9c179e"
                                                    ],
                                                    [
                                                        0.4444444444444444,
                                                        "#bd3786"
                                                    ],
                                                    [
                                                        0.5555555555555556,
                                                        "#d8576b"
                                                    ],
                                                    [
                                                        0.6666666666666666,
                                                        "#ed7953"
                                                    ],
                                                    [
                                                        0.7777777777777778,
                                                        "#fb9f3a"
                                                    ],
                                                    [
                                                        0.8888888888888888,
                                                        "#fdca26"
                                                    ],
                                                    [
                                                        1,
                                                        "#f0f921"
                                                    ]
                                                ],
                                                "type": "heatmap"
                                            }
                                        ],
                                        "heatmapgl": [
                                            {
                                                "colorbar": {
                                                    "outlinewidth": 0,
                                                    "ticks": ""
                                                },
                                                "colorscale": [
                                                    [
                                                        0,
                                                        "#0d0887"
                                                    ],
                                                    [
                                                        0.1111111111111111,
                                                        "#46039f"
                                                    ],
                                                    [
                                                        0.2222222222222222,
                                                        "#7201a8"
                                                    ],
                                                    [
                                                        0.3333333333333333,
                                                        "#9c179e"
                                                    ],
                                                    [
                                                        0.4444444444444444,
                                                        "#bd3786"
                                                    ],
                                                    [
                                                        0.5555555555555556,
                                                        "#d8576b"
                                                    ],
                                                    [
                                                        0.6666666666666666,
                                                        "#ed7953"
                                                    ],
                                                    [
                                                        0.7777777777777778,
                                                        "#fb9f3a"
                                                    ],
                                                    [
                                                        0.8888888888888888,
                                                        "#fdca26"
                                                    ],
                                                    [
                                                        1,
                                                        "#f0f921"
                                                    ]
                                                ],
                                                "type": "heatmapgl"
                                            }
                                        ],
                                        "histogram": [
                                            {
                                                "marker": {
                                                    "pattern": {
                                                        "fillmode": "overlay",
                                                        "size": 10,
                                                        "solidity": 0.2
                                                    }
                                                },
                                                "type": "histogram"
                                            }
                                        ],
                                        "histogram2d": [
                                            {
                                                "colorbar": {
                                                    "outlinewidth": 0,
                                                    "ticks": ""
                                                },
                                                "colorscale": [
                                                    [
                                                        0,
                                                        "#0d0887"
                                                    ],
                                                    [
                                                        0.1111111111111111,
                                                        "#46039f"
                                                    ],
                                                    [
                                                        0.2222222222222222,
                                                        "#7201a8"
                                                    ],
                                                    [
                                                        0.3333333333333333,
                                                        "#9c179e"
                                                    ],
                                                    [
                                                        0.4444444444444444,
                                                        "#bd3786"
                                                    ],
                                                    [
                                                        0.5555555555555556,
                                                        "#d8576b"
                                                    ],
                                                    [
                                                        0.6666666666666666,
                                                        "#ed7953"
                                                    ],
                                                    [
                                                        0.7777777777777778,
                                                        "#fb9f3a"
                                                    ],
                                                    [
                                                        0.8888888888888888,
                                                        "#fdca26"
                                                    ],
                                                    [
                                                        1,
                                                        "#f0f921"
                                                    ]
                                                ],
                                                "type": "histogram2d"
                                            }
                                        ],
                                        "histogram2dcontour": [
                                            {
                                                "colorbar": {
                                                    "outlinewidth": 0,
                                                    "ticks": ""
                                                },
                                                "colorscale": [
                                                    [
                                                        0,
                                                        "#0d0887"
                                                    ],
                                                    [
                                                        0.1111111111111111,
                                                        "#46039f"
                                                    ],
                                                    [
                                                        0.2222222222222222,
                                                        "#7201a8"
                                                    ],
                                                    [
                                                        0.3333333333333333,
                                                        "#9c179e"
                                                    ],
                                                    [
                                                        0.4444444444444444,
                                                        "#bd3786"
                                                    ],
                                                    [
                                                        0.5555555555555556,
                                                        "#d8576b"
                                                    ],
                                                    [
                                                        0.6666666666666666,
                                                        "#ed7953"
                                                    ],
                                                    [
                                                        0.7777777777777778,
                                                        "#fb9f3a"
                                                    ],
                                                    [
                                                        0.8888888888888888,
                                                        "#fdca26"
                                                    ],
                                                    [
                                                        1,
                                                        "#f0f921"
                                                    ]
                                                ],
                                                "type": "histogram2dcontour"
                                            }
                                        ],
                                        "mesh3d": [
                                            {
                                                "colorbar": {
                                                    "outlinewidth": 0,
                                                    "ticks": ""
                                                },
                                                "type": "mesh3d"
                                            }
                                        ],
                                        "parcoords": [
                                            {
                                                "line": {
                                                    "colorbar": {
                                                        "outlinewidth": 0,
                                                        "ticks": ""
                                                    }
                                                },
                                                "type": "parcoords"
                                            }
                                        ],
                                        "pie": [
                                            {
                                                "automargin": true,
                                                "type": "pie"
                                            }
                                        ],
                                        "scatter": [
                                            {
                                                "fillpattern": {
                                                    "fillmode": "overlay",
                                                    "size": 10,
                                                    "solidity": 0.2
                                                },
                                                "type": "scatter"
                                            }
                                        ],
                                        "scatter3d": [
                                            {
                                                "line": {
                                                    "colorbar": {
                                                        "outlinewidth": 0,
                                                        "ticks": ""
                                                    }
                                                },
                                                "marker": {
                                                    "colorbar": {
                                                        "outlinewidth": 0,
                                                        "ticks": ""
                                                    }
                                                },
                                                "type": "scatter3d"
                                            }
                                        ],
                                        "scattercarpet": [
                                            {
                                                "marker": {
                                                    "colorbar": {
                                                        "outlinewidth": 0,
                                                        "ticks": ""
                                                    }
                                                },
                                                "type": "scattercarpet"
                                            }
                                        ],
                                        "scattergeo": [
                                            {
                                                "marker": {
                                                    "colorbar": {
                                                        "outlinewidth": 0,
                                                        "ticks": ""
                                                    }
                                                },
                                                "type": "scattergeo"
                                            }
                                        ],
                                        "scattergl": [
                                            {
                                                "marker": {
                                                    "colorbar": {
                                                        "outlinewidth": 0,
                                                        "ticks": ""
                                                    }
                                                },
                                                "type": "scattergl"
                                            }
                                        ],
                                        "scattermapbox": [
                                            {
                                                "marker": {
                                                    "colorbar": {
                                                        "outlinewidth": 0,
                                                        "ticks": ""
                                                    }
                                                },
                                                "type": "scattermapbox"
                                            }
                                        ],
                                        "scatterpolar": [
                                            {
                                                "marker": {
                                                    "colorbar": {
                                                        "outlinewidth": 0,
                                                        "ticks": ""
                                                    }
                                                },
                                                "type": "scatterpolar"
                                            }
                                        ],
                                        "scatterpolargl": [
                                            {
                                                "marker": {
                                                    "colorbar": {
                                                        "outlinewidth": 0,
                                                        "ticks": ""
                                                    }
                                                },
                                                "type": "scatterpolargl"
                                            }
                                        ],
                                        "scatterternary": [
                                            {
                                                "marker": {
                                                    "colorbar": {
                                                        "outlinewidth": 0,
                                                        "ticks": ""
                                                    }
                                                },
                                                "type": "scatterternary"
                                            }
                                        ],
                                        "surface": [
                                            {
                                                "colorbar": {
                                                    "outlinewidth": 0,
                                                    "ticks": ""
                                                },
                                                "colorscale": [
                                                    [
                                                        0,
                                                        "#0d0887"
                                                    ],
                                                    [
                                                        0.1111111111111111,
                                                        "#46039f"
                                                    ],
                                                    [
                                                        0.2222222222222222,
                                                        "#7201a8"
                                                    ],
                                                    [
                                                        0.3333333333333333,
                                                        "#9c179e"
                                                    ],
                                                    [
                                                        0.4444444444444444,
                                                        "#bd3786"
                                                    ],
                                                    [
                                                        0.5555555555555556,
                                                        "#d8576b"
                                                    ],
                                                    [
                                                        0.6666666666666666,
                                                        "#ed7953"
                                                    ],
                                                    [
                                                        0.7777777777777778,
                                                        "#fb9f3a"
                                                    ],
                                                    [
                                                        0.8888888888888888,
                                                        "#fdca26"
                                                    ],
                                                    [
                                                        1,
                                                        "#f0f921"
                                                    ]
                                                ],
                                                "type": "surface"
                                            }
                                        ],
                                        "table": [
                                            {
                                                "cells": {
                                                    "fill": {
                                                        "color": "#EBF0F8"
                                                    },
                                                    "line": {
                                                        "color": "white"
                                                    }
                                                },
                                                "header": {
                                                    "fill": {
                                                        "color": "#C8D4E3"
                                                    },
                                                    "line": {
                                                        "color": "white"
                                                    }
                                                },
                                                "type": "table"
                                            }
                                        ]
                                    },
                                    "layout": {
                                        "annotationdefaults": {
                                            "arrowcolor": "#2a3f5f",
                                            "arrowhead": 0,
                                            "arrowwidth": 1
                                        },
                                        "autotypenumbers": "strict",
                                        "coloraxis": {
                                            "colorbar": {
                                                "outlinewidth": 0,
                                                "ticks": ""
                                            }
                                        },
                                        "colorscale": {
                                            "diverging": [
                                                [
                                                    0,
                                                    "#8e0152"
                                                ],
                                                [
                                                    0.1,
                                                    "#c51b7d"
                                                ],
                                                [
                                                    0.2,
                                                    "#de77ae"
                                                ],
                                                [
                                                    0.3,
                                                    "#f1b6da"
                                                ],
                                                [
                                                    0.4,
                                                    "#fde0ef"
                                                ],
                                                [
                                                    0.5,
                                                    "#f7f7f7"
                                                ],
                                                [
                                                    0.6,
                                                    "#e6f5d0"
                                                ],
                                                [
                                                    0.7,
                                                    "#b8e186"
                                                ],
                                                [
                                                    0.8,
                                                    "#7fbc41"
                                                ],
                                                [
                                                    0.9,
                                                    "#4d9221"
                                                ],
                                                [
                                                    1,
                                                    "#276419"
                                                ]
                                            ],
                                            "sequential": [
                                                [
                                                    0,
                                                    "#0d0887"
                                                ],
                                                [
                                                    0.1111111111111111,
                                                    "#46039f"
                                                ],
                                                [
                                                    0.2222222222222222,
                                                    "#7201a8"
                                                ],
                                                [
                                                    0.3333333333333333,
                                                    "#9c179e"
                                                ],
                                                [
                                                    0.4444444444444444,
                                                    "#bd3786"
                                                ],
                                                [
                                                    0.5555555555555556,
                                                    "#d8576b"
                                                ],
                                                [
                                                    0.6666666666666666,
                                                    "#ed7953"
                                                ],
                                                [
                                                    0.7777777777777778,
                                                    "#fb9f3a"
                                                ],
                                                [
                                                    0.8888888888888888,
                                                    "#fdca26"
                                                ],
                                                [
                                                    1,
                                                    "#f0f921"
                                                ]
                                            ],
                                            "sequentialminus": [
                                                [
                                                    0,
                                                    "#0d0887"
                                                ],
                                                [
                                                    0.1111111111111111,
                                                    "#46039f"
                                                ],
                                                [
                                                    0.2222222222222222,
                                                    "#7201a8"
                                                ],
                                                [
                                                    0.3333333333333333,
                                                    "#9c179e"
                                                ],
                                                [
                                                    0.4444444444444444,
                                                    "#bd3786"
                                                ],
                                                [
                                                    0.5555555555555556,
                                                    "#d8576b"
                                                ],
                                                [
                                                    0.6666666666666666,
                                                    "#ed7953"
                                                ],
                                                [
                                                    0.7777777777777778,
                                                    "#fb9f3a"
                                                ],
                                                [
                                                    0.8888888888888888,
                                                    "#fdca26"
                                                ],
                                                [
                                                    1,
                                                    "#f0f921"
                                                ]
                                            ]
                                        },
                                        "colorway": [
                                            "#636efa",
                                            "#EF553B",
                                            "#00cc96",
                                            "#ab63fa",
                                            "#FFA15A",
                                            "#19d3f3",
                                            "#FF6692",
                                            "#B6E880",
                                            "#FF97FF",
                                            "#FECB52"
                                        ],
                                        "font": {
                                            "color": "#2a3f5f"
                                        },
                                        "geo": {
                                            "bgcolor": "white",
                                            "lakecolor": "white",
                                            "landcolor": "#E5ECF6",
                                            "showlakes": true,
                                            "showland": true,
                                            "subunitcolor": "white"
                                        },
                                        "hoverlabel": {
                                            "align": "left"
                                        },
                                        "hovermode": "closest",
                                        "mapbox": {
                                            "style": "light"
                                        },
                                        "paper_bgcolor": "white",
                                        "plot_bgcolor": "#E5ECF6",
                                        "polar": {
                                            "angularaxis": {
                                                "gridcolor": "white",
                                                "linecolor": "white",
                                                "ticks": ""
                                            },
                                            "bgcolor": "#E5ECF6",
                                            "radialaxis": {
                                                "gridcolor": "white",
                                                "linecolor": "white",
                                                "ticks": ""
                                            }
                                        },
                                        "scene": {
                                            "xaxis": {
                                                "backgroundcolor": "#E5ECF6",
                                                "gridcolor": "white",
                                                "gridwidth": 2,
                                                "linecolor": "white",
                                                "showbackground": true,
                                                "ticks": "",
                                                "zerolinecolor": "white"
                                            },
                                            "yaxis": {
                                                "backgroundcolor": "#E5ECF6",
                                                "gridcolor": "white",
                                                "gridwidth": 2,
                                                "linecolor": "white",
                                                "showbackground": true,
                                                "ticks": "",
                                                "zerolinecolor": "white"
                                            },
                                            "zaxis": {
                                                "backgroundcolor": "#E5ECF6",
                                                "gridcolor": "white",
                                                "gridwidth": 2,
                                                "linecolor": "white",
                                                "showbackground": true,
                                                "ticks": "",
                                                "zerolinecolor": "white"
                                            }
                                        },
                                        "shapedefaults": {
                                            "line": {
                                                "color": "#2a3f5f"
                                            }
                                        },
                                        "ternary": {
                                            "aaxis": {
                                                "gridcolor": "white",
                                                "linecolor": "white",
                                                "ticks": ""
                                            },
                                            "baxis": {
                                                "gridcolor": "white",
                                                "linecolor": "white",
                                                "ticks": ""
                                            },
                                            "bgcolor": "#E5ECF6",
                                            "caxis": {
                                                "gridcolor": "white",
                                                "linecolor": "white",
                                                "ticks": ""
                                            }
                                        },
                                        "title": {
                                            "x": 0.05
                                        },
                                        "xaxis": {
                                            "automargin": true,
                                            "gridcolor": "white",
                                            "linecolor": "white",
                                            "ticks": "",
                                            "title": {
                                                "standoff": 15
                                            },
                                            "zerolinecolor": "white",
                                            "zerolinewidth": 2
                                        },
                                        "yaxis": {
                                            "automargin": true,
                                            "gridcolor": "white",
                                            "linecolor": "white",
                                            "ticks": "",
                                            "title": {
                                                "standoff": 15
                                            },
                                            "zerolinecolor": "white",
                                            "zerolinewidth": 2
                                        }
                                    }
                                },
                                "xaxis": {
                                    "title": {
                                        "text": "TBI severity"
                                    }
                                },
                                "yaxis": {
                                    "title": {
                                        "text": "Age (years)"
                                    }
                                }
                            }
                        }
                    },
                    "metadata": {},
                    "output_type": "display_data"
                }
            ],
            "source": [
                "#age and severity\n",
                "import plotly.graph_objects as go\n",
                "import plotly.express as px\n",
                "fig = go.Figure()\n",
                "\n",
                "fig.add_trace(go.Box( y = demographic['age'][demographic['severity'] == \"mild\"], x = demographic['severity'][demographic['severity'] == \"mild\"], boxpoints='all', marker_color = 'darkgoldenrod'))\n",
                "fig.add_trace(go.Box( y = demographic['age'][demographic['severity'] == \"moderate\"], x = demographic['severity'][demographic['severity'] == \"moderate\"], boxpoints='all', marker_color = 'indianred'))\n",
                "fig.add_trace(go.Box( y = demographic['age'][demographic['severity'] == \"severe\"], x = demographic['severity'][demographic['severity'] == \"severe\"], boxpoints='all', marker_color = 'lightseagreen'))\n",
                "\n",
                "\n",
                "fig.update_layout(\n",
                "    yaxis_title='Age (years)', xaxis_title = 'TBI severity'\n",
                " # group together boxes of the different traces for each value of x\n",
                ")\n",
                "fig.update(layout_showlegend=False)\n",
                "fig.show()\n",
                "# sns.histplot(data = demographic, x = \"age\", hue = \"death\", multiple=\"stack\", binwidth=0.7).set(title='Repartition of the TBI severity (GCS) and the corresponding deaths')\n"
            ]
        }
    ],
    "metadata": {
        "interpreter": {
            "hash": "1d5c1156327dacead463cc502c55ebae8ce9c8c01979cf154173ff808e75bf55"
        },
        "kernelspec": {
            "display_name": "Python 3 (ipykernel)",
            "language": "python",
            "name": "python3"
        },
        "language_info": {
            "codemirror_mode": {
                "name": "ipython",
                "version": 3
            },
            "file_extension": ".py",
            "mimetype": "text/x-python",
            "name": "python",
            "nbconvert_exporter": "python",
            "pygments_lexer": "ipython3",
            "version": "3.9.7"
        }
    },
    "nbformat": 4,
    "nbformat_minor": 2
}
