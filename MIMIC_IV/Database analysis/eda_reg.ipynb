{
 "cells": [
  {
   "cell_type": "code",
   "execution_count": 1,
   "metadata": {},
   "outputs": [],
   "source": [
    "import numpy as np \n",
    "import pandas as pd\n",
    "import matplotlib.pyplot as plt \n",
    "from matplotlib.pyplot import cm\n",
    "import seaborn as sns\n",
    "import plotly.graph_objects as go\n",
    "import plotly.io as pio\n",
    "pio.renderers.default = \"notebook\""
   ]
  },
  {
   "cell_type": "code",
   "execution_count": 4,
   "metadata": {},
   "outputs": [
    {
     "name": "stdout",
     "output_type": "stream",
     "text": [
      "      hour_from_intime  ABPd   ABPm    ABPs     HR  ICP    RR   SpO2\n",
      "0                    1   NaN    NaN     NaN    NaN  NaN   NaN    NaN\n",
      "1                    2   NaN    NaN     NaN    NaN  NaN   NaN    NaN\n",
      "2                    3   NaN    NaN     NaN    NaN  NaN   NaN    NaN\n",
      "3                    4  63.2   90.4  135.80  67.60  NaN  17.2  100.0\n",
      "4                    5  52.5   69.0  100.25  66.75  NaN  18.0  100.0\n",
      "...                ...   ...    ...     ...    ...  ...   ...    ...\n",
      "8899                20  67.0   77.0   85.00  81.00  NaN  19.0   94.0\n",
      "8900                21  64.0   94.0  141.00  81.00  NaN  20.0   97.0\n",
      "8901                22  60.0   84.0  129.00  81.00  NaN  17.0   99.0\n",
      "8902                23  58.0   80.0  119.00  77.00  NaN  19.0   98.0\n",
      "8903                24  74.0  109.0  163.00  80.00  NaN  22.0   99.0\n",
      "\n",
      "[8904 rows x 8 columns]\n"
     ]
    }
   ],
   "source": [
    "df = pd.read_csv('preprocessed_batches\\df_hourly_reg.csv', delimiter=',')\n",
    "print(df)"
   ]
  },
  {
   "cell_type": "code",
   "execution_count": 5,
   "metadata": {},
   "outputs": [
    {
     "data": {
      "text/plain": [
       "<AxesSubplot:xlabel='ABPm', ylabel='Count'>"
      ]
     },
     "execution_count": 5,
     "metadata": {},
     "output_type": "execute_result"
    },
    {
     "data": {
      "image/png": "[encoded data removed]",
      "text/plain": [
       "<Figure size 432x288 with 1 Axes>"
      ]
     },
     "metadata": {
      "needs_background": "light"
     },
     "output_type": "display_data"
    }
   ],
   "source": [
    "sns.histplot(data = df, x = 'ABPm')"
   ]
  }
 ],
 "metadata": {
  "kernelspec": {
   "display_name": "Python 3.9.7 64-bit",
   "language": "python",
   "name": "python3"
  },
  "language_info": {
   "codemirror_mode": {
    "name": "ipython",
    "version": 3
   },
   "file_extension": ".py",
   "mimetype": "text/x-python",
   "name": "python",
   "nbconvert_exporter": "python",
   "pygments_lexer": "ipython3",
   "version": "3.9.7"
  },
  "orig_nbformat": 4,
  "vscode": {
   "interpreter": {
    "hash": "1d5c1156327dacead463cc502c55ebae8ce9c8c01979cf154173ff808e75bf55"
   }
  }
 },
 "nbformat": 4,
 "nbformat_minor": 2
}
