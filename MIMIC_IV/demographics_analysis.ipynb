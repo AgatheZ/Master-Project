{
    "metadata": {
        "kernelspec": {
            "name": "pysparkkernel",
            "display_name": "PySpark",
            "language": ""
        },
        "language_info": {
            "name": "pyspark",
            "mimetype": "text/x-python",
            "codemirror_mode": {
                "name": "python",
                "version": 3
            },
            "file_extension": ".py",
            "pygments_lexer": "python3"
        }
    },
    "nbformat_minor": 2,
    "nbformat": 4,
    "cells": [
        {
            "cell_type": "code",
            "source": [
                "import numpy as np \r\n",
                "import pandas as pd\r\n",
                "import matplotlib.pyplot as plt \r\n",
                "from matplotlib.pyplot import cm\r\n",
                "import seaborn as sns\r\n",
                "import plotly.graph_objects as go\r\n",
                "import mpl_toolkits.mplot3d  # noqa: F401\r\n",
                "from sklearn.cluster import KMeans\r\n",
                "from sklearn import datasets"
            ],
            "metadata": {
                "azdata_cell_guid": "0677e367-0507-4d23-b67d-909e75c76d54",
                "language": "python",
                "tags": []
            },
            "outputs": [
                {
                    "output_type": "error",
                    "ename": "ModuleNotFoundError",
                    "evalue": "No module named 'chart_studio.pyplot'",
                    "traceback": [
                        "\u001b[1;31m---------------------------------------------------------------------------\u001b[0m",
                        "\u001b[1;31mModuleNotFoundError\u001b[0m                       Traceback (most recent call last)",
                        "Input \u001b[1;32mIn [39]\u001b[0m, in \u001b[0;36m<module>\u001b[1;34m\u001b[0m\n\u001b[0;32m      5\u001b[0m \u001b[38;5;28;01mimport\u001b[39;00m \u001b[38;5;21;01mseaborn\u001b[39;00m \u001b[38;5;28;01mas\u001b[39;00m \u001b[38;5;21;01msns\u001b[39;00m\n\u001b[0;32m      6\u001b[0m \u001b[38;5;28;01mimport\u001b[39;00m \u001b[38;5;21;01mplotly\u001b[39;00m\u001b[38;5;21;01m.\u001b[39;00m\u001b[38;5;21;01mgraph_objects\u001b[39;00m \u001b[38;5;28;01mas\u001b[39;00m \u001b[38;5;21;01mgo\u001b[39;00m\n\u001b[1;32m----> 7\u001b[0m \u001b[38;5;28;01mimport\u001b[39;00m \u001b[38;5;21;01mchart_studio\u001b[39;00m\u001b[38;5;21;01m.\u001b[39;00m\u001b[38;5;21;01mpyplot\u001b[39;00m \u001b[38;5;28;01mas\u001b[39;00m \u001b[38;5;21;01mpy\u001b[39;00m\n",
                        "\u001b[1;31mModuleNotFoundError\u001b[0m: No module named 'chart_studio.pyplot'"
                    ]
                }
            ],
            "execution_count": 39
        },
        {
            "cell_type": "markdown",
            "source": [
                "## Data loading & preprocessing"
            ],
            "metadata": {
                "azdata_cell_guid": "8a582626-33c5-4644-ad0a-6cd365201185"
            },
            "attachments": {}
        },
        {
            "cell_type": "code",
            "source": [
                "demographic = pd.read_csv('data/demographics_mimic4.csv', delimiter=',')\r\n",
                "print(demographic.gcs)"
            ],
            "metadata": {
                "azdata_cell_guid": "102660ea-16c9-45d0-b8f4-0646c6013387",
                "language": "python"
            },
            "outputs": [
                {
                    "output_type": "stream",
                    "name": "stdout",
                    "text": "0       6\n1       6\n2       9\n3       9\n4       9\n       ..\n944    12\n945    10\n946    10\n947     8\n948     9\nName: gcs, Length: 949, dtype: int64\n"
                }
            ],
            "execution_count": 6
        },
        {
            "cell_type": "markdown",
            "source": [
                "## Univariate analysis"
            ],
            "metadata": {
                "language": "python",
                "azdata_cell_guid": "0882850c-2a79-469e-af21-cb5485954fa9"
            },
            "attachments": {}
        },
        {
            "cell_type": "code",
            "source": [
                "sns.histplot(data = demographic, x = \"gcs\", hue = \"death\", multiple=\"stack\", binwidth=0.7).set(title='Repartition of the TBI severity (GCS) and the corresponding deaths')\r\n",
                "\r\n",
                "\r\n",
                ""
            ],
            "metadata": {
                "language": "python",
                "azdata_cell_guid": "0c9dfd99-e2e7-4ffd-9c8a-dceb6f1ef66d"
            },
            "outputs": [
                {
                    "output_type": "display_data",
                    "data": {
                        "text/plain": "<Figure size 432x288 with 1 Axes>",
                        "image/png": "[encoded data removed]"
                    },
                    "metadata": {
                        "needs_background": "light"
                    }
                },
                {
                    "output_type": "execute_result",
                    "execution_count": 33,
                    "data": {
                        "text/plain": "[Text(0.5, 1.0, 'Repartition of the TBI severity (GCS) and the corresponding deaths')]"
                    },
                    "metadata": {}
                }
            ],
            "execution_count": 33
        },
        {
            "cell_type": "markdown",
            "source": [
                "## Bivariate analysis"
            ],
            "metadata": {
                "language": "python",
                "azdata_cell_guid": "df7c90a1-e588-4c19-bfaf-4823a5d9a564"
            },
            "attachments": {}
        },
        {
            "cell_type": "code",
            "source": [
                "#age vs death \r\n",
                "#age \r\n",
                "\r\n",
                "scatter = dict(\r\n",
                "    mode = \"markers\",\r\n",
                "    name = \"y\",\r\n",
                "    type = \"scatter3d\",\r\n",
                "    x = demographic['age'], y = demographic['gcs'], z = demographic['death'],\r\n",
                "    marker = dict( size=2, color=\"rgb(23, 190, 207)\" )\r\n",
                ")\r\n",
                "clusters = dict(\r\n",
                "    alphahull = 7,\r\n",
                "    name = \"y\",\r\n",
                "    opacity = 0.1,\r\n",
                "    type = \"mesh3d\",\r\n",
                "    x = demographic['age'], y = demographic['gcs'], z = demographic['death']\r\n",
                ")\r\n",
                "layout = dict(\r\n",
                "    title = '3d point clustering',\r\n",
                "    scene = dict(\r\n",
                "        xaxis = dict( zeroline=False ),\r\n",
                "        yaxis = dict( zeroline=False ),\r\n",
                "        zaxis = dict( zeroline=False ),\r\n",
                "    )\r\n",
                ")\r\n",
                "fig = dict( data=[scatter, clusters], layout=layout )\r\n",
                "# Use py.iplot() for IPython notebook\r\n",
                "py.iplot(fig, filename='3d point clustering')"
            ],
            "metadata": {
                "azdata_cell_guid": "476ab92f-7e7b-4eec-a709-9c0cec39ecce",
                "language": "python"
            },
            "outputs": [
                {
                    "output_type": "error",
                    "ename": "NameError",
                    "evalue": "name 'py' is not defined",
                    "traceback": [
                        "\u001b[1;31m---------------------------------------------------------------------------\u001b[0m",
                        "\u001b[1;31mNameError\u001b[0m                                 Traceback (most recent call last)",
                        "Input \u001b[1;32mIn [36]\u001b[0m, in \u001b[0;36m<module>\u001b[1;34m\u001b[0m\n\u001b[0;32m     26\u001b[0m fig \u001b[38;5;241m=\u001b[39m \u001b[38;5;28mdict\u001b[39m( data\u001b[38;5;241m=\u001b[39m[scatter, clusters], layout\u001b[38;5;241m=\u001b[39mlayout )\n\u001b[0;32m     27\u001b[0m \u001b[38;5;66;03m# Use py.iplot() for IPython notebook\u001b[39;00m\n\u001b[1;32m---> 28\u001b[0m \u001b[43mpy\u001b[49m\u001b[38;5;241m.\u001b[39miplot(fig, filename\u001b[38;5;241m=\u001b[39m\u001b[38;5;124m'\u001b[39m\u001b[38;5;124m3d point clustering\u001b[39m\u001b[38;5;124m'\u001b[39m)\n",
                        "\u001b[1;31mNameError\u001b[0m: name 'py' is not defined"
                    ]
                }
            ],
            "execution_count": 36
        },
        {
            "cell_type": "markdown",
            "source": [
                ""
            ],
            "metadata": {
                "language": "python",
                "azdata_cell_guid": "59c59768-ee40-45e9-89d5-628ea62e89ec"
            }
        }
    ]
}