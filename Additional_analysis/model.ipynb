{
 "cells": [
  {
   "cell_type": "code",
   "execution_count": 1,
   "metadata": {},
   "outputs": [],
   "source": [
    "#imports\n",
    "import numpy as np \n",
    "import pandas as pd\n",
    "import matplotlib.pyplot as plt\n",
    "from sklearn.model_selection import (KFold, StratifiedKFold, cross_val_predict,\n",
    "                                     cross_validate, train_test_split)\n",
    "from sklearn.ensemble import RandomForestClassifier\n",
    "from xgboost import XGBClassifier\n",
    "\n",
    "from sklearn.metrics import accuracy_score, confusion_matrix, f1_score\n",
    "from collections import Counter\n",
    "from sklearn.linear_model import LogisticRegression\n",
    "import statistics\n",
    "import shap\n",
    "from sksurv.ensemble import RandomSurvivalForest\n",
    "from lifelines import KaplanMeierFitter\n",
    "\n",
    "\n",
    "random_state = 42"
   ]
  },
  {
   "cell_type": "code",
   "execution_count": 2,
   "metadata": {},
   "outputs": [],
   "source": [
    "#ds loading and variables removal \n",
    "ds = pd.read_csv(r\"C:\\Users\\USER\\OneDrive\\Summer_project\\Azure\\annex study\\ds_annex_study.csv\", index_col = 'ID')\n",
    "ds = ds.drop(columns=['date','DOB', 'preexisting_cond', 'twoyears', 'fiveyears', 'death'])"
   ]
  },
  {
   "cell_type": "code",
   "execution_count": 3,
   "metadata": {},
   "outputs": [
    {
     "name": "stdout",
     "output_type": "stream",
     "text": [
      "2 years Counter({0: 61, 1: 24})\n",
      "5 years Counter({0: 46, 1: 39})\n"
     ]
    },
    {
     "name": "stderr",
     "output_type": "stream",
     "text": [
      "Dropping of nuisance columns in DataFrame reductions (with 'numeric_only=None') is deprecated; in a future version this will raise TypeError.  Select only valid columns before calling the reduction.\n",
      "\n",
      "A value is trying to be set on a copy of a slice from a DataFrame\n",
      "\n",
      "See the caveats in the documentation: https://pandas.pydata.org/pandas-docs/stable/user_guide/indexing.html#returning-a-view-versus-a-copy\n",
      "\n",
      "A value is trying to be set on a copy of a slice from a DataFrame\n",
      "\n",
      "See the caveats in the documentation: https://pandas.pydata.org/pandas-docs/stable/user_guide/indexing.html#returning-a-view-versus-a-copy\n",
      "\n",
      "A value is trying to be set on a copy of a slice from a DataFrame\n",
      "\n",
      "See the caveats in the documentation: https://pandas.pydata.org/pandas-docs/stable/user_guide/indexing.html#returning-a-view-versus-a-copy\n",
      "\n",
      "A value is trying to be set on a copy of a slice from a DataFrame\n",
      "\n",
      "See the caveats in the documentation: https://pandas.pydata.org/pandas-docs/stable/user_guide/indexing.html#returning-a-view-versus-a-copy\n"
     ]
    }
   ],
   "source": [
    "#Extra preprocessing (1-hot encoding)\n",
    "ds = ds.fillna(ds.mean())\n",
    "ds = ds.fillna(0)\n",
    "\n",
    "\n",
    "for variable in ['COPD', 'ILD', 'NTM']:\n",
    "    ds[variable][ds[variable] == 'Yes'] = 1\n",
    "    ds[variable][ds[variable] == 'No'] = 0\n",
    "\n",
    "ds['sex'][ds['sex'] == 'F'] = 0\n",
    "ds['sex'][ds['sex'] == 'M'] = 1\n",
    "\n",
    "ds.ethnicity = ds.ethnicity.astype('category').cat.codes\n",
    "\n",
    "labels2 = ds['dead2']\n",
    "labels5 = ds['dead5']\n",
    "\n",
    "ds = ds.drop(columns = ['dead2'])\n",
    "\n",
    "counter2 = Counter(labels2)\n",
    "counter5 = Counter(labels5)\n",
    "\n",
    "print('2 years', counter2)\n",
    "print('5 years', counter5)\n",
    "\n",
    "counter = counter5\n",
    "\n",
    "# estimate scale_pos_weight value\n",
    "estimate = counter[0] / counter[1]\n",
    "estimate2 = counter[1]/counter[0]\n",
    "\n",
    "#dataset split \n",
    "X_train, X_test, y_train, y_test = train_test_split(ds, labels2, test_size=0.2, shuffle = True, random_state=random_state)\n",
    "features = ds.columns\n",
    "# ds = np.array(ds)\n",
    "# labels2 = np.array(labels2)\n"
   ]
  },
  {
   "cell_type": "code",
   "execution_count": 4,
   "metadata": {},
   "outputs": [
    {
     "ename": "KeyError",
     "evalue": "\"None of [Int64Index([ 1,  2,  3,  5,  6,  7,  8,  9, 11, 13, 14, 15, 16, 17, 19, 20, 21,\\n            23, 24, 25, 26, 27, 28, 29, 30, 31, 32, 34, 36, 37, 38, 39, 41, 42,\\n            43, 44, 45, 46, 48, 49, 50, 51, 52, 53, 56, 57, 58, 59, 60, 61, 62,\\n            63, 64, 65, 67, 69, 70, 71, 73, 74, 75, 76, 77, 79, 80, 81, 83,\\n            84],\\n           dtype='int64')] are in the [columns]\"",
     "output_type": "error",
     "traceback": [
      "\u001b[1;31m---------------------------------------------------------------------------\u001b[0m",
      "\u001b[1;31mKeyError\u001b[0m                                  Traceback (most recent call last)",
      "\u001b[1;32mc:\\Users\\USER\\OneDrive\\Summer_project\\Azure\\Master-Project\\Additional_analysis\\model.ipynb Cell 4'\u001b[0m in \u001b[0;36m<module>\u001b[1;34m\u001b[0m\n\u001b[0;32m     <a href='vscode-notebook-cell:/c%3A/Users/USER/OneDrive/Summer_project/Azure/Master-Project/Additional_analysis/model.ipynb#ch0000003?line=18'>19</a>\u001b[0m f1 \u001b[39m=\u001b[39m []\n\u001b[0;32m     <a href='vscode-notebook-cell:/c%3A/Users/USER/OneDrive/Summer_project/Azure/Master-Project/Additional_analysis/model.ipynb#ch0000003?line=20'>21</a>\u001b[0m \u001b[39mfor\u001b[39;00m train_index, test_index \u001b[39min\u001b[39;00m skf\u001b[39m.\u001b[39msplit(ds, labels):\n\u001b[1;32m---> <a href='vscode-notebook-cell:/c%3A/Users/USER/OneDrive/Summer_project/Azure/Master-Project/Additional_analysis/model.ipynb#ch0000003?line=21'>22</a>\u001b[0m     X_train, X_test \u001b[39m=\u001b[39m ds[train_index], ds[test_index]\n\u001b[0;32m     <a href='vscode-notebook-cell:/c%3A/Users/USER/OneDrive/Summer_project/Azure/Master-Project/Additional_analysis/model.ipynb#ch0000003?line=22'>23</a>\u001b[0m     y_train, y_test \u001b[39m=\u001b[39m labels[train_index], labels[test_index]\n\u001b[0;32m     <a href='vscode-notebook-cell:/c%3A/Users/USER/OneDrive/Summer_project/Azure/Master-Project/Additional_analysis/model.ipynb#ch0000003?line=23'>24</a>\u001b[0m     \u001b[39mprint\u001b[39m(X_test)\n",
      "File \u001b[1;32mc:\\Users\\USER\\AppData\\Local\\Programs\\Python\\Python39\\lib\\site-packages\\pandas\\core\\frame.py:3464\u001b[0m, in \u001b[0;36mDataFrame.__getitem__\u001b[1;34m(self, key)\u001b[0m\n\u001b[0;32m   3462\u001b[0m     \u001b[39mif\u001b[39;00m is_iterator(key):\n\u001b[0;32m   3463\u001b[0m         key \u001b[39m=\u001b[39m \u001b[39mlist\u001b[39m(key)\n\u001b[1;32m-> 3464\u001b[0m     indexer \u001b[39m=\u001b[39m \u001b[39mself\u001b[39;49m\u001b[39m.\u001b[39;49mloc\u001b[39m.\u001b[39;49m_get_listlike_indexer(key, axis\u001b[39m=\u001b[39;49m\u001b[39m1\u001b[39;49m)[\u001b[39m1\u001b[39m]\n\u001b[0;32m   3466\u001b[0m \u001b[39m# take() does not accept boolean indexers\u001b[39;00m\n\u001b[0;32m   3467\u001b[0m \u001b[39mif\u001b[39;00m \u001b[39mgetattr\u001b[39m(indexer, \u001b[39m\"\u001b[39m\u001b[39mdtype\u001b[39m\u001b[39m\"\u001b[39m, \u001b[39mNone\u001b[39;00m) \u001b[39m==\u001b[39m \u001b[39mbool\u001b[39m:\n",
      "File \u001b[1;32mc:\\Users\\USER\\AppData\\Local\\Programs\\Python\\Python39\\lib\\site-packages\\pandas\\core\\indexing.py:1314\u001b[0m, in \u001b[0;36m_LocIndexer._get_listlike_indexer\u001b[1;34m(self, key, axis)\u001b[0m\n\u001b[0;32m   1311\u001b[0m \u001b[39melse\u001b[39;00m:\n\u001b[0;32m   1312\u001b[0m     keyarr, indexer, new_indexer \u001b[39m=\u001b[39m ax\u001b[39m.\u001b[39m_reindex_non_unique(keyarr)\n\u001b[1;32m-> 1314\u001b[0m \u001b[39mself\u001b[39;49m\u001b[39m.\u001b[39;49m_validate_read_indexer(keyarr, indexer, axis)\n\u001b[0;32m   1316\u001b[0m \u001b[39mif\u001b[39;00m needs_i8_conversion(ax\u001b[39m.\u001b[39mdtype) \u001b[39mor\u001b[39;00m \u001b[39misinstance\u001b[39m(\n\u001b[0;32m   1317\u001b[0m     ax, (IntervalIndex, CategoricalIndex)\n\u001b[0;32m   1318\u001b[0m ):\n\u001b[0;32m   1319\u001b[0m     \u001b[39m# For CategoricalIndex take instead of reindex to preserve dtype.\u001b[39;00m\n\u001b[0;32m   1320\u001b[0m     \u001b[39m#  For IntervalIndex this is to map integers to the Intervals they match to.\u001b[39;00m\n\u001b[0;32m   1321\u001b[0m     keyarr \u001b[39m=\u001b[39m ax\u001b[39m.\u001b[39mtake(indexer)\n",
      "File \u001b[1;32mc:\\Users\\USER\\AppData\\Local\\Programs\\Python\\Python39\\lib\\site-packages\\pandas\\core\\indexing.py:1374\u001b[0m, in \u001b[0;36m_LocIndexer._validate_read_indexer\u001b[1;34m(self, key, indexer, axis)\u001b[0m\n\u001b[0;32m   1372\u001b[0m     \u001b[39mif\u001b[39;00m use_interval_msg:\n\u001b[0;32m   1373\u001b[0m         key \u001b[39m=\u001b[39m \u001b[39mlist\u001b[39m(key)\n\u001b[1;32m-> 1374\u001b[0m     \u001b[39mraise\u001b[39;00m \u001b[39mKeyError\u001b[39;00m(\u001b[39mf\u001b[39m\u001b[39m\"\u001b[39m\u001b[39mNone of [\u001b[39m\u001b[39m{\u001b[39;00mkey\u001b[39m}\u001b[39;00m\u001b[39m] are in the [\u001b[39m\u001b[39m{\u001b[39;00maxis_name\u001b[39m}\u001b[39;00m\u001b[39m]\u001b[39m\u001b[39m\"\u001b[39m)\n\u001b[0;32m   1376\u001b[0m not_found \u001b[39m=\u001b[39m \u001b[39mlist\u001b[39m(ensure_index(key)[missing_mask\u001b[39m.\u001b[39mnonzero()[\u001b[39m0\u001b[39m]]\u001b[39m.\u001b[39munique())\n\u001b[0;32m   1377\u001b[0m \u001b[39mraise\u001b[39;00m \u001b[39mKeyError\u001b[39;00m(\u001b[39mf\u001b[39m\u001b[39m\"\u001b[39m\u001b[39m{\u001b[39;00mnot_found\u001b[39m}\u001b[39;00m\u001b[39m not in index\u001b[39m\u001b[39m\"\u001b[39m)\n",
      "\u001b[1;31mKeyError\u001b[0m: \"None of [Int64Index([ 1,  2,  3,  5,  6,  7,  8,  9, 11, 13, 14, 15, 16, 17, 19, 20, 21,\\n            23, 24, 25, 26, 27, 28, 29, 30, 31, 32, 34, 36, 37, 38, 39, 41, 42,\\n            43, 44, 45, 46, 48, 49, 50, 51, 52, 53, 56, 57, 58, 59, 60, 61, 62,\\n            63, 64, 65, 67, 69, 70, 71, 73, 74, 75, 76, 77, 79, 80, 81, 83,\\n            84],\\n           dtype='int64')] are in the [columns]\""
     ]
    }
   ],
   "source": [
    "SHAP = True\n",
    "\n",
    "# model = RandomForestClassifier(random_state=random_state, class_weight = {0:estimate2, 1:estimate})\n",
    "# model = XGBClassifier(random_state=random_state, scale_pos_weight = estimate)\n",
    "# model = XGBClassifier(random_state=random_state, scale_pos_weight = estimate)\n",
    "model = RandomSurvivalForest(n_estimators=1000,\n",
    "                           min_samples_split=10,\n",
    "                           min_samples_leaf=15,\n",
    "                           max_features=\"sqrt\",\n",
    "                           n_jobs=-1,\n",
    "                           random_state=random_state)\n",
    "# model = LogisticRegression(random_state = random_state)\n",
    "labels = labels5\n",
    "\n",
    "#model training\n",
    "skf = KFold(n_splits=5, random_state=random_state, shuffle=True)\n",
    "acc = []\n",
    "cms = []\n",
    "f1 = []\n",
    "\n",
    "for train_index, test_index in skf.split(ds, labels):\n",
    "    X_train, X_test = ds[train_index], ds[test_index]\n",
    "    y_train, y_test = labels[train_index], labels[test_index]\n",
    "    print(X_test)\n",
    "    xgbc = model\n",
    "    xgbc.fit(X_train, y_train)\n",
    "    y_pred = xgbc.predict(X_test)\n",
    "    accuracy = accuracy_score(y_test, y_pred)\n",
    "    cf = confusion_matrix(y_test, y_pred)\n",
    "    fscore = f1_score(y_test, y_pred)\n",
    "    acc.append(accuracy)\n",
    "    cms.append(cf)\n",
    "    f1.append(fscore)\n",
    "    print('Accuracy:', round(accuracy,2))\n",
    "    print('F1-score:', round(fscore,2))\n",
    "    print('Confusion matrix:\\n', cf)\n",
    "\n",
    "    if SHAP:\n",
    "        ex = shap.Explainer(model)\n",
    "        shaps_values = ex.shap_values(X_test)\n",
    "        plt.figure(figsize = (15,15))\n",
    "        shap.summary_plot(shaps_values, pd.DataFrame(X_test.astype('float'), columns = features), show = True)\n",
    "        plt.savefig('SHAP_CPA.png',bbox_inches='tight', dpi=300)\n",
    "        SHAP = False\n",
    "\n",
    "print('Averaged accuracy (5-folds): %.3f ±  %.3f' % (np.mean(acc), statistics.stdev(acc)))\n",
    "print('Averaged f1-score (5-folds): %.3f ±  %.3f' % (np.mean(f1), statistics.stdev(f1)))\n",
    "\n"
   ]
  },
  {
   "cell_type": "code",
   "execution_count": 5,
   "metadata": {},
   "outputs": [
    {
     "name": "stdout",
     "output_type": "stream",
     "text": [
      "              COPD\n",
      "timeline          \n",
      "0.0       0.000000\n",
      "16.0      0.047619\n",
      "23.0      0.095238\n",
      "84.0      0.142857\n",
      "305.0     0.190476\n",
      "343.0     0.238095\n",
      "1016.0    0.285714\n",
      "1144.0    0.285714\n",
      "1258.0    0.285714\n",
      "1305.0    0.285714\n",
      "1312.0    0.345238\n",
      "1422.0    0.345238\n",
      "1455.0    0.410714\n",
      "1508.0    0.410714\n",
      "1510.0    0.410714\n",
      "1524.0    0.494898\n",
      "1540.0    0.579082\n",
      "1558.0    0.579082\n",
      "1703.0    0.579082\n",
      "1731.0    0.579082\n",
      "2085.0    0.579082\n",
      "2157.0    0.579082\n",
      "           No COPD\n",
      "timeline          \n",
      "0.0       0.000000\n",
      "13.0      0.015625\n",
      "37.0      0.031250\n",
      "48.0      0.046875\n",
      "67.0      0.062500\n",
      "...            ...\n",
      "2977.0    0.484508\n",
      "3077.0    0.484508\n",
      "3519.0    0.484508\n",
      "3587.0    0.484508\n",
      "3881.0    0.484508\n",
      "\n",
      "[65 rows x 1 columns]\n"
     ]
    },
    {
     "data": {
      "text/plain": [
       "<AxesSubplot:title={'center':'KMF'}, xlabel='timeline', ylabel='Survival'>"
      ]
     },
     "execution_count": 5,
     "metadata": {},
     "output_type": "execute_result"
    },
    {
     "data": {
      "image/png": "[encoded data removed]",
      "text/plain": [
       "<Figure size 432x288 with 1 Axes>"
      ]
     },
     "metadata": {
      "needs_background": "light"
     },
     "output_type": "display_data"
    }
   ],
   "source": [
    "###COPD \n",
    "\n",
    "kmf_1 = KaplanMeierFitter()\n",
    "kmf_0 = KaplanMeierFitter()\n",
    "\n",
    "pos = ds.query('COPD == 1')\n",
    "neg = ds.query('COPD == 0')\n",
    "\n",
    "kmf_1.fit(durations =  pos[\"surv\"],event_observed = pos[\"dead5\"] ,label=\"COPD\")\n",
    "kmf_0.fit(durations =  neg[\"surv\"],event_observed = neg[\"dead5\"], label=\"No COPD\")\n",
    "# print (kmf_1.event_table)\n",
    "# print (kmf_0.event_table)\n",
    "\n",
    "# print (kmf_1.predict(11))\n",
    "# print (kmf_0.predict(11))\n",
    "\n",
    "# print (kmf_1.survival_function_)\n",
    "# print (kmf_0.survival_function_)\n",
    "\n",
    "# Plot the survival_function data :\n",
    "# kmf_1.plot()\n",
    "# kmf_0.plot()\n",
    "plt.xlabel(\"Days passed\")\n",
    "plt.ylabel(\"Survival\")\n",
    "plt.title(\"KMF\")\n",
    "\n",
    "\n",
    "print (kmf_1.cumulative_density_)\n",
    "print (kmf_0.cumulative_density_)\n",
    "\n",
    "kmf_1.plot_cumulative_density()\n",
    "kmf_0.plot_cumulative_density()\n",
    "\n"
   ]
  },
  {
   "cell_type": "code",
   "execution_count": 36,
   "metadata": {},
   "outputs": [
    {
     "name": "stdout",
     "output_type": "stream",
     "text": [
      "['Solarize_Light2', '_classic_test_patch', '_mpl-gallery', '_mpl-gallery-nogrid', 'bmh', 'classic', 'dark_background', 'fast', 'fivethirtyeight', 'ggplot', 'grayscale', 'seaborn', 'seaborn-bright', 'seaborn-colorblind', 'seaborn-dark', 'seaborn-dark-palette', 'seaborn-darkgrid', 'seaborn-deep', 'seaborn-muted', 'seaborn-notebook', 'seaborn-paper', 'seaborn-pastel', 'seaborn-poster', 'seaborn-talk', 'seaborn-ticks', 'seaborn-white', 'seaborn-whitegrid', 'tableau-colorblind10']\n"
     ]
    },
    {
     "data": {
      "image/png": "[encoded data removed]",
      "text/plain": [
       "<Figure size 640x440 with 1 Axes>"
      ]
     },
     "metadata": {},
     "output_type": "display_data"
    }
   ],
   "source": [
    "###ILD \n",
    "print(plt.style.available)\n",
    "plt.rcdefaults() \n",
    "plt.style.use(['seaborn-paper', 'seaborn-dark', 'seaborn-colorblind'])\n",
    "\n",
    "kmf_1 = KaplanMeierFitter()\n",
    "kmf_0 = KaplanMeierFitter()\n",
    "\n",
    "pos = ds.query('ILD == 1')\n",
    "neg = ds.query('ILD == 0')\n",
    "\n",
    "kmf_1.fit(durations =  pos[\"surv\"],event_observed = pos[\"dead5\"] ,label=\"ILD\")\n",
    "kmf_0.fit(durations =  neg[\"surv\"],event_observed = neg[\"dead5\"], label=\"No ILD\")\n",
    "# print (kmf_1.event_table)\n",
    "# print (kmf_0.event_table)\n",
    "\n",
    "# print (kmf_1.predict(11))\n",
    "# print (kmf_0.predict(11))\n",
    "\n",
    "# print (kmf_1.survival_function_)\n",
    "# print (kmf_0.survival_function_)\n",
    "\n",
    "# Plot the survival_function data :\n",
    "fig, ax = plt.subplots()\n",
    "ax.spines['top'].set_visible(False)\n",
    "ax.spines['right'].set_visible(False)\n",
    "\n",
    "\n",
    "\n",
    "kmf_1.plot_cumulative_density()\n",
    "kmf_0.plot_cumulative_density()\n",
    "plt.xlabel(\"Days passed\")\n",
    "plt.ylabel(\"Dying probability\")\n",
    "legend = ax.legend(loc='lower right')\n",
    "ax.grid(False)\n"
   ]
  },
  {
   "cell_type": "code",
   "execution_count": 8,
   "metadata": {},
   "outputs": [
    {
     "name": "stdout",
     "output_type": "stream",
     "text": [
      "['Solarize_Light2', '_classic_test_patch', '_mpl-gallery', '_mpl-gallery-nogrid', 'bmh', 'classic', 'dark_background', 'fast', 'fivethirtyeight', 'ggplot', 'grayscale', 'seaborn', 'seaborn-bright', 'seaborn-colorblind', 'seaborn-dark', 'seaborn-dark-palette', 'seaborn-darkgrid', 'seaborn-deep', 'seaborn-muted', 'seaborn-notebook', 'seaborn-paper', 'seaborn-pastel', 'seaborn-poster', 'seaborn-talk', 'seaborn-ticks', 'seaborn-white', 'seaborn-whitegrid', 'tableau-colorblind10']\n"
     ]
    },
    {
     "data": {
      "image/png": "[encoded data removed]",
      "text/plain": [
       "<Figure size 460.8x316.8 with 1 Axes>"
      ]
     },
     "metadata": {
      "needs_background": "light"
     },
     "output_type": "display_data"
    }
   ],
   "source": [
    "###NTM \n",
    "print(plt.style.available)\n",
    "plt.style.use('seaborn-paper')\n",
    "kmf_1 = KaplanMeierFitter()\n",
    "kmf_0 = KaplanMeierFitter()\n",
    "\n",
    "pos = ds.query('NTM == 1')\n",
    "neg = ds.query('NTM == 0')\n",
    "\n",
    "kmf_1.fit(durations =  pos[\"surv\"],event_observed = pos[\"dead5\"] ,label=\"NTM\")\n",
    "kmf_0.fit(durations =  neg[\"surv\"],event_observed = neg[\"dead5\"], label=\"No NTM\")\n",
    "# print (kmf_1.event_table)\n",
    "# print (kmf_0.event_table)\n",
    "\n",
    "# print (kmf_1.predict(11))\n",
    "# print (kmf_0.predict(11))\n",
    "\n",
    "# print (kmf_1.survival_function_)\n",
    "# print (kmf_0.survival_function_)\n",
    "\n",
    "# Plot the survival_function data :\n",
    "fig, ax = plt.subplots()\n",
    "ax.spines['top'].set_visible(False)\n",
    "ax.spines['right'].set_visible(False)\n",
    "\n",
    "# plt.title(\"KMF\")\n",
    "\n",
    "kmf_1.plot_cumulative_density()\n",
    "kmf_0.plot_cumulative_density()\n",
    "plt.xlabel(\"Days passed\")\n",
    "plt.ylabel(\"Dying probability\")\n",
    "legend = ax.legend(loc='lower right')\n",
    "ax.grid(False)\n"
   ]
  },
  {
   "cell_type": "code",
   "execution_count": null,
   "metadata": {},
   "outputs": [],
   "source": [
    "#COX hazard model with or without CT scan data \n"
   ]
  },
  {
   "cell_type": "markdown",
   "metadata": {},
   "source": []
  }
 ],
 "metadata": {
  "kernelspec": {
   "display_name": "Python 3.9.7 64-bit",
   "language": "python",
   "name": "python3"
  },
  "language_info": {
   "codemirror_mode": {
    "name": "ipython",
    "version": 3
   },
   "file_extension": ".py",
   "mimetype": "text/x-python",
   "name": "python",
   "nbconvert_exporter": "python",
   "pygments_lexer": "ipython3",
   "version": "3.9.7"
  },
  "orig_nbformat": 4,
  "vscode": {
   "interpreter": {
    "hash": "1d5c1156327dacead463cc502c55ebae8ce9c8c01979cf154173ff808e75bf55"
   }
  }
 },
 "nbformat": 4,
 "nbformat_minor": 2
}
