{
 "cells": [
  {
   "cell_type": "code",
   "execution_count": 6,
   "metadata": {},
   "outputs": [
    {
     "name": "stdout",
     "output_type": "stream",
     "text": [
      "Collecting openpyxl\n",
      "  Downloading openpyxl-3.0.10-py2.py3-none-any.whl (242 kB)\n",
      "     -------------------------------------- 242.1/242.1 kB 4.9 MB/s eta 0:00:00\n",
      "Collecting et-xmlfile\n",
      "  Downloading et_xmlfile-1.1.0-py3-none-any.whl (4.7 kB)\n",
      "Installing collected packages: et-xmlfile, openpyxl\n",
      "Successfully installed et-xmlfile-1.1.0 openpyxl-3.0.10\n",
      "\n",
      "[notice] A new release of pip available: 22.1.2 -> 22.2\n",
      "[notice] To update, run: python.exe -m pip install --upgrade pip\n"
     ]
    }
   ],
   "source": [
    "import pandas as pd\n",
    "!pip install openpyxl\n"
   ]
  },
  {
   "cell_type": "code",
   "execution_count": 7,
   "metadata": {},
   "outputs": [],
   "source": [
    "df = pd.read_excel(r\"C:\\Users\\USER\\OneDrive\\Summer_project\\Azure\\annex study\\survival_cpa-master\\Updated database with comorbidities and mortality_anon 4_5_21_stripped.xlsx\")\n"
   ]
  },
  {
   "cell_type": "code",
   "execution_count": 12,
   "metadata": {},
   "outputs": [],
   "source": [
    "#variables to retain \n",
    "variables = ['STUDY_NUMBER', 'SEX','Age', 'ETHNIC','COPD', 'NTM', 'sampleCollectDateTime','biomarker_dttm','albumin','weight_measurement_dttm', 'BMI','death_date' ]"
   ]
  },
  {
   "cell_type": "code",
   "execution_count": 14,
   "metadata": {},
   "outputs": [
    {
     "name": "stdout",
     "output_type": "stream",
     "text": [
      "   STUDY_NUMBER SEX   Age ETHNIC COPD  NTM   sampleCollectDateTime  \\\n",
      "0    RBH CPA 91   F  32.5      A   No   No 2011-10-28 00:00:00.000   \n",
      "1    RBH CPA 68   M  58.3      A  Yes  Yes 2010-09-26 09:56:59.997   \n",
      "2    RBH CPA 17   F  68.1      A   No  Yes 2014-10-30 14:10:59.998   \n",
      "3    RBH CPA 42   F  44.1      H   No   No 2014-10-20 16:20:00.004   \n",
      "4     RBH CPA 6   F  50.0      L   No   No 2009-12-03 15:20:00.001   \n",
      "..          ...  ..   ...    ...  ...  ...                     ...   \n",
      "95   RBH CPA 12   M   NaN      A   No   No                     NaT   \n",
      "96   RBH CPA 71   M  56.9      A   No   No 2016-04-06 00:00:00.000   \n",
      "97   RBH CPA 78   M   NaN      A  Yes   No                     NaT   \n",
      "98   RBH CPA 89   F  62.3      A   No   No 2012-05-18 13:02:00.004   \n",
      "99   RBH CPA 40   F  53.4      A   No   No 2016-11-17 11:50:00.004   \n",
      "\n",
      "            biomarker_dttm  albumin weight_measurement_dttm   BMI death_date  \n",
      "0                      NaT      NaN                     NaT   NaN        NaT  \n",
      "1  2010-09-26 09:56:59.997     24.0                     NaT   NaN 2012-02-07  \n",
      "2  2014-10-30 14:10:59.998     43.0                     NaT   NaN        NaT  \n",
      "3  2014-10-20 16:20:00.004     45.0 2014-10-20 00:00:00.000  37.3 2016-07-19  \n",
      "4                      NaT      NaN 2009-10-08 15:14:33.996  26.3        NaT  \n",
      "..                     ...      ...                     ...   ...        ...  \n",
      "95                     NaT      NaN 2016-05-26 00:00:00.000   NaN 2020-05-28  \n",
      "96 2016-04-06 00:00:00.000     37.0                     NaT   NaN        NaT  \n",
      "97                     NaT      NaN 2019-11-26 00:00:00.000  21.4 2020-07-16  \n",
      "98 2012-05-18 13:02:00.004     36.0                     NaT   NaN 2020-02-03  \n",
      "99 2016-11-17 11:50:00.004     44.0 2016-11-17 00:00:00.000  26.7        NaT  \n",
      "\n",
      "[100 rows x 12 columns]\n"
     ]
    }
   ],
   "source": [
    "#only keeping the interesting variables for our study\n",
    "df = df[variables]"
   ]
  }
 ],
 "metadata": {
  "kernelspec": {
   "display_name": "Python 3.9.7 64-bit",
   "language": "python",
   "name": "python3"
  },
  "language_info": {
   "codemirror_mode": {
    "name": "ipython",
    "version": 3
   },
   "file_extension": ".py",
   "mimetype": "text/x-python",
   "name": "python",
   "nbconvert_exporter": "python",
   "pygments_lexer": "ipython3",
   "version": "3.9.7"
  },
  "orig_nbformat": 4,
  "vscode": {
   "interpreter": {
    "hash": "1d5c1156327dacead463cc502c55ebae8ce9c8c01979cf154173ff808e75bf55"
   }
  }
 },
 "nbformat": 4,
 "nbformat_minor": 2
}
