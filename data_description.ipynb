{
    "metadata": {
        "kernelspec": {
            "name": "python3",
            "display_name": "Python 3 (ipykernel)",
            "language": "python"
        },
        "language_info": {
            "name": "python",
            "version": "3.9.7",
            "mimetype": "text/x-python",
            "codemirror_mode": {
                "name": "ipython",
                "version": 3
            },
            "pygments_lexer": "ipython3",
            "nbconvert_exporter": "python",
            "file_extension": ".py"
        }
    },
    "nbformat_minor": 2,
    "nbformat": 4,
    "cells": [
        {
            "cell_type": "markdown",
            "source": [
                "# Description of the MIMIC III demo database"
            ],
            "metadata": {
                "azdata_cell_guid": "c39fe554-646b-4ebf-8324-80e84e1500bd"
            },
            "attachments": {}
        },
        {
            "cell_type": "markdown",
            "source": [
                "The repartition of the patient age is the following:"
            ],
            "metadata": {
                "azdata_cell_guid": "e6357507-892f-4b62-904f-67a8c21ba37e"
            },
            "attachments": {}
        },
        {
            "cell_type": "code",
            "source": [
                "![Age repartition](Charts/age_demo.png)"
            ],
            "metadata": {
                "azdata_cell_guid": "9d2860b2-f9cf-44c0-9f14-55f45f2fde16",
                "language": "python"
            },
            "outputs": [
                {
                    "name": "stderr",
                    "text": "'[Age' is not recognized as an internal or external command,\noperable program or batch file.\n",
                    "output_type": "stream"
                }
            ],
            "execution_count": 5
        },
        {
            "cell_type": "markdown",
            "source": [
                "```\n",
                "\n",
                "```"
            ],
            "metadata": {
                "language": "sql",
                "azdata_cell_guid": "a7da3e0b-e291-4fcf-9f07-932baebe95da"
            },
            "attachments": {}
        }
    ]
}