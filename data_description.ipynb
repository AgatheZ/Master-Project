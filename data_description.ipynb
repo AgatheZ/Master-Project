{
    "metadata": {
        "kernelspec": {
            "name": "SQL",
            "display_name": "SQL",
            "language": "sql"
        },
        "language_info": {
            "name": "sql",
            "version": ""
        }
    },
    "nbformat_minor": 2,
    "nbformat": 4,
    "cells": [
        {
            "cell_type": "markdown",
            "source": [
                "# Description of the MIMIC III demo database"
            ],
            "metadata": {
                "azdata_cell_guid": "c39fe554-646b-4ebf-8324-80e84e1500bd"
            }
        },
        {
            "cell_type": "markdown",
            "source": [
                "The repartition of the patient age is the following:"
            ],
            "metadata": {
                "azdata_cell_guid": "e6357507-892f-4b62-904f-67a8c21ba37e"
            },
            "attachments": {}
        },
        {
            "cell_type": "code",
            "source": [
                "SELECT age AS val, COUNT(1) AS age from public.patient_info\r\n",
                "GROUP BY age\r\n",
                "ORDER BY val"
            ],
            "metadata": {
                "azdata_cell_guid": "bf876aac-5d82-4254-9388-a7571502ac81",
                "language": "sql"
            },
            "outputs": [
                {
                    "output_type": "display_data",
                    "data": {
                        "text/html": "(43 row(s) affected)"
                    },
                    "metadata": {}
                },
                {
                    "output_type": "display_data",
                    "data": {
                        "text/html": "Total execution time: 00:00:00.018"
                    },
                    "metadata": {}
                },
                {
                    "output_type": "execute_result",
                    "metadata": {
                        "azdata_chartOptions": {
                            "type": "bar",
                            "dataDirection": "vertical",
                            "columnsAsLabels": true,
                            "labelFirstColumn": false,
                            "legendPosition": "top",
                            "dataType": "number"
                        }
                    },
                    "execution_count": 1,
                    "data": {
                        "application/vnd.dataresource+json": {
                            "schema": {
                                "fields": [
                                    {
                                        "name": "val"
                                    },
                                    {
                                        "name": "age"
                                    }
                                ]
                            },
                            "data": [
                                {
                                    "0": "17",
                                    "1": "1"
                                },
                                {
                                    "0": "20",
                                    "1": "1"
                                },
                                {
                                    "0": "27",
                                    "1": "1"
                                },
                                {
                                    "0": "28",
                                    "1": "1"
                                },
                                {
                                    "0": "29",
                                    "1": "1"
                                },
                                {
                                    "0": "36",
                                    "1": "1"
                                },
                                {
                                    "0": "41",
                                    "1": "3"
                                },
                                {
                                    "0": "44",
                                    "1": "3"
                                },
                                {
                                    "0": "45",
                                    "1": "1"
                                },
                                {
                                    "0": "49",
                                    "1": "3"
                                },
                                {
                                    "0": "51",
                                    "1": "1"
                                },
                                {
                                    "0": "52",
                                    "1": "1"
                                },
                                {
                                    "0": "53",
                                    "1": "1"
                                },
                                {
                                    "0": "54",
                                    "1": "3"
                                },
                                {
                                    "0": "55",
                                    "1": "4"
                                },
                                {
                                    "0": "58",
                                    "1": "1"
                                },
                                {
                                    "0": "62",
                                    "1": "3"
                                },
                                {
                                    "0": "63",
                                    "1": "1"
                                },
                                {
                                    "0": "64",
                                    "1": "5"
                                },
                                {
                                    "0": "65",
                                    "1": "6"
                                },
                                {
                                    "0": "66",
                                    "1": "5"
                                },
                                {
                                    "0": "67",
                                    "1": "3"
                                },
                                {
                                    "0": "69",
                                    "1": "5"
                                },
                                {
                                    "0": "70",
                                    "1": "3"
                                },
                                {
                                    "0": "71",
                                    "1": "3"
                                },
                                {
                                    "0": "72",
                                    "1": "1"
                                },
                                {
                                    "0": "73",
                                    "1": "5"
                                },
                                {
                                    "0": "74",
                                    "1": "1"
                                },
                                {
                                    "0": "76",
                                    "1": "4"
                                },
                                {
                                    "0": "77",
                                    "1": "6"
                                },
                                {
                                    "0": "78",
                                    "1": "4"
                                },
                                {
                                    "0": "79",
                                    "1": "2"
                                },
                                {
                                    "0": "80",
                                    "1": "2"
                                },
                                {
                                    "0": "81",
                                    "1": "7"
                                },
                                {
                                    "0": "82",
                                    "1": "6"
                                },
                                {
                                    "0": "83",
                                    "1": "7"
                                },
                                {
                                    "0": "84",
                                    "1": "1"
                                },
                                {
                                    "0": "85",
                                    "1": "2"
                                },
                                {
                                    "0": "86",
                                    "1": "5"
                                },
                                {
                                    "0": "87",
                                    "1": "6"
                                },
                                {
                                    "0": "88",
                                    "1": "5"
                                },
                                {
                                    "0": "89",
                                    "1": "2"
                                },
                                {
                                    "0": "300",
                                    "1": "9"
                                }
                            ]
                        },
                        "text/html": [
                            "<table>",
                            "<tr><th>val</th><th>age</th></tr>",
                            "<tr><td>17</td><td>1</td></tr>",
                            "<tr><td>20</td><td>1</td></tr>",
                            "<tr><td>27</td><td>1</td></tr>",
                            "<tr><td>28</td><td>1</td></tr>",
                            "<tr><td>29</td><td>1</td></tr>",
                            "<tr><td>36</td><td>1</td></tr>",
                            "<tr><td>41</td><td>3</td></tr>",
                            "<tr><td>44</td><td>3</td></tr>",
                            "<tr><td>45</td><td>1</td></tr>",
                            "<tr><td>49</td><td>3</td></tr>",
                            "<tr><td>51</td><td>1</td></tr>",
                            "<tr><td>52</td><td>1</td></tr>",
                            "<tr><td>53</td><td>1</td></tr>",
                            "<tr><td>54</td><td>3</td></tr>",
                            "<tr><td>55</td><td>4</td></tr>",
                            "<tr><td>58</td><td>1</td></tr>",
                            "<tr><td>62</td><td>3</td></tr>",
                            "<tr><td>63</td><td>1</td></tr>",
                            "<tr><td>64</td><td>5</td></tr>",
                            "<tr><td>65</td><td>6</td></tr>",
                            "<tr><td>66</td><td>5</td></tr>",
                            "<tr><td>67</td><td>3</td></tr>",
                            "<tr><td>69</td><td>5</td></tr>",
                            "<tr><td>70</td><td>3</td></tr>",
                            "<tr><td>71</td><td>3</td></tr>",
                            "<tr><td>72</td><td>1</td></tr>",
                            "<tr><td>73</td><td>5</td></tr>",
                            "<tr><td>74</td><td>1</td></tr>",
                            "<tr><td>76</td><td>4</td></tr>",
                            "<tr><td>77</td><td>6</td></tr>",
                            "<tr><td>78</td><td>4</td></tr>",
                            "<tr><td>79</td><td>2</td></tr>",
                            "<tr><td>80</td><td>2</td></tr>",
                            "<tr><td>81</td><td>7</td></tr>",
                            "<tr><td>82</td><td>6</td></tr>",
                            "<tr><td>83</td><td>7</td></tr>",
                            "<tr><td>84</td><td>1</td></tr>",
                            "<tr><td>85</td><td>2</td></tr>",
                            "<tr><td>86</td><td>5</td></tr>",
                            "<tr><td>87</td><td>6</td></tr>",
                            "<tr><td>88</td><td>5</td></tr>",
                            "<tr><td>89</td><td>2</td></tr>",
                            "<tr><td>300</td><td>9</td></tr>",
                            "</table>"
                        ]
                    }
                }
            ],
            "execution_count": 1
        },
        {
            "cell_type": "markdown",
            "source": [
                ""
            ],
            "metadata": {
                "language": "sql",
                "azdata_cell_guid": "a7da3e0b-e291-4fcf-9f07-932baebe95da"
            }
        }
    ]
}