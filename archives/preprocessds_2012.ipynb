{
 "cells": [
  {
   "cell_type": "code",
   "execution_count": 26,
   "metadata": {},
   "outputs": [],
   "source": [
    "import numpy as np\n",
    "import os \n",
    "import pandas as pd "
   ]
  },
  {
   "cell_type": "code",
   "execution_count": 23,
   "metadata": {},
   "outputs": [
    {
     "name": "stdout",
     "output_type": "stream",
     "text": [
      "\\Users\\USER\\Documents\\Imperial\\Summer_project\\Data\\set-a\n"
     ]
    }
   ],
   "source": [
    "dataset = '\\\\Users\\\\USER\\\\Documents\\\\Imperial\\\\Summer_project\\\\Data\\\\set-a'\n",
    "print(dataset)"
   ]
  },
  {
   "cell_type": "code",
   "execution_count": 52,
   "metadata": {},
   "outputs": [],
   "source": [
    "# load all files into list of lists\n",
    "txt_all = list()\n",
    "for f in os.listdir(dataset):\n",
    "    with open(os.path.join(dataset, f), 'r') as fp:\n",
    "        txt = fp.readlines()\n",
    "        \n",
    "    # add the id as a column \n",
    "    id = txt[1].rstrip('\\n').split(',')[-1]\n",
    "    txt = [t.rstrip('\\n').split(',') + [int(id)] for t in txt]\n",
    "    txt_all.extend(txt[1:])"
   ]
  },
  {
   "cell_type": "code",
   "execution_count": 72,
   "metadata": {},
   "outputs": [],
   "source": [
    "# convert to pandas dataframe\n",
    "df = pd.DataFrame(txt_all, columns=['time', 'parameter', 'value', 'ID'])"
   ]
  },
  {
   "cell_type": "code",
   "execution_count": 54,
   "metadata": {},
   "outputs": [
    {
     "name": "stdout",
     "output_type": "stream",
     "text": [
      "          time parameter   value      ID\n",
      "0        00:00  RecordID  132539  132539\n",
      "1        00:00       Age      54  132539\n",
      "2        00:00    Gender       0  132539\n",
      "3        00:00    Height      -1  132539\n",
      "4        00:00   ICUType       4  132539\n",
      "...        ...       ...     ...     ...\n",
      "1757975  47:36        HR      84  142673\n",
      "1757976  47:36       MAP      86  142673\n",
      "1757977  47:36    SysABP     129  142673\n",
      "1757978  47:36     Urine      30  142673\n",
      "1757979  47:36    Weight    87.3  142673\n",
      "\n",
      "[1757980 rows x 4 columns]\n",
      "4000\n"
     ]
    }
   ],
   "source": [
    "print(df)\n",
    "print(df['ID'].nunique())"
   ]
  },
  {
   "cell_type": "code",
   "execution_count": 85,
   "metadata": {},
   "outputs": [],
   "source": [
    "#record id is now a column \n",
    "df = df.drop(df[df.parameter == 'RecordID'].index)\n",
    "\n",
    "\n",
    "#map the ids starting from 1 for convenience \n",
    "mapping = {item:i for i, item in enumerate(df[\"ID\"].unique())}\n",
    "df['ID'] = df['ID'].apply(lambda x: mapping[x])\n",
    "\n",
    "df.head()\n",
    "features = {'Albumin': 'Serum Albumin (g/dL)',\n",
    "    'ALP': 'Alkaline phosphatase (IU/L)',\n",
    "    'ALT': 'Alanine transaminase (IU/L)',\n",
    "    'AST': 'Aspartate transaminase (IU/L)',\n",
    "    'Bilirubin': 'Bilirubin (mg/dL)',\n",
    "    'BUN': 'Blood urea nitrogen (mg/dL)',\n",
    "    'Cholesterol': 'Cholesterol (mg/dL)',\n",
    "    'Creatinine': 'Serum creatinine (mg/dL)',\n",
    "    'DiasABP': 'Invasive diastolic arterial blood pressure (mmHg)',\n",
    "    'FiO2': 'Fractional inspired O2 (0-1)',\n",
    "    'GCS': 'Glasgow Coma Score (3-15)',\n",
    "    'Glucose': 'Serum glucose (mg/dL)',\n",
    "    'HCO3': 'Serum bicarbonate (mmol/L)',\n",
    "    'HCT': 'Hematocrit (%)',\n",
    "    'HR': 'Heart rate (bpm)',\n",
    "    'K': 'Serum potassium (mEq/L)',\n",
    "    'Lactate': 'Lactate (mmol/L)',\n",
    "    'Mg': 'Serum magnesium (mmol/L)',\n",
    "    'MAP': 'Invasive mean arterial blood pressure (mmHg)',\n",
    "    'MechVent': 'Mechanical ventilation respiration (0:false or 1:true)',\n",
    "    'Na': 'Serum sodium (mEq/L)',\n",
    "    'NIDiasABP': 'Non-invasive diastolic arterial blood pressure (mmHg)',\n",
    "    'NIMAP': 'Non-invasive mean arterial blood pressure (mmHg)',\n",
    "    'NISysABP': 'Non-invasive systolic arterial blood pressure (mmHg)',\n",
    "    'PaCO2': 'partial pressure of arterial CO2 (mmHg)',\n",
    "    'PaO2': 'Partial pressure of arterial O2 (mmHg)',\n",
    "    'pH': 'Arterial pH (0-14)',\n",
    "    'Platelets': 'Platelets (cells/nL)',\n",
    "    'RespRate': 'Respiration rate (bpm)',\n",
    "    'SaO2': 'O2 saturation in hemoglobin (%)',\n",
    "    'SysABP': 'Invasive systolic arterial blood pressure (mmHg)',\n",
    "    'Temp': 'Temperature (°C)',\n",
    "    'TroponinI': 'Troponin-I (μg/L)',\n",
    "    'TroponinT': 'Troponin-T (μg/L)',\n",
    "    'Urine': 'Urine output (mL)',\n",
    "    'WBC': 'White blood cell count (cells/nL)',\n",
    "    'Weight': 'Weight (kg)'}\n"
   ]
  },
  {
   "cell_type": "code",
   "execution_count": 89,
   "metadata": {},
   "outputs": [
    {
     "name": "stdout",
     "output_type": "stream",
     "text": [
      "          time parameter value    ID\n",
      "1        00:00       Age    54     0\n",
      "2        00:00    Gender     0     0\n",
      "3        00:00    Height    -1     0\n",
      "4        00:00   ICUType     4     0\n",
      "5        00:00    Weight    -1     0\n",
      "...        ...       ...   ...   ...\n",
      "1757975  47:36        HR    84  3999\n",
      "1757976  47:36       MAP    86  3999\n",
      "1757977  47:36    SysABP   129  3999\n",
      "1757978  47:36     Urine    30  3999\n",
      "1757979  47:36    Weight  87.3  3999\n",
      "\n",
      "[1753980 rows x 4 columns]\n"
     ]
    }
   ],
   "source": [
    "pd.set_option('display.max_rows', 15)\n",
    "print(df)"
   ]
  }
 ],
 "metadata": {
  "interpreter": {
   "hash": "23300995598eec4bcf6bd89cf02d1c3675e8b2616661418dbbf5580aa901878d"
  },
  "kernelspec": {
   "display_name": "Python 3.9.7 64-bit",
   "language": "python",
   "name": "python3"
  },
  "language_info": {
   "codemirror_mode": {
    "name": "ipython",
    "version": 3
   },
   "file_extension": ".py",
   "mimetype": "text/x-python",
   "name": "python",
   "nbconvert_exporter": "python",
   "pygments_lexer": "ipython3",
   "version": "3.9.7"
  },
  "orig_nbformat": 4
 },
 "nbformat": 4,
 "nbformat_minor": 2
}
