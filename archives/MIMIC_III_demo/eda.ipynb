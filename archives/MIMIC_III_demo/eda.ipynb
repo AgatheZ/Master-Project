{
    "metadata": {
        "kernelspec": {
            "name": "python3",
            "display_name": "Python 3 (ipykernel)",
            "language": "python"
        },
        "language_info": {
            "name": "python",
            "version": "3.9.7",
            "mimetype": "text/x-python",
            "codemirror_mode": {
                "name": "ipython",
                "version": 3
            },
            "pygments_lexer": "ipython3",
            "nbconvert_exporter": "python",
            "file_extension": ".py"
        }
    },
    "nbformat_minor": 2,
    "nbformat": 4,
    "cells": [
        {
            "cell_type": "markdown",
            "source": [
                "# **Exploratory analysis of the data**"
            ],
            "metadata": {
                "language": "python",
                "azdata_cell_guid": "79c616c0-cbd0-406e-9a62-8c3818a784f6"
            },
            "attachments": {}
        },
        {
            "cell_type": "markdown",
            "source": [
                "## Extra Preprocessing"
            ],
            "metadata": {
                "azdata_cell_guid": "515885ae-dfa1-4139-a49a-b7a85e1271dd"
            },
            "attachments": {}
        },
        {
            "cell_type": "code",
            "source": [
                "import numpy as np \r\n",
                "import pandas as pd\r\n",
                "import matplotlib.pyplot as plt \r\n",
                "from matplotlib.pyplot import cm\r\n",
                "import seaborn as sns"
            ],
            "metadata": {
                "language": "python",
                "azdata_cell_guid": "b8fe1a02-f39d-45db-89c8-925da823bc13"
            },
            "outputs": [],
            "execution_count": null
        },
        {
            "cell_type": "code",
            "source": [
                "def trunc_length(ds, nb_hours):\r\n",
                "#function that truncates the data to only consider the first nb_hours hours\r\n",
                "    df = ds.loc[ds.index <=  nb_hours]\r\n",
                "    return df\r\n",
                "\r\n",
                "def create_batchs(ds):\r\n",
                "    batchs = []\r\n",
                "    ids = ds.icustay_id.unique()\r\n",
                "    for i in ids:\r\n",
                "        batchs.append(ds.loc[ds['icustay_id'] == i])\r\n",
                "    return batchs\r\n",
                "\r\n",
                "def remove_missing(batch, var, threshold):\r\n",
                "#remove from batch the entries where a too large proportion of the variables var are missing \r\n",
                "    res = []\r\n",
                "    \r\n",
                "    for i in range(len(batch)):\r\n",
                "        percent_missing = batch[i].isnull().sum() * 100 / len(batch[i])\r\n",
                "        missing_value_df = pandas.DataFrame({'column_name': batch[i].columns,\r\n",
                "                                    'percent_missing': percent_missing})\r\n",
                "        criterion = np.array([missing_value_df.loc[missing_value_df.column_name == t].percent_missing >= threshold for t in var])\r\n",
                "        if criterion.any():\r\n",
                "            print('entry removed')\r\n",
                "        else:\r\n",
                "            res.append(batch[i])\r\n",
                "    return res\r\n",
                "\r\n",
                ""
            ],
            "metadata": {
                "azdata_cell_guid": "69a039cb-4c8c-4a38-99c6-62cd779c7723",
                "language": "python",
                "tags": []
            },
            "outputs": [],
            "execution_count": 413
        },
        {
            "cell_type": "markdown",
            "source": [
                "## Loading the data"
            ],
            "metadata": {
                "language": "python",
                "azdata_cell_guid": "081b1ddd-00cd-4402-a8ad-3f1f164b7331"
            },
            "attachments": {}
        },
        {
            "cell_type": "code",
            "source": [
                "nb_hours = 25\r\n",
                "list_vit = ['heart_rate', 'oxygen_saturation', 'map']\r\n",
                "list_vit_clean = ['Heart Rate', 'Oxygen Saturation', 'MAP']\r\n",
                "\r\n",
                "\r\n",
                "df = pandas.read_csv('preprocessed_mimic3d_hour.csv', delimiter=',', index_col = \"hour_from_intime\")\r\n",
                "df = trunc_length(df, nb_hours)\r\n",
                "bch = create_batchs(df)"
            ],
            "metadata": {
                "azdata_cell_guid": "46658086-890a-429e-84db-01f17c9d8502",
                "language": "python",
                "tags": []
            },
            "outputs": [],
            "execution_count": 415
        },
        {
            "cell_type": "markdown",
            "source": [
                "## Analysis of missing data"
            ],
            "metadata": {
                "language": "python",
                "azdata_cell_guid": "2d17b81e-1d79-45b9-82af-29d6ad328378"
            },
            "attachments": {}
        },
        {
            "cell_type": "code",
            "source": [
                "# /!\\ code à clean \r\n",
                "import plotly.graph_objects as go\r\n",
                "\r\n",
                "miss_hr = []\r\n",
                "miss_spO2 = []\r\n",
                "miss_map = []\r\n",
                "miss_icp = []\r\n",
                "miss_cpp = []\r\n",
                "for i in range(len(bch)):\r\n",
                "        percent_missing = bch[i].isnull().sum() * 100 / len(bch[i])\r\n",
                "        missing_value_df = pandas.DataFrame({'percent_missing': percent_missing})\r\n",
                "        miss_hr.append(percent_missing[2])\r\n",
                "        miss_spO2.append(percent_missing[3])\r\n",
                "        miss_map.append(percent_missing[4])\r\n",
                "        miss_icp.append(percent_missing[5])\r\n",
                "        miss_cpp.append(percent_missing[6])\r\n",
                "\r\n",
                "fig = go.Figure()\r\n",
                "fig.update_layout(xaxis_title='Vitals missing percentage')\r\n",
                "fig.add_trace(go.Box(y=miss_hr, boxpoints='all', name = 'Heart rate'))\r\n",
                "fig.add_trace(go.Box(y=miss_spO2, boxpoints='all', name = 'spO2'))\r\n",
                "fig.add_trace(go.Box(y=miss_map, boxpoints='all', name = 'MAP'))\r\n",
                "fig.show()"
            ],
            "metadata": {
                "language": "python",
                "azdata_cell_guid": "a59aa567-b403-4624-9175-6940a6a9eafe",
                "tags": []
            },
            "outputs": [
                {
                    "data": {
                        "application/vnd.plotly.v1+json": {
                            "data": [
                                {
                                    "boxpoints": "all",
                                    "name": "Heart rate",
                                    "y": [
                                        0,
                                        0,
                                        5.555555555555555,
                                        0,
                                        0,
                                        0,
                                        0,
                                        0,
                                        0,
                                        0,
                                        4.166666666666667,
                                        0,
                                        4.166666666666667,
                                        0,
                                        0,
                                        0,
                                        0,
                                        0,
                                        0,
                                        0,
                                        0,
                                        4.166666666666667,
                                        0,
                                        0,
                                        0,
                                        0,
                                        3.8461538461538463,
                                        11.538461538461538,
                                        0,
                                        4.761904761904762,
                                        0,
                                        0,
                                        15,
                                        4,
                                        0,
                                        0,
                                        0,
                                        0,
                                        4.3478260869565215,
                                        0,
                                        0,
                                        0,
                                        0,
                                        4.545454545454546,
                                        0,
                                        4.545454545454546,
                                        4.166666666666667,
                                        0,
                                        4.3478260869565215,
                                        0,
                                        0,
                                        0,
                                        0,
                                        5.882352941176471,
                                        0,
                                        4.545454545454546,
                                        0,
                                        0,
                                        0,
                                        4.166666666666667,
                                        0,
                                        4.545454545454546,
                                        0,
                                        0,
                                        6.666666666666667,
                                        0,
                                        0,
                                        0,
                                        0,
                                        0,
                                        0,
                                        4,
                                        0,
                                        0,
                                        0,
                                        0,
                                        0,
                                        4,
                                        0,
                                        0,
                                        0,
                                        0,
                                        0,
                                        0,
                                        4,
                                        0,
                                        0,
                                        0,
                                        0,
                                        0,
                                        0,
                                        3.8461538461538463,
                                        0,
                                        0,
                                        4.166666666666667,
                                        4.3478260869565215,
                                        0,
                                        8.695652173913043,
                                        0,
                                        4.166666666666667,
                                        0,
                                        4.3478260869565215,
                                        8.333333333333334,
                                        0,
                                        0,
                                        5,
                                        0,
                                        4,
                                        0,
                                        0,
                                        0,
                                        5.555555555555555,
                                        14.285714285714286,
                                        0,
                                        0,
                                        0,
                                        0,
                                        0,
                                        5.555555555555555,
                                        4.3478260869565215,
                                        0,
                                        0,
                                        0,
                                        8.333333333333334,
                                        0,
                                        0,
                                        0,
                                        0,
                                        0,
                                        0,
                                        0,
                                        4
                                    ],
                                    "type": "box"
                                },
                                {
                                    "boxpoints": "all",
                                    "name": "spO2",
                                    "y": [
                                        0,
                                        84,
                                        0,
                                        86.36363636363636,
                                        6.25,
                                        0,
                                        91.30434782608695,
                                        0,
                                        0,
                                        86.95652173913044,
                                        91.66666666666667,
                                        87.5,
                                        79.16666666666667,
                                        5,
                                        95.65217391304348,
                                        82.6086956521739,
                                        4.545454545454546,
                                        0,
                                        83.33333333333333,
                                        66.66666666666667,
                                        0,
                                        79.16666666666667,
                                        88,
                                        85,
                                        92.85714285714286,
                                        92.3076923076923,
                                        80.76923076923077,
                                        0,
                                        0,
                                        85.71428571428571,
                                        0,
                                        0,
                                        0,
                                        88,
                                        0,
                                        0,
                                        0,
                                        88.23529411764706,
                                        78.26086956521739,
                                        0,
                                        3.8461538461538463,
                                        86.95652173913044,
                                        83.33333333333333,
                                        27.272727272727273,
                                        0,
                                        90.9090909090909,
                                        0,
                                        78.26086956521739,
                                        86.95652173913044,
                                        76,
                                        75,
                                        7.6923076923076925,
                                        95.45454545454545,
                                        88.23529411764706,
                                        79.16666666666667,
                                        81.81818181818181,
                                        88,
                                        83.33333333333333,
                                        0,
                                        91.66666666666667,
                                        0,
                                        4.545454545454546,
                                        0,
                                        0,
                                        0,
                                        0,
                                        86.95652173913044,
                                        95.45454545454545,
                                        0,
                                        91.30434782608695,
                                        0,
                                        92,
                                        91.66666666666667,
                                        0,
                                        90.47619047619048,
                                        100,
                                        0,
                                        92,
                                        0,
                                        0,
                                        86.66666666666667,
                                        4.166666666666667,
                                        4.761904761904762,
                                        86.36363636363636,
                                        8,
                                        86.95652173913044,
                                        92,
                                        0,
                                        0,
                                        81.81818181818181,
                                        8.695652173913043,
                                        0,
                                        0,
                                        0,
                                        87.5,
                                        82.6086956521739,
                                        0,
                                        86.95652173913044,
                                        0,
                                        83.33333333333333,
                                        87.5,
                                        73.91304347826087,
                                        75,
                                        91.30434782608695,
                                        91.66666666666667,
                                        0,
                                        87.5,
                                        88,
                                        91.66666666666667,
                                        91.30434782608695,
                                        85.71428571428571,
                                        88.88888888888889,
                                        78.57142857142857,
                                        0,
                                        4.166666666666667,
                                        75,
                                        78.26086956521739,
                                        88,
                                        88.88888888888889,
                                        4.3478260869565215,
                                        85.71428571428571,
                                        90.47619047619048,
                                        0,
                                        83.33333333333333,
                                        0,
                                        90.9090909090909,
                                        81.81818181818181,
                                        0,
                                        0,
                                        12,
                                        100,
                                        80
                                    ],
                                    "type": "box"
                                },
                                {
                                    "boxpoints": "all",
                                    "name": "MAP",
                                    "y": [
                                        46.15384615384615,
                                        0,
                                        66.66666666666667,
                                        9.090909090909092,
                                        100,
                                        100,
                                        0,
                                        15.384615384615385,
                                        100,
                                        0,
                                        20.833333333333332,
                                        0,
                                        0,
                                        85,
                                        4.3478260869565215,
                                        4.3478260869565215,
                                        100,
                                        100,
                                        8.333333333333334,
                                        0,
                                        36.36363636363637,
                                        4.166666666666667,
                                        8,
                                        10,
                                        7.142857142857143,
                                        7.6923076923076925,
                                        7.6923076923076925,
                                        11.538461538461538,
                                        0,
                                        4.761904761904762,
                                        100,
                                        100,
                                        100,
                                        8,
                                        100,
                                        100,
                                        0,
                                        11.764705882352942,
                                        0,
                                        33.333333333333336,
                                        100,
                                        13.043478260869565,
                                        4.166666666666667,
                                        100,
                                        100,
                                        13.636363636363637,
                                        95.83333333333333,
                                        17.391304347826086,
                                        21.73913043478261,
                                        0,
                                        4.166666666666667,
                                        0,
                                        13.636363636363637,
                                        5.882352941176471,
                                        25,
                                        4.545454545454546,
                                        0,
                                        8.333333333333334,
                                        39.130434782608695,
                                        4.166666666666667,
                                        0,
                                        9.090909090909092,
                                        0,
                                        80,
                                        100,
                                        3.8461538461538463,
                                        0,
                                        18.181818181818183,
                                        77.77777777777777,
                                        4.3478260869565215,
                                        100,
                                        12,
                                        4.166666666666667,
                                        12.5,
                                        19.047619047619047,
                                        9.090909090909092,
                                        0,
                                        12,
                                        19.23076923076923,
                                        12.5,
                                        0,
                                        100,
                                        100,
                                        0,
                                        28,
                                        0,
                                        0,
                                        100,
                                        0,
                                        4.545454545454546,
                                        100,
                                        42.30769230769231,
                                        92,
                                        100,
                                        4.166666666666667,
                                        4.3478260869565215,
                                        100,
                                        17.391304347826086,
                                        100,
                                        4.166666666666667,
                                        8.333333333333334,
                                        13.043478260869565,
                                        8.333333333333334,
                                        0,
                                        0,
                                        100,
                                        8.333333333333334,
                                        4,
                                        12.5,
                                        0,
                                        4.761904761904762,
                                        11.11111111111111,
                                        21.428571428571427,
                                        9.090909090909092,
                                        0,
                                        0,
                                        4.3478260869565215,
                                        4,
                                        27.77777777777778,
                                        26.08695652173913,
                                        0,
                                        0,
                                        100,
                                        16.666666666666668,
                                        100,
                                        0,
                                        0,
                                        100,
                                        100,
                                        20,
                                        33.333333333333336,
                                        8
                                    ],
                                    "type": "box"
                                }
                            ],
                            "layout": {
                                "template": {
                                    "data": {
                                        "histogram2dcontour": [
                                            {
                                                "type": "histogram2dcontour",
                                                "colorbar": {
                                                    "outlinewidth": 0,
                                                    "ticks": ""
                                                },
                                                "colorscale": [
                                                    [
                                                        0,
                                                        "#0d0887"
                                                    ],
                                                    [
                                                        0.1111111111111111,
                                                        "#46039f"
                                                    ],
                                                    [
                                                        0.2222222222222222,
                                                        "#7201a8"
                                                    ],
                                                    [
                                                        0.3333333333333333,
                                                        "#9c179e"
                                                    ],
                                                    [
                                                        0.4444444444444444,
                                                        "#bd3786"
                                                    ],
                                                    [
                                                        0.5555555555555556,
                                                        "#d8576b"
                                                    ],
                                                    [
                                                        0.6666666666666666,
                                                        "#ed7953"
                                                    ],
                                                    [
                                                        0.7777777777777778,
                                                        "#fb9f3a"
                                                    ],
                                                    [
                                                        0.8888888888888888,
                                                        "#fdca26"
                                                    ],
                                                    [
                                                        1,
                                                        "#f0f921"
                                                    ]
                                                ]
                                            }
                                        ],
                                        "choropleth": [
                                            {
                                                "type": "choropleth",
                                                "colorbar": {
                                                    "outlinewidth": 0,
                                                    "ticks": ""
                                                }
                                            }
                                        ],
                                        "histogram2d": [
                                            {
                                                "type": "histogram2d",
                                                "colorbar": {
                                                    "outlinewidth": 0,
                                                    "ticks": ""
                                                },
                                                "colorscale": [
                                                    [
                                                        0,
                                                        "#0d0887"
                                                    ],
                                                    [
                                                        0.1111111111111111,
                                                        "#46039f"
                                                    ],
                                                    [
                                                        0.2222222222222222,
                                                        "#7201a8"
                                                    ],
                                                    [
                                                        0.3333333333333333,
                                                        "#9c179e"
                                                    ],
                                                    [
                                                        0.4444444444444444,
                                                        "#bd3786"
                                                    ],
                                                    [
                                                        0.5555555555555556,
                                                        "#d8576b"
                                                    ],
                                                    [
                                                        0.6666666666666666,
                                                        "#ed7953"
                                                    ],
                                                    [
                                                        0.7777777777777778,
                                                        "#fb9f3a"
                                                    ],
                                                    [
                                                        0.8888888888888888,
                                                        "#fdca26"
                                                    ],
                                                    [
                                                        1,
                                                        "#f0f921"
                                                    ]
                                                ]
                                            }
                                        ],
                                        "heatmap": [
                                            {
                                                "type": "heatmap",
                                                "colorbar": {
                                                    "outlinewidth": 0,
                                                    "ticks": ""
                                                },
                                                "colorscale": [
                                                    [
                                                        0,
                                                        "#0d0887"
                                                    ],
                                                    [
                                                        0.1111111111111111,
                                                        "#46039f"
                                                    ],
                                                    [
                                                        0.2222222222222222,
                                                        "#7201a8"
                                                    ],
                                                    [
                                                        0.3333333333333333,
                                                        "#9c179e"
                                                    ],
                                                    [
                                                        0.4444444444444444,
                                                        "#bd3786"
                                                    ],
                                                    [
                                                        0.5555555555555556,
                                                        "#d8576b"
                                                    ],
                                                    [
                                                        0.6666666666666666,
                                                        "#ed7953"
                                                    ],
                                                    [
                                                        0.7777777777777778,
                                                        "#fb9f3a"
                                                    ],
                                                    [
                                                        0.8888888888888888,
                                                        "#fdca26"
                                                    ],
                                                    [
                                                        1,
                                                        "#f0f921"
                                                    ]
                                                ]
                                            }
                                        ],
                                        "heatmapgl": [
                                            {
                                                "type": "heatmapgl",
                                                "colorbar": {
                                                    "outlinewidth": 0,
                                                    "ticks": ""
                                                },
                                                "colorscale": [
                                                    [
                                                        0,
                                                        "#0d0887"
                                                    ],
                                                    [
                                                        0.1111111111111111,
                                                        "#46039f"
                                                    ],
                                                    [
                                                        0.2222222222222222,
                                                        "#7201a8"
                                                    ],
                                                    [
                                                        0.3333333333333333,
                                                        "#9c179e"
                                                    ],
                                                    [
                                                        0.4444444444444444,
                                                        "#bd3786"
                                                    ],
                                                    [
                                                        0.5555555555555556,
                                                        "#d8576b"
                                                    ],
                                                    [
                                                        0.6666666666666666,
                                                        "#ed7953"
                                                    ],
                                                    [
                                                        0.7777777777777778,
                                                        "#fb9f3a"
                                                    ],
                                                    [
                                                        0.8888888888888888,
                                                        "#fdca26"
                                                    ],
                                                    [
                                                        1,
                                                        "#f0f921"
                                                    ]
                                                ]
                                            }
                                        ],
                                        "contourcarpet": [
                                            {
                                                "type": "contourcarpet",
                                                "colorbar": {
                                                    "outlinewidth": 0,
                                                    "ticks": ""
                                                }
                                            }
                                        ],
                                        "contour": [
                                            {
                                                "type": "contour",
                                                "colorbar": {
                                                    "outlinewidth": 0,
                                                    "ticks": ""
                                                },
                                                "colorscale": [
                                                    [
                                                        0,
                                                        "#0d0887"
                                                    ],
                                                    [
                                                        0.1111111111111111,
                                                        "#46039f"
                                                    ],
                                                    [
                                                        0.2222222222222222,
                                                        "#7201a8"
                                                    ],
                                                    [
                                                        0.3333333333333333,
                                                        "#9c179e"
                                                    ],
                                                    [
                                                        0.4444444444444444,
                                                        "#bd3786"
                                                    ],
                                                    [
                                                        0.5555555555555556,
                                                        "#d8576b"
                                                    ],
                                                    [
                                                        0.6666666666666666,
                                                        "#ed7953"
                                                    ],
                                                    [
                                                        0.7777777777777778,
                                                        "#fb9f3a"
                                                    ],
                                                    [
                                                        0.8888888888888888,
                                                        "#fdca26"
                                                    ],
                                                    [
                                                        1,
                                                        "#f0f921"
                                                    ]
                                                ]
                                            }
                                        ],
                                        "surface": [
                                            {
                                                "type": "surface",
                                                "colorbar": {
                                                    "outlinewidth": 0,
                                                    "ticks": ""
                                                },
                                                "colorscale": [
                                                    [
                                                        0,
                                                        "#0d0887"
                                                    ],
                                                    [
                                                        0.1111111111111111,
                                                        "#46039f"
                                                    ],
                                                    [
                                                        0.2222222222222222,
                                                        "#7201a8"
                                                    ],
                                                    [
                                                        0.3333333333333333,
                                                        "#9c179e"
                                                    ],
                                                    [
                                                        0.4444444444444444,
                                                        "#bd3786"
                                                    ],
                                                    [
                                                        0.5555555555555556,
                                                        "#d8576b"
                                                    ],
                                                    [
                                                        0.6666666666666666,
                                                        "#ed7953"
                                                    ],
                                                    [
                                                        0.7777777777777778,
                                                        "#fb9f3a"
                                                    ],
                                                    [
                                                        0.8888888888888888,
                                                        "#fdca26"
                                                    ],
                                                    [
                                                        1,
                                                        "#f0f921"
                                                    ]
                                                ]
                                            }
                                        ],
                                        "mesh3d": [
                                            {
                                                "type": "mesh3d",
                                                "colorbar": {
                                                    "outlinewidth": 0,
                                                    "ticks": ""
                                                }
                                            }
                                        ],
                                        "scatter": [
                                            {
                                                "fillpattern": {
                                                    "fillmode": "overlay",
                                                    "size": 10,
                                                    "solidity": 0.2
                                                },
                                                "type": "scatter"
                                            }
                                        ],
                                        "parcoords": [
                                            {
                                                "type": "parcoords",
                                                "line": {
                                                    "colorbar": {
                                                        "outlinewidth": 0,
                                                        "ticks": ""
                                                    }
                                                }
                                            }
                                        ],
                                        "scatterpolargl": [
                                            {
                                                "type": "scatterpolargl",
                                                "marker": {
                                                    "colorbar": {
                                                        "outlinewidth": 0,
                                                        "ticks": ""
                                                    }
                                                }
                                            }
                                        ],
                                        "bar": [
                                            {
                                                "error_x": {
                                                    "color": "#2a3f5f"
                                                },
                                                "error_y": {
                                                    "color": "#2a3f5f"
                                                },
                                                "marker": {
                                                    "line": {
                                                        "color": "#E5ECF6",
                                                        "width": 0.5
                                                    },
                                                    "pattern": {
                                                        "fillmode": "overlay",
                                                        "size": 10,
                                                        "solidity": 0.2
                                                    }
                                                },
                                                "type": "bar"
                                            }
                                        ],
                                        "scattergeo": [
                                            {
                                                "type": "scattergeo",
                                                "marker": {
                                                    "colorbar": {
                                                        "outlinewidth": 0,
                                                        "ticks": ""
                                                    }
                                                }
                                            }
                                        ],
                                        "scatterpolar": [
                                            {
                                                "type": "scatterpolar",
                                                "marker": {
                                                    "colorbar": {
                                                        "outlinewidth": 0,
                                                        "ticks": ""
                                                    }
                                                }
                                            }
                                        ],
                                        "histogram": [
                                            {
                                                "marker": {
                                                    "pattern": {
                                                        "fillmode": "overlay",
                                                        "size": 10,
                                                        "solidity": 0.2
                                                    }
                                                },
                                                "type": "histogram"
                                            }
                                        ],
                                        "scattergl": [
                                            {
                                                "type": "scattergl",
                                                "marker": {
                                                    "colorbar": {
                                                        "outlinewidth": 0,
                                                        "ticks": ""
                                                    }
                                                }
                                            }
                                        ],
                                        "scatter3d": [
                                            {
                                                "type": "scatter3d",
                                                "line": {
                                                    "colorbar": {
                                                        "outlinewidth": 0,
                                                        "ticks": ""
                                                    }
                                                },
                                                "marker": {
                                                    "colorbar": {
                                                        "outlinewidth": 0,
                                                        "ticks": ""
                                                    }
                                                }
                                            }
                                        ],
                                        "scattermapbox": [
                                            {
                                                "type": "scattermapbox",
                                                "marker": {
                                                    "colorbar": {
                                                        "outlinewidth": 0,
                                                        "ticks": ""
                                                    }
                                                }
                                            }
                                        ],
                                        "scatterternary": [
                                            {
                                                "type": "scatterternary",
                                                "marker": {
                                                    "colorbar": {
                                                        "outlinewidth": 0,
                                                        "ticks": ""
                                                    }
                                                }
                                            }
                                        ],
                                        "scattercarpet": [
                                            {
                                                "type": "scattercarpet",
                                                "marker": {
                                                    "colorbar": {
                                                        "outlinewidth": 0,
                                                        "ticks": ""
                                                    }
                                                }
                                            }
                                        ],
                                        "carpet": [
                                            {
                                                "aaxis": {
                                                    "endlinecolor": "#2a3f5f",
                                                    "gridcolor": "white",
                                                    "linecolor": "white",
                                                    "minorgridcolor": "white",
                                                    "startlinecolor": "#2a3f5f"
                                                },
                                                "baxis": {
                                                    "endlinecolor": "#2a3f5f",
                                                    "gridcolor": "white",
                                                    "linecolor": "white",
                                                    "minorgridcolor": "white",
                                                    "startlinecolor": "#2a3f5f"
                                                },
                                                "type": "carpet"
                                            }
                                        ],
                                        "table": [
                                            {
                                                "cells": {
                                                    "fill": {
                                                        "color": "#EBF0F8"
                                                    },
                                                    "line": {
                                                        "color": "white"
                                                    }
                                                },
                                                "header": {
                                                    "fill": {
                                                        "color": "#C8D4E3"
                                                    },
                                                    "line": {
                                                        "color": "white"
                                                    }
                                                },
                                                "type": "table"
                                            }
                                        ],
                                        "barpolar": [
                                            {
                                                "marker": {
                                                    "line": {
                                                        "color": "#E5ECF6",
                                                        "width": 0.5
                                                    },
                                                    "pattern": {
                                                        "fillmode": "overlay",
                                                        "size": 10,
                                                        "solidity": 0.2
                                                    }
                                                },
                                                "type": "barpolar"
                                            }
                                        ],
                                        "pie": [
                                            {
                                                "automargin": true,
                                                "type": "pie"
                                            }
                                        ]
                                    },
                                    "layout": {
                                        "autotypenumbers": "strict",
                                        "colorway": [
                                            "#636efa",
                                            "#EF553B",
                                            "#00cc96",
                                            "#ab63fa",
                                            "#FFA15A",
                                            "#19d3f3",
                                            "#FF6692",
                                            "#B6E880",
                                            "#FF97FF",
                                            "#FECB52"
                                        ],
                                        "font": {
                                            "color": "#2a3f5f"
                                        },
                                        "hovermode": "closest",
                                        "hoverlabel": {
                                            "align": "left"
                                        },
                                        "paper_bgcolor": "white",
                                        "plot_bgcolor": "#E5ECF6",
                                        "polar": {
                                            "bgcolor": "#E5ECF6",
                                            "angularaxis": {
                                                "gridcolor": "white",
                                                "linecolor": "white",
                                                "ticks": ""
                                            },
                                            "radialaxis": {
                                                "gridcolor": "white",
                                                "linecolor": "white",
                                                "ticks": ""
                                            }
                                        },
                                        "ternary": {
                                            "bgcolor": "#E5ECF6",
                                            "aaxis": {
                                                "gridcolor": "white",
                                                "linecolor": "white",
                                                "ticks": ""
                                            },
                                            "baxis": {
                                                "gridcolor": "white",
                                                "linecolor": "white",
                                                "ticks": ""
                                            },
                                            "caxis": {
                                                "gridcolor": "white",
                                                "linecolor": "white",
                                                "ticks": ""
                                            }
                                        },
                                        "coloraxis": {
                                            "colorbar": {
                                                "outlinewidth": 0,
                                                "ticks": ""
                                            }
                                        },
                                        "colorscale": {
                                            "sequential": [
                                                [
                                                    0,
                                                    "#0d0887"
                                                ],
                                                [
                                                    0.1111111111111111,
                                                    "#46039f"
                                                ],
                                                [
                                                    0.2222222222222222,
                                                    "#7201a8"
                                                ],
                                                [
                                                    0.3333333333333333,
                                                    "#9c179e"
                                                ],
                                                [
                                                    0.4444444444444444,
                                                    "#bd3786"
                                                ],
                                                [
                                                    0.5555555555555556,
                                                    "#d8576b"
                                                ],
                                                [
                                                    0.6666666666666666,
                                                    "#ed7953"
                                                ],
                                                [
                                                    0.7777777777777778,
                                                    "#fb9f3a"
                                                ],
                                                [
                                                    0.8888888888888888,
                                                    "#fdca26"
                                                ],
                                                [
                                                    1,
                                                    "#f0f921"
                                                ]
                                            ],
                                            "sequentialminus": [
                                                [
                                                    0,
                                                    "#0d0887"
                                                ],
                                                [
                                                    0.1111111111111111,
                                                    "#46039f"
                                                ],
                                                [
                                                    0.2222222222222222,
                                                    "#7201a8"
                                                ],
                                                [
                                                    0.3333333333333333,
                                                    "#9c179e"
                                                ],
                                                [
                                                    0.4444444444444444,
                                                    "#bd3786"
                                                ],
                                                [
                                                    0.5555555555555556,
                                                    "#d8576b"
                                                ],
                                                [
                                                    0.6666666666666666,
                                                    "#ed7953"
                                                ],
                                                [
                                                    0.7777777777777778,
                                                    "#fb9f3a"
                                                ],
                                                [
                                                    0.8888888888888888,
                                                    "#fdca26"
                                                ],
                                                [
                                                    1,
                                                    "#f0f921"
                                                ]
                                            ],
                                            "diverging": [
                                                [
                                                    0,
                                                    "#8e0152"
                                                ],
                                                [
                                                    0.1,
                                                    "#c51b7d"
                                                ],
                                                [
                                                    0.2,
                                                    "#de77ae"
                                                ],
                                                [
                                                    0.3,
                                                    "#f1b6da"
                                                ],
                                                [
                                                    0.4,
                                                    "#fde0ef"
                                                ],
                                                [
                                                    0.5,
                                                    "#f7f7f7"
                                                ],
                                                [
                                                    0.6,
                                                    "#e6f5d0"
                                                ],
                                                [
                                                    0.7,
                                                    "#b8e186"
                                                ],
                                                [
                                                    0.8,
                                                    "#7fbc41"
                                                ],
                                                [
                                                    0.9,
                                                    "#4d9221"
                                                ],
                                                [
                                                    1,
                                                    "#276419"
                                                ]
                                            ]
                                        },
                                        "xaxis": {
                                            "gridcolor": "white",
                                            "linecolor": "white",
                                            "ticks": "",
                                            "title": {
                                                "standoff": 15
                                            },
                                            "zerolinecolor": "white",
                                            "automargin": true,
                                            "zerolinewidth": 2
                                        },
                                        "yaxis": {
                                            "gridcolor": "white",
                                            "linecolor": "white",
                                            "ticks": "",
                                            "title": {
                                                "standoff": 15
                                            },
                                            "zerolinecolor": "white",
                                            "automargin": true,
                                            "zerolinewidth": 2
                                        },
                                        "scene": {
                                            "xaxis": {
                                                "backgroundcolor": "#E5ECF6",
                                                "gridcolor": "white",
                                                "linecolor": "white",
                                                "showbackground": true,
                                                "ticks": "",
                                                "zerolinecolor": "white",
                                                "gridwidth": 2
                                            },
                                            "yaxis": {
                                                "backgroundcolor": "#E5ECF6",
                                                "gridcolor": "white",
                                                "linecolor": "white",
                                                "showbackground": true,
                                                "ticks": "",
                                                "zerolinecolor": "white",
                                                "gridwidth": 2
                                            },
                                            "zaxis": {
                                                "backgroundcolor": "#E5ECF6",
                                                "gridcolor": "white",
                                                "linecolor": "white",
                                                "showbackground": true,
                                                "ticks": "",
                                                "zerolinecolor": "white",
                                                "gridwidth": 2
                                            }
                                        },
                                        "shapedefaults": {
                                            "line": {
                                                "color": "#2a3f5f"
                                            }
                                        },
                                        "annotationdefaults": {
                                            "arrowcolor": "#2a3f5f",
                                            "arrowhead": 0,
                                            "arrowwidth": 1
                                        },
                                        "geo": {
                                            "bgcolor": "white",
                                            "landcolor": "#E5ECF6",
                                            "subunitcolor": "white",
                                            "showland": true,
                                            "showlakes": true,
                                            "lakecolor": "white"
                                        },
                                        "title": {
                                            "x": 0.05
                                        },
                                        "mapbox": {
                                            "style": "light"
                                        }
                                    }
                                },
                                "xaxis": {
                                    "title": {
                                        "text": "Vitals missing percentage"
                                    }
                                }
                            },
                            "config": {
                                "plotlyServerURL": "https://plot.ly"
                            }
                        }
                    },
                    "metadata": {},
                    "output_type": "display_data"
                }
            ],
            "execution_count": 416
        },
        {
            "cell_type": "code",
            "source": [
                "missing_hist = []\r\n",
                "for vit in list_vit:\r\n",
                "    missing_hist.append([df.loc[i][vit].isnull().sum() for i in range(nb_hours)])\r\n",
                "\r\n",
                "fig, axes = plt.subplots(1,3, figsize=(22, 5))\r\n",
                "fig.suptitle('Missing vitals per hour')\r\n",
                "for i in range(len(list_vit)):\r\n",
                "    sns.histplot(ax = axes[i], x = range(nb_hours), weights =  missing_hist[i], bins = nb_hours)\r\n",
                "    axes[i].set_title(list_vit_clean[i])\r\n",
                ""
            ],
            "metadata": {
                "azdata_cell_guid": "f22565d4-e047-4077-9010-4108574fcf9b",
                "language": "python"
            },
            "outputs": [
                {
                    "data": {
                        "text/plain": "<Figure size 1584x360 with 3 Axes>",
                        "image/png": "[encoded data removed]"
                    },
                    "metadata": {
                        "needs_background": "light"
                    },
                    "output_type": "display_data"
                }
            ],
            "execution_count": 417
        },
        {
            "cell_type": "code",
            "source": [
                "#Removing missing data \r\n",
                "batchs = remove_missing(bch, ['heart_rate', 'oxygen_saturation', 'map'], threshold = 20)\r\n",
                "print(len(batchs))"
            ],
            "metadata": {
                "azdata_cell_guid": "09b0fa8c-ab8d-49c8-b93c-628b67aa391a",
                "language": "python",
                "tags": []
            },
            "outputs": [
                {
                    "name": "stdout",
                    "text": "entry removed\nentry removed\nentry removed\nentry removed\nentry removed\nentry removed\nentry removed\nentry removed\nentry removed\nentry removed\nentry removed\nentry removed\nentry removed\nentry removed\nentry removed\nentry removed\nentry removed\nentry removed\nentry removed\nentry removed\nentry removed\nentry removed\nentry removed\nentry removed\nentry removed\nentry removed\nentry removed\nentry removed\nentry removed\nentry removed\nentry removed\nentry removed\nentry removed\nentry removed\nentry removed\nentry removed\nentry removed\nentry removed\nentry removed\nentry removed\nentry removed\nentry removed\nentry removed\nentry removed\nentry removed\nentry removed\nentry removed\nentry removed\nentry removed\nentry removed\nentry removed\nentry removed\nentry removed\nentry removed\nentry removed\nentry removed\nentry removed\nentry removed\nentry removed\nentry removed\nentry removed\nentry removed\nentry removed\nentry removed\nentry removed\nentry removed\nentry removed\nentry removed\nentry removed\nentry removed\nentry removed\nentry removed\nentry removed\nentry removed\nentry removed\nentry removed\nentry removed\nentry removed\nentry removed\nentry removed\nentry removed\nentry removed\nentry removed\nentry removed\nentry removed\nentry removed\nentry removed\nentry removed\nentry removed\nentry removed\nentry removed\nentry removed\nentry removed\nentry removed\nentry removed\nentry removed\nentry removed\nentry removed\nentry removed\nentry removed\nentry removed\n",
                    "output_type": "stream"
                },
                {
                    "name": "stdout",
                    "text": "entry removed\nentry removed\nentry removed\nentry removed\nentry removed\nentry removed\nentry removed\nentry removed\nentry removed\nentry removed\nentry removed\nentry removed\nentry removed\nentry removed\nentry removed\n16\n",
                    "output_type": "stream"
                }
            ],
            "execution_count": 418
        },
        {
            "cell_type": "markdown",
            "source": [
                "## Time-series plots - patterns"
            ],
            "metadata": {
                "language": "python",
                "azdata_cell_guid": "d9309c0c-cf4e-416f-8d84-d297b1c10bba"
            },
            "attachments": {}
        },
        {
            "cell_type": "code",
            "source": [
                "#Simple plots of the variables\r\n",
                "fig, axes = plt.subplots(1,3, figsize=(22, 5))\r\n",
                "for i in range(len(list_vit)):\r\n",
                "    color = iter(cm.rainbow(np.linspace(0, 1, len(batchs))))\r\n",
                "    for patient in range(len(batchs)):\r\n",
                "        c = next(color)\r\n",
                "        batchs[patient][list_vit[i]].plot(ax = axes[i], xlabel = 'Hours', color = c, ylabel = list_vit_clean[i], ylim = [0,250])\r\n",
                "        axes[i].grid()\r\n",
                "\r\n",
                "\r\n",
                "#faire une fonction threshold missing \r\n",
                "#faire une fonction pour chaque patient uqi peut être appliquée à chaque patient "
            ],
            "metadata": {
                "language": "python",
                "azdata_cell_guid": "f0b36958-489a-4c14-b8c6-e1617b1787f6"
            },
            "outputs": [
                {
                    "data": {
                        "text/plain": "<Figure size 1584x360 with 3 Axes>",
                        "image/png": "[encoded data removed]"
                    },
                    "metadata": {
                        "needs_background": "light"
                    },
                    "output_type": "display_data"
                }
            ],
            "execution_count": 419
        },
        {
            "cell_type": "code",
            "source": [
                "import itertools\r\n",
                "\r\n",
                "df = pd.concat(batchs)\r\n",
                "agg_mean = (df).groupby(df.index).agg({'heart_rate': np.mean, 'oxygen_saturation': np.mean, 'map': np.mean})\r\n",
                "agg_std = (df).groupby(df.index).agg({'heart_rate': np.std, 'oxygen_saturation': np.std, 'map': np.std})\r\n",
                "color = itertools.cycle([\"r\", \"b\", \"g\"])\r\n",
                "\r\n",
                "fig, ax = plt.subplots(figsize=(9, 9))\r\n",
                "fig.suptitle('Vitals analysis')\r\n",
                "for i in range(len(list_vit)):\r\n",
                "    c = next(color)\r\n",
                "    ax.plot(range(nb_hours + 1), agg_mean[list_vit[i]], alpha=1, color=c, label=list_vit_clean[i], linewidth = 3.0)\r\n",
                "    ax.fill_between(range(nb_hours + 1), agg_mean[list_vit[i]] - agg_std[list_vit[i]], agg_mean[list_vit[i]] + agg_std[list_vit[i]], color=c  , alpha=0.2)\r\n",
                "    plt.grid()\r\n",
                "\r\n",
                "ax.legend(loc='best')\r\n",
                "ax.set_xlabel(\"Hours\")"
            ],
            "metadata": {
                "language": "python",
                "azdata_cell_guid": "dddd6d56-6ef4-47c1-b020-9018edd24a1d"
            },
            "outputs": [
                {
                    "data": {
                        "text/plain": "<Figure size 648x648 with 1 Axes>",
                        "image/png": "[encoded data removed]"
                    },
                    "metadata": {
                        "needs_background": "light"
                    },
                    "output_type": "display_data"
                },
                {
                    "data": {
                        "text/plain": "Text(0.5, 0, 'Hours')"
                    },
                    "metadata": {},
                    "execution_count": 420,
                    "output_type": "execute_result"
                }
            ],
            "execution_count": 420
        },
        {
            "cell_type": "markdown",
            "source": [
                "## Vitals univariate analysis"
            ],
            "metadata": {
                "language": "python",
                "azdata_cell_guid": "7be2cac7-efa6-4fd8-89cd-5d6ff646af87"
            },
            "attachments": {}
        },
        {
            "cell_type": "code",
            "source": [
                "fig = go.Figure()\r\n",
                "fig.update_layout(xaxis_title='Vitals analysis')\r\n",
                "for i in range(len(list_vit)):\r\n",
                "    fig.add_trace(go.Box(y=pd.concat(batchs)[list_vit[i]], boxpoints='all', name = list_vit_clean[i]))\r\n",
                "\r\n",
                "fig.show()\r\n",
                ""
            ],
            "metadata": {
                "language": "python",
                "azdata_cell_guid": "a3a2d75f-2469-4022-888d-7282a7c1c1b0"
            },
            "outputs": [
                {
                    "data": {
                        "application/vnd.plotly.v1+json": {
                            "data": [
                                {
                                    "boxpoints": "all",
                                    "name": "Heart Rate",
                                    "y": [
                                        98,
                                        83.5,
                                        70,
                                        80,
                                        73,
                                        73,
                                        81,
                                        82,
                                        65,
                                        71.78,
                                        64,
                                        62,
                                        64,
                                        75,
                                        62,
                                        62,
                                        70,
                                        58,
                                        53,
                                        64,
                                        71,
                                        62,
                                        58,
                                        65,
                                        77,
                                        59,
                                        null,
                                        83,
                                        94,
                                        98,
                                        103,
                                        100,
                                        103,
                                        93,
                                        117,
                                        97,
                                        102,
                                        89,
                                        88,
                                        81,
                                        70,
                                        84,
                                        70,
                                        76,
                                        76,
                                        84,
                                        90,
                                        83,
                                        null,
                                        89,
                                        null,
                                        87,
                                        126,
                                        129.5,
                                        126,
                                        134,
                                        120,
                                        123,
                                        114,
                                        123,
                                        113,
                                        110,
                                        106,
                                        105,
                                        107,
                                        119,
                                        118,
                                        113,
                                        115,
                                        111,
                                        111,
                                        111,
                                        115,
                                        112,
                                        94,
                                        76,
                                        75,
                                        81,
                                        84,
                                        85,
                                        89,
                                        88,
                                        85,
                                        86,
                                        88,
                                        82,
                                        84,
                                        87,
                                        84,
                                        84,
                                        84,
                                        84,
                                        85,
                                        84,
                                        82,
                                        80,
                                        79.5,
                                        66,
                                        80,
                                        88,
                                        89,
                                        362.5,
                                        122,
                                        119,
                                        116,
                                        110,
                                        108,
                                        108,
                                        118,
                                        112,
                                        113,
                                        110,
                                        113,
                                        107,
                                        108,
                                        107,
                                        113,
                                        112,
                                        110,
                                        111,
                                        111,
                                        112,
                                        112,
                                        113,
                                        116,
                                        118,
                                        118,
                                        70.33,
                                        73.4,
                                        76,
                                        73,
                                        81,
                                        79,
                                        84,
                                        76,
                                        80,
                                        82,
                                        81,
                                        83.5,
                                        78,
                                        81,
                                        83,
                                        85,
                                        76,
                                        83,
                                        81,
                                        77,
                                        74,
                                        70,
                                        77,
                                        91,
                                        89,
                                        69,
                                        72,
                                        77,
                                        74,
                                        69,
                                        75,
                                        75,
                                        77,
                                        75,
                                        80,
                                        null,
                                        76.5,
                                        69,
                                        72,
                                        71,
                                        67,
                                        69,
                                        71,
                                        70.5,
                                        66,
                                        57,
                                        45.75,
                                        48,
                                        51.67,
                                        50,
                                        48,
                                        50,
                                        49,
                                        47,
                                        51,
                                        52,
                                        52,
                                        53,
                                        53,
                                        52,
                                        56,
                                        46,
                                        50,
                                        49,
                                        51,
                                        58,
                                        72,
                                        70,
                                        63,
                                        81,
                                        80.67,
                                        81.75,
                                        80,
                                        79,
                                        78,
                                        79,
                                        78,
                                        79,
                                        79.5,
                                        80.5,
                                        83,
                                        82,
                                        79,
                                        83,
                                        81,
                                        83,
                                        83.5,
                                        87,
                                        88.5,
                                        86,
                                        84,
                                        86.5,
                                        89,
                                        87,
                                        87,
                                        131.5,
                                        126.67,
                                        130.78,
                                        133,
                                        126.75,
                                        116,
                                        105,
                                        110,
                                        113,
                                        106,
                                        94,
                                        93,
                                        85,
                                        89,
                                        91,
                                        91,
                                        97,
                                        102,
                                        85,
                                        80,
                                        81,
                                        75,
                                        69,
                                        74,
                                        63,
                                        67,
                                        63,
                                        58,
                                        63,
                                        53,
                                        72,
                                        66,
                                        74,
                                        77,
                                        75,
                                        64,
                                        60,
                                        69.5,
                                        63,
                                        61,
                                        67,
                                        77,
                                        63,
                                        92.6,
                                        133,
                                        99.92,
                                        89,
                                        85,
                                        85,
                                        89,
                                        85,
                                        89,
                                        91,
                                        89,
                                        78,
                                        80,
                                        77,
                                        82,
                                        84,
                                        88,
                                        90,
                                        83,
                                        84,
                                        83,
                                        87,
                                        88,
                                        84,
                                        83,
                                        91.67,
                                        87,
                                        160,
                                        113,
                                        93.5,
                                        99,
                                        109,
                                        106,
                                        100,
                                        150,
                                        161,
                                        119.5,
                                        117,
                                        120,
                                        118.5,
                                        120,
                                        118,
                                        100.1,
                                        104,
                                        103.33,
                                        99.5,
                                        103,
                                        86.67,
                                        97,
                                        91,
                                        97,
                                        91,
                                        96,
                                        97,
                                        96,
                                        94,
                                        94,
                                        96,
                                        91,
                                        95,
                                        91,
                                        89,
                                        88,
                                        86,
                                        85,
                                        86,
                                        87,
                                        214.43,
                                        97.67,
                                        100.83,
                                        100.4,
                                        95,
                                        93,
                                        90,
                                        91,
                                        88,
                                        85,
                                        86,
                                        89,
                                        92.5,
                                        87,
                                        90,
                                        84,
                                        86,
                                        92,
                                        92,
                                        87,
                                        82,
                                        83,
                                        90.5,
                                        83.75,
                                        87.5,
                                        92,
                                        85,
                                        65,
                                        78,
                                        90,
                                        79,
                                        82,
                                        82,
                                        83,
                                        85,
                                        88,
                                        82,
                                        60,
                                        70,
                                        70,
                                        70,
                                        70,
                                        70,
                                        91,
                                        87,
                                        87
                                    ],
                                    "type": "box"
                                },
                                {
                                    "boxpoints": "all",
                                    "name": "Oxygen Saturation",
                                    "y": [
                                        96.67,
                                        95.92,
                                        97.17,
                                        96.17,
                                        97.17,
                                        96.17,
                                        96.17,
                                        97.67,
                                        96.67,
                                        95.94,
                                        96.42,
                                        97.67,
                                        97.17,
                                        97.67,
                                        97.17,
                                        97.17,
                                        96.67,
                                        97.67,
                                        97.17,
                                        97.67,
                                        97.17,
                                        97.67,
                                        97.17,
                                        97.67,
                                        96.67,
                                        97.67,
                                        93.33,
                                        95.67,
                                        96.17,
                                        96.17,
                                        96.17,
                                        96.67,
                                        96.17,
                                        95.67,
                                        92.67,
                                        95.17,
                                        93.67,
                                        92.17,
                                        92.42,
                                        93.17,
                                        91.17,
                                        93.17,
                                        93.67,
                                        93.17,
                                        92.67,
                                        93.17,
                                        92.33,
                                        92.17,
                                        91,
                                        92.67,
                                        95,
                                        92.67,
                                        100,
                                        98.5,
                                        100,
                                        100,
                                        99,
                                        100,
                                        99,
                                        100,
                                        100,
                                        100,
                                        100,
                                        100,
                                        100,
                                        100,
                                        100,
                                        100,
                                        98,
                                        100,
                                        100,
                                        99,
                                        99,
                                        98.5,
                                        100,
                                        96.67,
                                        93.17,
                                        95.17,
                                        92.04,
                                        89.17,
                                        88.67,
                                        89.67,
                                        92.67,
                                        94.17,
                                        93.22,
                                        93.33,
                                        82.22,
                                        93.33,
                                        93.33,
                                        93.33,
                                        93.33,
                                        93.33,
                                        93.33,
                                        93.33,
                                        93.33,
                                        93.33,
                                        93.33,
                                        93.33,
                                        93.33,
                                        93.33,
                                        93.33,
                                        297,
                                        98.5,
                                        99.5,
                                        99,
                                        99,
                                        99,
                                        99,
                                        100,
                                        100,
                                        99,
                                        null,
                                        99,
                                        99,
                                        99,
                                        99,
                                        97,
                                        100,
                                        99,
                                        99,
                                        99,
                                        99,
                                        99,
                                        99,
                                        100,
                                        null,
                                        99,
                                        98.67,
                                        99.4,
                                        56.67,
                                        91,
                                        92,
                                        100,
                                        57.67,
                                        57.67,
                                        57.17,
                                        57.67,
                                        57.67,
                                        56.67,
                                        56.67,
                                        56.67,
                                        56.17,
                                        56.67,
                                        56.67,
                                        54.17,
                                        56.17,
                                        99,
                                        99,
                                        99.5,
                                        57.67,
                                        97.33,
                                        100,
                                        97.33,
                                        97.33,
                                        97.33,
                                        97.33,
                                        97.33,
                                        97.33,
                                        97.33,
                                        97.33,
                                        97.33,
                                        97.33,
                                        null,
                                        96.58,
                                        97.33,
                                        97.33,
                                        97.33,
                                        97.33,
                                        97.33,
                                        97.33,
                                        98.22,
                                        97.33,
                                        95.33,
                                        97.5,
                                        98.11,
                                        96.5,
                                        97.17,
                                        94.78,
                                        97.17,
                                        97.17,
                                        96.67,
                                        96.56,
                                        95.17,
                                        96.67,
                                        96.67,
                                        96.17,
                                        96.17,
                                        96.17,
                                        97.67,
                                        96.17,
                                        96.67,
                                        96.17,
                                        95.67,
                                        94.42,
                                        92.67,
                                        93.33,
                                        95.33,
                                        97.67,
                                        96.79,
                                        96.67,
                                        96.17,
                                        96.17,
                                        96.67,
                                        96.67,
                                        96.67,
                                        96.17,
                                        96.17,
                                        96.17,
                                        95.67,
                                        96.17,
                                        95.67,
                                        96.17,
                                        96.44,
                                        96.44,
                                        96.17,
                                        95.83,
                                        96.17,
                                        95.42,
                                        95.11,
                                        95.44,
                                        95.27,
                                        95.67,
                                        96.54,
                                        96.67,
                                        96.67,
                                        96.67,
                                        96.54,
                                        96.67,
                                        96.67,
                                        96.67,
                                        96.67,
                                        96.67,
                                        97.78,
                                        96.67,
                                        96.67,
                                        96.67,
                                        96.67,
                                        96.17,
                                        95.67,
                                        96.67,
                                        96.67,
                                        97.78,
                                        96.67,
                                        96.67,
                                        96.67,
                                        97.33,
                                        92,
                                        95,
                                        96,
                                        92,
                                        95,
                                        95,
                                        94,
                                        94,
                                        93,
                                        94,
                                        94,
                                        93,
                                        96,
                                        95.5,
                                        95,
                                        96,
                                        95,
                                        96,
                                        95,
                                        98.4,
                                        95.67,
                                        95.17,
                                        96.67,
                                        96.17,
                                        95.67,
                                        95.17,
                                        96.67,
                                        93.67,
                                        96.17,
                                        95.67,
                                        91.67,
                                        94.17,
                                        95.17,
                                        95.17,
                                        94.17,
                                        92.17,
                                        94.67,
                                        94.17,
                                        94.67,
                                        93.17,
                                        94.67,
                                        94.67,
                                        93.67,
                                        92.67,
                                        93.5,
                                        94.67,
                                        97.33,
                                        100,
                                        100,
                                        97.33,
                                        100,
                                        100,
                                        100,
                                        97.33,
                                        98.22,
                                        100,
                                        100,
                                        98.22,
                                        100,
                                        99,
                                        100,
                                        71.5,
                                        94,
                                        97,
                                        98.5,
                                        96.67,
                                        99.67,
                                        98,
                                        94,
                                        96,
                                        98,
                                        95,
                                        95,
                                        94,
                                        93,
                                        96,
                                        96,
                                        98,
                                        98,
                                        98,
                                        98,
                                        99,
                                        99.5,
                                        99,
                                        100,
                                        100,
                                        200,
                                        99.17,
                                        97.5,
                                        96.6,
                                        98.5,
                                        99,
                                        98,
                                        99,
                                        98,
                                        98,
                                        98,
                                        98,
                                        97.5,
                                        95,
                                        96,
                                        99,
                                        95,
                                        95,
                                        93,
                                        94,
                                        97,
                                        97,
                                        99.07,
                                        100,
                                        98.75,
                                        98.44,
                                        99.67,
                                        99.5,
                                        97,
                                        96.44,
                                        null,
                                        98,
                                        98,
                                        96.67,
                                        97,
                                        97,
                                        97,
                                        96.44,
                                        98,
                                        96,
                                        95,
                                        95.67,
                                        95,
                                        96.5,
                                        96.33,
                                        96.67
                                    ],
                                    "type": "box"
                                },
                                {
                                    "boxpoints": "all",
                                    "name": "MAP",
                                    "y": [
                                        null,
                                        null,
                                        null,
                                        null,
                                        84,
                                        79,
                                        84,
                                        80,
                                        95,
                                        92.63,
                                        74.5,
                                        88,
                                        84,
                                        74,
                                        61,
                                        109,
                                        76,
                                        64,
                                        70,
                                        69,
                                        71,
                                        66,
                                        66,
                                        76,
                                        81,
                                        84,
                                        null,
                                        81,
                                        83,
                                        65,
                                        75,
                                        68,
                                        70,
                                        67,
                                        83,
                                        83,
                                        76,
                                        54,
                                        69,
                                        64,
                                        64,
                                        69,
                                        67,
                                        86,
                                        78,
                                        74,
                                        74,
                                        68,
                                        null,
                                        75,
                                        null,
                                        67,
                                        59,
                                        66.5,
                                        71,
                                        75,
                                        62,
                                        64,
                                        57,
                                        72.5,
                                        72,
                                        72.5,
                                        73,
                                        70,
                                        61.5,
                                        79,
                                        77,
                                        75,
                                        73,
                                        74,
                                        74,
                                        78,
                                        93,
                                        83,
                                        71,
                                        103,
                                        69,
                                        72.5,
                                        80.75,
                                        83,
                                        83,
                                        80,
                                        69,
                                        74,
                                        76.75,
                                        79,
                                        78,
                                        77,
                                        73.5,
                                        81,
                                        83,
                                        74,
                                        70,
                                        66,
                                        70.5,
                                        73,
                                        64.5,
                                        62,
                                        64,
                                        59,
                                        53,
                                        237,
                                        80.5,
                                        78.5,
                                        72,
                                        71,
                                        73,
                                        72,
                                        79,
                                        72,
                                        75,
                                        70,
                                        84,
                                        74,
                                        79,
                                        76,
                                        85,
                                        82,
                                        82,
                                        88,
                                        81,
                                        84,
                                        84,
                                        85,
                                        83,
                                        74,
                                        74,
                                        73.33,
                                        95.2,
                                        81,
                                        68,
                                        87,
                                        88,
                                        90,
                                        80,
                                        85,
                                        88,
                                        91,
                                        79.5,
                                        75,
                                        83,
                                        83,
                                        77,
                                        78,
                                        79,
                                        68,
                                        63,
                                        53,
                                        59,
                                        74,
                                        138,
                                        132,
                                        97,
                                        96,
                                        77,
                                        80,
                                        62,
                                        72,
                                        98,
                                        98,
                                        80,
                                        null,
                                        null,
                                        86,
                                        91,
                                        102,
                                        97,
                                        87,
                                        94,
                                        94,
                                        108.5,
                                        108,
                                        71.5,
                                        53,
                                        54,
                                        67.67,
                                        55,
                                        56,
                                        54,
                                        62,
                                        56,
                                        63.5,
                                        67,
                                        69,
                                        70.5,
                                        65,
                                        66,
                                        69,
                                        57,
                                        62,
                                        58,
                                        56.5,
                                        63,
                                        85.5,
                                        71,
                                        64,
                                        null,
                                        92,
                                        93.25,
                                        92,
                                        97,
                                        100,
                                        102,
                                        103,
                                        104,
                                        106.5,
                                        101,
                                        93,
                                        95,
                                        94,
                                        91,
                                        91,
                                        97,
                                        96,
                                        96,
                                        94,
                                        96,
                                        89,
                                        91,
                                        83,
                                        76.67,
                                        84,
                                        null,
                                        null,
                                        null,
                                        74.67,
                                        60.25,
                                        57,
                                        77,
                                        68,
                                        60,
                                        74,
                                        60,
                                        65,
                                        57,
                                        64,
                                        65,
                                        67,
                                        78,
                                        58,
                                        75,
                                        64,
                                        87,
                                        56,
                                        60,
                                        70.5,
                                        86,
                                        83,
                                        79,
                                        77,
                                        72,
                                        78,
                                        94,
                                        86,
                                        82,
                                        82,
                                        80,
                                        75,
                                        70,
                                        79.5,
                                        76,
                                        74,
                                        79,
                                        82,
                                        77,
                                        71,
                                        null,
                                        null,
                                        null,
                                        null,
                                        null,
                                        75,
                                        78,
                                        82,
                                        86,
                                        87,
                                        68,
                                        83,
                                        83,
                                        87,
                                        82,
                                        71,
                                        93,
                                        73,
                                        80,
                                        78,
                                        84,
                                        82,
                                        75,
                                        68,
                                        70.67,
                                        71,
                                        null,
                                        null,
                                        92,
                                        83,
                                        79,
                                        76,
                                        83,
                                        87,
                                        104.67,
                                        85.5,
                                        103,
                                        86.5,
                                        88.5,
                                        86,
                                        75,
                                        44.8,
                                        57.5,
                                        67.67,
                                        69.5,
                                        62.67,
                                        63.33,
                                        72,
                                        62,
                                        63,
                                        75,
                                        68,
                                        74,
                                        59,
                                        62,
                                        58,
                                        59,
                                        63,
                                        88,
                                        62,
                                        60,
                                        60,
                                        64,
                                        57.5,
                                        63,
                                        65,
                                        null,
                                        null,
                                        73.8,
                                        71,
                                        70.75,
                                        72,
                                        73,
                                        78,
                                        76,
                                        76,
                                        78,
                                        71,
                                        66.5,
                                        71,
                                        72,
                                        86,
                                        73,
                                        68,
                                        62,
                                        62,
                                        69,
                                        65,
                                        101,
                                        71.75,
                                        79.25,
                                        91,
                                        73.33,
                                        77.5,
                                        97,
                                        79,
                                        65.5,
                                        61.5,
                                        60,
                                        64,
                                        74,
                                        76,
                                        64,
                                        56,
                                        63,
                                        66,
                                        68,
                                        65,
                                        68,
                                        80,
                                        80.33,
                                        70
                                    ],
                                    "type": "box"
                                }
                            ],
                            "layout": {
                                "template": {
                                    "data": {
                                        "histogram2dcontour": [
                                            {
                                                "type": "histogram2dcontour",
                                                "colorbar": {
                                                    "outlinewidth": 0,
                                                    "ticks": ""
                                                },
                                                "colorscale": [
                                                    [
                                                        0,
                                                        "#0d0887"
                                                    ],
                                                    [
                                                        0.1111111111111111,
                                                        "#46039f"
                                                    ],
                                                    [
                                                        0.2222222222222222,
                                                        "#7201a8"
                                                    ],
                                                    [
                                                        0.3333333333333333,
                                                        "#9c179e"
                                                    ],
                                                    [
                                                        0.4444444444444444,
                                                        "#bd3786"
                                                    ],
                                                    [
                                                        0.5555555555555556,
                                                        "#d8576b"
                                                    ],
                                                    [
                                                        0.6666666666666666,
                                                        "#ed7953"
                                                    ],
                                                    [
                                                        0.7777777777777778,
                                                        "#fb9f3a"
                                                    ],
                                                    [
                                                        0.8888888888888888,
                                                        "#fdca26"
                                                    ],
                                                    [
                                                        1,
                                                        "#f0f921"
                                                    ]
                                                ]
                                            }
                                        ],
                                        "choropleth": [
                                            {
                                                "type": "choropleth",
                                                "colorbar": {
                                                    "outlinewidth": 0,
                                                    "ticks": ""
                                                }
                                            }
                                        ],
                                        "histogram2d": [
                                            {
                                                "type": "histogram2d",
                                                "colorbar": {
                                                    "outlinewidth": 0,
                                                    "ticks": ""
                                                },
                                                "colorscale": [
                                                    [
                                                        0,
                                                        "#0d0887"
                                                    ],
                                                    [
                                                        0.1111111111111111,
                                                        "#46039f"
                                                    ],
                                                    [
                                                        0.2222222222222222,
                                                        "#7201a8"
                                                    ],
                                                    [
                                                        0.3333333333333333,
                                                        "#9c179e"
                                                    ],
                                                    [
                                                        0.4444444444444444,
                                                        "#bd3786"
                                                    ],
                                                    [
                                                        0.5555555555555556,
                                                        "#d8576b"
                                                    ],
                                                    [
                                                        0.6666666666666666,
                                                        "#ed7953"
                                                    ],
                                                    [
                                                        0.7777777777777778,
                                                        "#fb9f3a"
                                                    ],
                                                    [
                                                        0.8888888888888888,
                                                        "#fdca26"
                                                    ],
                                                    [
                                                        1,
                                                        "#f0f921"
                                                    ]
                                                ]
                                            }
                                        ],
                                        "heatmap": [
                                            {
                                                "type": "heatmap",
                                                "colorbar": {
                                                    "outlinewidth": 0,
                                                    "ticks": ""
                                                },
                                                "colorscale": [
                                                    [
                                                        0,
                                                        "#0d0887"
                                                    ],
                                                    [
                                                        0.1111111111111111,
                                                        "#46039f"
                                                    ],
                                                    [
                                                        0.2222222222222222,
                                                        "#7201a8"
                                                    ],
                                                    [
                                                        0.3333333333333333,
                                                        "#9c179e"
                                                    ],
                                                    [
                                                        0.4444444444444444,
                                                        "#bd3786"
                                                    ],
                                                    [
                                                        0.5555555555555556,
                                                        "#d8576b"
                                                    ],
                                                    [
                                                        0.6666666666666666,
                                                        "#ed7953"
                                                    ],
                                                    [
                                                        0.7777777777777778,
                                                        "#fb9f3a"
                                                    ],
                                                    [
                                                        0.8888888888888888,
                                                        "#fdca26"
                                                    ],
                                                    [
                                                        1,
                                                        "#f0f921"
                                                    ]
                                                ]
                                            }
                                        ],
                                        "heatmapgl": [
                                            {
                                                "type": "heatmapgl",
                                                "colorbar": {
                                                    "outlinewidth": 0,
                                                    "ticks": ""
                                                },
                                                "colorscale": [
                                                    [
                                                        0,
                                                        "#0d0887"
                                                    ],
                                                    [
                                                        0.1111111111111111,
                                                        "#46039f"
                                                    ],
                                                    [
                                                        0.2222222222222222,
                                                        "#7201a8"
                                                    ],
                                                    [
                                                        0.3333333333333333,
                                                        "#9c179e"
                                                    ],
                                                    [
                                                        0.4444444444444444,
                                                        "#bd3786"
                                                    ],
                                                    [
                                                        0.5555555555555556,
                                                        "#d8576b"
                                                    ],
                                                    [
                                                        0.6666666666666666,
                                                        "#ed7953"
                                                    ],
                                                    [
                                                        0.7777777777777778,
                                                        "#fb9f3a"
                                                    ],
                                                    [
                                                        0.8888888888888888,
                                                        "#fdca26"
                                                    ],
                                                    [
                                                        1,
                                                        "#f0f921"
                                                    ]
                                                ]
                                            }
                                        ],
                                        "contourcarpet": [
                                            {
                                                "type": "contourcarpet",
                                                "colorbar": {
                                                    "outlinewidth": 0,
                                                    "ticks": ""
                                                }
                                            }
                                        ],
                                        "contour": [
                                            {
                                                "type": "contour",
                                                "colorbar": {
                                                    "outlinewidth": 0,
                                                    "ticks": ""
                                                },
                                                "colorscale": [
                                                    [
                                                        0,
                                                        "#0d0887"
                                                    ],
                                                    [
                                                        0.1111111111111111,
                                                        "#46039f"
                                                    ],
                                                    [
                                                        0.2222222222222222,
                                                        "#7201a8"
                                                    ],
                                                    [
                                                        0.3333333333333333,
                                                        "#9c179e"
                                                    ],
                                                    [
                                                        0.4444444444444444,
                                                        "#bd3786"
                                                    ],
                                                    [
                                                        0.5555555555555556,
                                                        "#d8576b"
                                                    ],
                                                    [
                                                        0.6666666666666666,
                                                        "#ed7953"
                                                    ],
                                                    [
                                                        0.7777777777777778,
                                                        "#fb9f3a"
                                                    ],
                                                    [
                                                        0.8888888888888888,
                                                        "#fdca26"
                                                    ],
                                                    [
                                                        1,
                                                        "#f0f921"
                                                    ]
                                                ]
                                            }
                                        ],
                                        "surface": [
                                            {
                                                "type": "surface",
                                                "colorbar": {
                                                    "outlinewidth": 0,
                                                    "ticks": ""
                                                },
                                                "colorscale": [
                                                    [
                                                        0,
                                                        "#0d0887"
                                                    ],
                                                    [
                                                        0.1111111111111111,
                                                        "#46039f"
                                                    ],
                                                    [
                                                        0.2222222222222222,
                                                        "#7201a8"
                                                    ],
                                                    [
                                                        0.3333333333333333,
                                                        "#9c179e"
                                                    ],
                                                    [
                                                        0.4444444444444444,
                                                        "#bd3786"
                                                    ],
                                                    [
                                                        0.5555555555555556,
                                                        "#d8576b"
                                                    ],
                                                    [
                                                        0.6666666666666666,
                                                        "#ed7953"
                                                    ],
                                                    [
                                                        0.7777777777777778,
                                                        "#fb9f3a"
                                                    ],
                                                    [
                                                        0.8888888888888888,
                                                        "#fdca26"
                                                    ],
                                                    [
                                                        1,
                                                        "#f0f921"
                                                    ]
                                                ]
                                            }
                                        ],
                                        "mesh3d": [
                                            {
                                                "type": "mesh3d",
                                                "colorbar": {
                                                    "outlinewidth": 0,
                                                    "ticks": ""
                                                }
                                            }
                                        ],
                                        "scatter": [
                                            {
                                                "fillpattern": {
                                                    "fillmode": "overlay",
                                                    "size": 10,
                                                    "solidity": 0.2
                                                },
                                                "type": "scatter"
                                            }
                                        ],
                                        "parcoords": [
                                            {
                                                "type": "parcoords",
                                                "line": {
                                                    "colorbar": {
                                                        "outlinewidth": 0,
                                                        "ticks": ""
                                                    }
                                                }
                                            }
                                        ],
                                        "scatterpolargl": [
                                            {
                                                "type": "scatterpolargl",
                                                "marker": {
                                                    "colorbar": {
                                                        "outlinewidth": 0,
                                                        "ticks": ""
                                                    }
                                                }
                                            }
                                        ],
                                        "bar": [
                                            {
                                                "error_x": {
                                                    "color": "#2a3f5f"
                                                },
                                                "error_y": {
                                                    "color": "#2a3f5f"
                                                },
                                                "marker": {
                                                    "line": {
                                                        "color": "#E5ECF6",
                                                        "width": 0.5
                                                    },
                                                    "pattern": {
                                                        "fillmode": "overlay",
                                                        "size": 10,
                                                        "solidity": 0.2
                                                    }
                                                },
                                                "type": "bar"
                                            }
                                        ],
                                        "scattergeo": [
                                            {
                                                "type": "scattergeo",
                                                "marker": {
                                                    "colorbar": {
                                                        "outlinewidth": 0,
                                                        "ticks": ""
                                                    }
                                                }
                                            }
                                        ],
                                        "scatterpolar": [
                                            {
                                                "type": "scatterpolar",
                                                "marker": {
                                                    "colorbar": {
                                                        "outlinewidth": 0,
                                                        "ticks": ""
                                                    }
                                                }
                                            }
                                        ],
                                        "histogram": [
                                            {
                                                "marker": {
                                                    "pattern": {
                                                        "fillmode": "overlay",
                                                        "size": 10,
                                                        "solidity": 0.2
                                                    }
                                                },
                                                "type": "histogram"
                                            }
                                        ],
                                        "scattergl": [
                                            {
                                                "type": "scattergl",
                                                "marker": {
                                                    "colorbar": {
                                                        "outlinewidth": 0,
                                                        "ticks": ""
                                                    }
                                                }
                                            }
                                        ],
                                        "scatter3d": [
                                            {
                                                "type": "scatter3d",
                                                "line": {
                                                    "colorbar": {
                                                        "outlinewidth": 0,
                                                        "ticks": ""
                                                    }
                                                },
                                                "marker": {
                                                    "colorbar": {
                                                        "outlinewidth": 0,
                                                        "ticks": ""
                                                    }
                                                }
                                            }
                                        ],
                                        "scattermapbox": [
                                            {
                                                "type": "scattermapbox",
                                                "marker": {
                                                    "colorbar": {
                                                        "outlinewidth": 0,
                                                        "ticks": ""
                                                    }
                                                }
                                            }
                                        ],
                                        "scatterternary": [
                                            {
                                                "type": "scatterternary",
                                                "marker": {
                                                    "colorbar": {
                                                        "outlinewidth": 0,
                                                        "ticks": ""
                                                    }
                                                }
                                            }
                                        ],
                                        "scattercarpet": [
                                            {
                                                "type": "scattercarpet",
                                                "marker": {
                                                    "colorbar": {
                                                        "outlinewidth": 0,
                                                        "ticks": ""
                                                    }
                                                }
                                            }
                                        ],
                                        "carpet": [
                                            {
                                                "aaxis": {
                                                    "endlinecolor": "#2a3f5f",
                                                    "gridcolor": "white",
                                                    "linecolor": "white",
                                                    "minorgridcolor": "white",
                                                    "startlinecolor": "#2a3f5f"
                                                },
                                                "baxis": {
                                                    "endlinecolor": "#2a3f5f",
                                                    "gridcolor": "white",
                                                    "linecolor": "white",
                                                    "minorgridcolor": "white",
                                                    "startlinecolor": "#2a3f5f"
                                                },
                                                "type": "carpet"
                                            }
                                        ],
                                        "table": [
                                            {
                                                "cells": {
                                                    "fill": {
                                                        "color": "#EBF0F8"
                                                    },
                                                    "line": {
                                                        "color": "white"
                                                    }
                                                },
                                                "header": {
                                                    "fill": {
                                                        "color": "#C8D4E3"
                                                    },
                                                    "line": {
                                                        "color": "white"
                                                    }
                                                },
                                                "type": "table"
                                            }
                                        ],
                                        "barpolar": [
                                            {
                                                "marker": {
                                                    "line": {
                                                        "color": "#E5ECF6",
                                                        "width": 0.5
                                                    },
                                                    "pattern": {
                                                        "fillmode": "overlay",
                                                        "size": 10,
                                                        "solidity": 0.2
                                                    }
                                                },
                                                "type": "barpolar"
                                            }
                                        ],
                                        "pie": [
                                            {
                                                "automargin": true,
                                                "type": "pie"
                                            }
                                        ]
                                    },
                                    "layout": {
                                        "autotypenumbers": "strict",
                                        "colorway": [
                                            "#636efa",
                                            "#EF553B",
                                            "#00cc96",
                                            "#ab63fa",
                                            "#FFA15A",
                                            "#19d3f3",
                                            "#FF6692",
                                            "#B6E880",
                                            "#FF97FF",
                                            "#FECB52"
                                        ],
                                        "font": {
                                            "color": "#2a3f5f"
                                        },
                                        "hovermode": "closest",
                                        "hoverlabel": {
                                            "align": "left"
                                        },
                                        "paper_bgcolor": "white",
                                        "plot_bgcolor": "#E5ECF6",
                                        "polar": {
                                            "bgcolor": "#E5ECF6",
                                            "angularaxis": {
                                                "gridcolor": "white",
                                                "linecolor": "white",
                                                "ticks": ""
                                            },
                                            "radialaxis": {
                                                "gridcolor": "white",
                                                "linecolor": "white",
                                                "ticks": ""
                                            }
                                        },
                                        "ternary": {
                                            "bgcolor": "#E5ECF6",
                                            "aaxis": {
                                                "gridcolor": "white",
                                                "linecolor": "white",
                                                "ticks": ""
                                            },
                                            "baxis": {
                                                "gridcolor": "white",
                                                "linecolor": "white",
                                                "ticks": ""
                                            },
                                            "caxis": {
                                                "gridcolor": "white",
                                                "linecolor": "white",
                                                "ticks": ""
                                            }
                                        },
                                        "coloraxis": {
                                            "colorbar": {
                                                "outlinewidth": 0,
                                                "ticks": ""
                                            }
                                        },
                                        "colorscale": {
                                            "sequential": [
                                                [
                                                    0,
                                                    "#0d0887"
                                                ],
                                                [
                                                    0.1111111111111111,
                                                    "#46039f"
                                                ],
                                                [
                                                    0.2222222222222222,
                                                    "#7201a8"
                                                ],
                                                [
                                                    0.3333333333333333,
                                                    "#9c179e"
                                                ],
                                                [
                                                    0.4444444444444444,
                                                    "#bd3786"
                                                ],
                                                [
                                                    0.5555555555555556,
                                                    "#d8576b"
                                                ],
                                                [
                                                    0.6666666666666666,
                                                    "#ed7953"
                                                ],
                                                [
                                                    0.7777777777777778,
                                                    "#fb9f3a"
                                                ],
                                                [
                                                    0.8888888888888888,
                                                    "#fdca26"
                                                ],
                                                [
                                                    1,
                                                    "#f0f921"
                                                ]
                                            ],
                                            "sequentialminus": [
                                                [
                                                    0,
                                                    "#0d0887"
                                                ],
                                                [
                                                    0.1111111111111111,
                                                    "#46039f"
                                                ],
                                                [
                                                    0.2222222222222222,
                                                    "#7201a8"
                                                ],
                                                [
                                                    0.3333333333333333,
                                                    "#9c179e"
                                                ],
                                                [
                                                    0.4444444444444444,
                                                    "#bd3786"
                                                ],
                                                [
                                                    0.5555555555555556,
                                                    "#d8576b"
                                                ],
                                                [
                                                    0.6666666666666666,
                                                    "#ed7953"
                                                ],
                                                [
                                                    0.7777777777777778,
                                                    "#fb9f3a"
                                                ],
                                                [
                                                    0.8888888888888888,
                                                    "#fdca26"
                                                ],
                                                [
                                                    1,
                                                    "#f0f921"
                                                ]
                                            ],
                                            "diverging": [
                                                [
                                                    0,
                                                    "#8e0152"
                                                ],
                                                [
                                                    0.1,
                                                    "#c51b7d"
                                                ],
                                                [
                                                    0.2,
                                                    "#de77ae"
                                                ],
                                                [
                                                    0.3,
                                                    "#f1b6da"
                                                ],
                                                [
                                                    0.4,
                                                    "#fde0ef"
                                                ],
                                                [
                                                    0.5,
                                                    "#f7f7f7"
                                                ],
                                                [
                                                    0.6,
                                                    "#e6f5d0"
                                                ],
                                                [
                                                    0.7,
                                                    "#b8e186"
                                                ],
                                                [
                                                    0.8,
                                                    "#7fbc41"
                                                ],
                                                [
                                                    0.9,
                                                    "#4d9221"
                                                ],
                                                [
                                                    1,
                                                    "#276419"
                                                ]
                                            ]
                                        },
                                        "xaxis": {
                                            "gridcolor": "white",
                                            "linecolor": "white",
                                            "ticks": "",
                                            "title": {
                                                "standoff": 15
                                            },
                                            "zerolinecolor": "white",
                                            "automargin": true,
                                            "zerolinewidth": 2
                                        },
                                        "yaxis": {
                                            "gridcolor": "white",
                                            "linecolor": "white",
                                            "ticks": "",
                                            "title": {
                                                "standoff": 15
                                            },
                                            "zerolinecolor": "white",
                                            "automargin": true,
                                            "zerolinewidth": 2
                                        },
                                        "scene": {
                                            "xaxis": {
                                                "backgroundcolor": "#E5ECF6",
                                                "gridcolor": "white",
                                                "linecolor": "white",
                                                "showbackground": true,
                                                "ticks": "",
                                                "zerolinecolor": "white",
                                                "gridwidth": 2
                                            },
                                            "yaxis": {
                                                "backgroundcolor": "#E5ECF6",
                                                "gridcolor": "white",
                                                "linecolor": "white",
                                                "showbackground": true,
                                                "ticks": "",
                                                "zerolinecolor": "white",
                                                "gridwidth": 2
                                            },
                                            "zaxis": {
                                                "backgroundcolor": "#E5ECF6",
                                                "gridcolor": "white",
                                                "linecolor": "white",
                                                "showbackground": true,
                                                "ticks": "",
                                                "zerolinecolor": "white",
                                                "gridwidth": 2
                                            }
                                        },
                                        "shapedefaults": {
                                            "line": {
                                                "color": "#2a3f5f"
                                            }
                                        },
                                        "annotationdefaults": {
                                            "arrowcolor": "#2a3f5f",
                                            "arrowhead": 0,
                                            "arrowwidth": 1
                                        },
                                        "geo": {
                                            "bgcolor": "white",
                                            "landcolor": "#E5ECF6",
                                            "subunitcolor": "white",
                                            "showland": true,
                                            "showlakes": true,
                                            "lakecolor": "white"
                                        },
                                        "title": {
                                            "x": 0.05
                                        },
                                        "mapbox": {
                                            "style": "light"
                                        }
                                    }
                                },
                                "xaxis": {
                                    "title": {
                                        "text": "Vitals analysis"
                                    }
                                }
                            },
                            "config": {
                                "plotlyServerURL": "https://plot.ly"
                            }
                        }
                    },
                    "metadata": {},
                    "output_type": "display_data"
                }
            ],
            "execution_count": 421
        },
        {
            "cell_type": "markdown",
            "source": [
                "## Vitals bivariate analysis"
            ],
            "metadata": {
                "language": "python",
                "azdata_cell_guid": "11d609f0-97e1-4714-9fd9-db663a0f6730"
            },
            "attachments": {}
        },
        {
            "cell_type": "code",
            "source": [
                "f = plt.figure(figsize=(20, 6))\r\n",
                "gs = f.add_gridspec(1, 3)\r\n",
                "with sns.axes_style(\"whitegrid\"):\r\n",
                "    ax = f.add_subplot(gs[0, 0]) \r\n",
                "    sns.regplot(x=list_vit[0], y=list_vit[1], data=pd.concat(batchs))\r\n",
                "    ax = f.add_subplot(gs[0, 1]) \r\n",
                "    sns.regplot(x=list_vit[2], y=list_vit[1], data=pd.concat(batchs), color = 'red')\r\n",
                "    ax = f.add_subplot(gs[0, 2]) \r\n",
                "    sns.regplot(x=list_vit[0], y=list_vit[2], data=pd.concat(batchs), color = 'green')\r\n",
                "    "
            ],
            "metadata": {
                "language": "python",
                "azdata_cell_guid": "bf69397e-6572-4dc5-8247-277336c10d2d"
            },
            "outputs": [
                {
                    "data": {
                        "text/plain": "<Figure size 1440x432 with 3 Axes>",
                        "image/png": "[encoded data removed]"
                    },
                    "metadata": {
                        "needs_background": "light"
                    },
                    "output_type": "display_data"
                }
            ],
            "execution_count": 332
        },
        {
            "cell_type": "markdown",
            "source": [
                "## Time series analysis on one patient"
            ],
            "metadata": {
                "azdata_cell_guid": "a3551f1c-31e9-4cc1-9987-16897b13ae3a"
            },
            "attachments": {}
        },
        {
            "cell_type": "code",
            "source": [
                "data = interpo[1]\r\n",
                "y1 = data['heart_rate']\r\n",
                "\r\n",
                "fig, ax = plt.subplots(1, 1, figsize=(5,5))\r\n",
                "plt.fill_between(range(nb_hours + 1), y1=y1, y2=-y1, alpha=0.5, linewidth=2, color='seagreen')\r\n",
                "plt.grid()\r\n",
                "plt.ylim(-800, 800)\r\n",
                "plt.title('Heart rate - patient 1', fontsize=12)\r\n",
                "plt.hlines(y=0, xmin=0, xmax=nb_hours, linewidth=.5)\r\n",
                "plt.show()"
            ],
            "metadata": {
                "azdata_cell_guid": "e71ca8b8-23d1-48c0-9796-9bc13ce55650",
                "language": "python"
            },
            "outputs": [
                {
                    "data": {
                        "text/plain": "<Figure size 360x360 with 1 Axes>",
                        "image/png": "[encoded data removed]"
                    },
                    "metadata": {
                        "needs_background": "light"
                    },
                    "output_type": "display_data"
                }
            ],
            "execution_count": 422
        },
        {
            "cell_type": "markdown",
            "source": [
                "## Data imputation"
            ],
            "metadata": {
                "language": "python",
                "azdata_cell_guid": "359d4c8b-ec7e-4d7b-abc9-ed2dde1da0bd"
            },
            "attachments": {}
        },
        {
            "cell_type": "code",
            "source": [
                "#plot for one patient \r\n",
                "data = pd.concat(batchs)\r\n",
                "interpo = data.interpolate()\r\n",
                "interpo = create_batchs(interpo)\r\n",
                "patient = 6\r\n",
                "\r\n",
                "fig, axes = plt.subplots(1,3, figsize=(22, 5))\r\n",
                "for i in range(len(list_vit)):\r\n",
                "    batchs[patient][list_vit[i]].plot(ax = axes[i], xlabel = 'Hours',marker='^', linestyle='-.', alpha = 1, color = 'blue', ylabel = list_vit_clean[i], ylim = [0,250])\r\n",
                "    interpo[patient][list_vit[i]].plot(x = range(nb_hours),marker='o', ax = axes[i], alpha = 0.2, xlabel = 'Hours', linestyle='-.', color = 'red', ylabel = list_vit_clean[i], ylim = [0,250])\r\n",
                "    axes[i].grid()\r\n",
                "    axes[i].legend(['Original values', 'Interpolated values'])"
            ],
            "metadata": {
                "language": "python",
                "azdata_cell_guid": "e63ba4d3-4503-4338-a6ee-066071f51fc9",
                "tags": []
            },
            "outputs": [
                {
                    "data": {
                        "text/plain": "<Figure size 1584x360 with 3 Axes>",
                        "image/png": "[encoded data removed]"
                    },
                    "metadata": {
                        "needs_background": "light"
                    },
                    "output_type": "display_data"
                }
            ],
            "execution_count": 423
        },
        {
            "cell_type": "markdown",
            "source": [
                "## Extraction of labels"
            ],
            "metadata": {
                "language": "python",
                "azdata_cell_guid": "6e8d961c-b46a-46ee-845c-893b087bb401"
            },
            "attachments": {}
        },
        {
            "cell_type": "code",
            "source": [
                "label = []\r\n",
                "for patient in interpo:\r\n",
                "    print(patient)\r\n",
                "    label.append([patient.iloc[25][vit] for vit in list_vit])\r\n",
                "    patient = patient.drop(25)\r\n",
                "    \r\n",
                "    print(label)"
            ],
            "metadata": {
                "language": "python",
                "azdata_cell_guid": "0cb79e34-6735-4ac6-98f7-fd5548cb23eb",
                "tags": []
            },
            "outputs": [
                {
                    "name": "stdout",
                    "text": "                  icustay_id           icu_intime  heart_rate  \\\nhour_from_intime                                                \n0                     205589  2117-08-21T08:00:00       98.00   \n1                     205589  2117-08-21T08:00:00       83.50   \n2                     205589  2117-08-21T08:00:00       70.00   \n3                     205589  2117-08-21T08:00:00       80.00   \n4                     205589  2117-08-21T08:00:00       73.00   \n5                     205589  2117-08-21T08:00:00       73.00   \n6                     205589  2117-08-21T08:00:00       81.00   \n7                     205589  2117-08-21T08:00:00       82.00   \n8                     205589  2117-08-21T08:00:00       65.00   \n9                     205589  2117-08-21T08:00:00       71.78   \n10                    205589  2117-08-21T08:00:00       64.00   \n11                    205589  2117-08-21T08:00:00       62.00   \n12                    205589  2117-08-21T08:00:00       64.00   \n13                    205589  2117-08-21T08:00:00       75.00   \n14                    205589  2117-08-21T08:00:00       62.00   \n15                    205589  2117-08-21T08:00:00       62.00   \n16                    205589  2117-08-21T08:00:00       70.00   \n17                    205589  2117-08-21T08:00:00       58.00   \n18                    205589  2117-08-21T08:00:00       53.00   \n19                    205589  2117-08-21T08:00:00       64.00   \n20                    205589  2117-08-21T08:00:00       71.00   \n21                    205589  2117-08-21T08:00:00       62.00   \n22                    205589  2117-08-21T08:00:00       58.00   \n23                    205589  2117-08-21T08:00:00       65.00   \n24                    205589  2117-08-21T08:00:00       77.00   \n25                    205589  2117-08-21T08:00:00       59.00   \n\n                  oxygen_saturation     map  icp  cpp  \nhour_from_intime                                       \n0                             96.67     NaN  NaN  NaN  \n1                             95.92     NaN  NaN  NaN  \n2                             97.17     NaN  NaN  NaN  \n3                             96.17     NaN  NaN  NaN  \n4                             97.17   84.00  NaN  NaN  \n5                             96.17   79.00  NaN  NaN  \n6                             96.17   84.00  NaN  NaN  \n7                             97.67   80.00  NaN  NaN  \n8                             96.67   95.00  NaN  NaN  \n9                             95.94   92.63  NaN  NaN  \n10                            96.42   74.50  NaN  NaN  \n11                            97.67   88.00  NaN  NaN  \n12                            97.17   84.00  NaN  NaN  \n13                            97.67   74.00  NaN  NaN  \n14                            97.17   61.00  NaN  NaN  \n15                            97.17  109.00  NaN  NaN  \n16                            96.67   76.00  NaN  NaN  \n17                            97.67   64.00  NaN  NaN  \n18                            97.17   70.00  NaN  NaN  \n19                            97.67   69.00  NaN  NaN  \n20                            97.17   71.00  NaN  NaN  \n21                            97.67   66.00  NaN  NaN  \n22                            97.17   66.00  NaN  NaN  \n23                            97.67   76.00  NaN  NaN  \n24                            96.67   81.00  NaN  NaN  \n25                            97.67   84.00  NaN  NaN  \n[[59.0, 97.67, 84.0]]\n                  icustay_id           icu_intime  heart_rate  \\\nhour_from_intime                                                \n0                     222779  2192-04-16T20:00:00        71.0   \n1                     222779  2192-04-16T20:00:00        83.0   \n2                     222779  2192-04-16T20:00:00        94.0   \n3                     222779  2192-04-16T20:00:00        98.0   \n4                     222779  2192-04-16T20:00:00       103.0   \n5                     222779  2192-04-16T20:00:00       100.0   \n6                     222779  2192-04-16T20:00:00       103.0   \n7                     222779  2192-04-16T20:00:00        93.0   \n8                     222779  2192-04-16T20:00:00       117.0   \n9                     222779  2192-04-16T20:00:00        97.0   \n10                    222779  2192-04-16T20:00:00       102.0   \n11                    222779  2192-04-16T20:00:00        89.0   \n12                    222779  2192-04-16T20:00:00        88.0   \n13                    222779  2192-04-16T20:00:00        81.0   \n14                    222779  2192-04-16T20:00:00        70.0   \n15                    222779  2192-04-16T20:00:00        84.0   \n16                    222779  2192-04-16T20:00:00        70.0   \n17                    222779  2192-04-16T20:00:00        76.0   \n18                    222779  2192-04-16T20:00:00        76.0   \n19                    222779  2192-04-16T20:00:00        84.0   \n20                    222779  2192-04-16T20:00:00        90.0   \n21                    222779  2192-04-16T20:00:00        83.0   \n22                    222779  2192-04-16T20:00:00        86.0   \n23                    222779  2192-04-16T20:00:00        89.0   \n24                    222779  2192-04-16T20:00:00        88.0   \n25                    222779  2192-04-16T20:00:00        87.0   \n\n                  oxygen_saturation   map  icp  cpp  \nhour_from_intime                                     \n0                             93.33  82.5  NaN  NaN  \n1                             95.67  81.0  NaN  NaN  \n2                             96.17  83.0  NaN  NaN  \n3                             96.17  65.0  NaN  NaN  \n4                             96.17  75.0  NaN  NaN  \n5                             96.67  68.0  NaN  NaN  \n6                             96.17  70.0  NaN  NaN  \n7                             95.67  67.0  NaN  NaN  \n8                             92.67  83.0  NaN  NaN  \n9                             95.17  83.0  NaN  NaN  \n10                            93.67  76.0  NaN  NaN  \n11                            92.17  54.0  NaN  NaN  \n12                            92.42  69.0  NaN  NaN  \n13                            93.17  64.0  NaN  NaN  \n14                            91.17  64.0  NaN  NaN  \n15                            93.17  69.0  NaN  NaN  \n16                            93.67  67.0  NaN  NaN  \n17                            93.17  86.0  NaN  NaN  \n18                            92.67  78.0  NaN  NaN  \n19                            93.17  74.0  NaN  NaN  \n20                            92.33  74.0  NaN  NaN  \n21                            92.17  68.0  NaN  NaN  \n22                            91.00  71.5  NaN  NaN  \n23                            92.67  75.0  NaN  NaN  \n24                            95.00  71.0  NaN  NaN  \n25                            92.67  67.0  NaN  NaN  \n[[59.0, 97.67, 84.0], [87.0, 92.67, 67.0]]\n                  icustay_id           icu_intime  heart_rate  \\\nhour_from_intime                                                \n2                     223177  2107-01-16T11:00:00       126.0   \n3                     223177  2107-01-16T11:00:00       129.5   \n4                     223177  2107-01-16T11:00:00       126.0   \n5                     223177  2107-01-16T11:00:00       134.0   \n6                     223177  2107-01-16T11:00:00       120.0   \n7                     223177  2107-01-16T11:00:00       123.0   \n8                     223177  2107-01-16T11:00:00       114.0   \n9                     223177  2107-01-16T11:00:00       123.0   \n10                    223177  2107-01-16T11:00:00       113.0   \n11                    223177  2107-01-16T11:00:00       110.0   \n12                    223177  2107-01-16T11:00:00       106.0   \n13                    223177  2107-01-16T11:00:00       105.0   \n14                    223177  2107-01-16T11:00:00       107.0   \n15                    223177  2107-01-16T11:00:00       119.0   \n16                    223177  2107-01-16T11:00:00       118.0   \n17                    223177  2107-01-16T11:00:00       113.0   \n18                    223177  2107-01-16T11:00:00       115.0   \n19                    223177  2107-01-16T11:00:00       111.0   \n21                    223177  2107-01-16T11:00:00       111.0   \n22                    223177  2107-01-16T11:00:00       111.0   \n23                    223177  2107-01-16T11:00:00       115.0   \n24                    223177  2107-01-16T11:00:00       112.0   \n25                    223177  2107-01-16T11:00:00        94.0   \n\n                  oxygen_saturation   map  icp  cpp  \nhour_from_intime                                     \n2                             100.0  59.0  NaN  NaN  \n3                              98.5  66.5  NaN  NaN  \n4                             100.0  71.0  NaN  NaN  \n5                             100.0  75.0  NaN  NaN  \n6                              99.0  62.0  NaN  NaN  \n7                             100.0  64.0  NaN  NaN  \n8                              99.0  57.0  NaN  NaN  \n9                             100.0  72.5  NaN  NaN  \n10                            100.0  72.0  NaN  NaN  \n11                            100.0  72.5  NaN  NaN  \n12                            100.0  73.0  NaN  NaN  \n13                            100.0  70.0  NaN  NaN  \n14                            100.0  61.5  NaN  NaN  \n15                            100.0  79.0  NaN  NaN  \n16                            100.0  77.0  NaN  NaN  \n17                            100.0  75.0  NaN  NaN  \n18                             98.0  73.0  NaN  NaN  \n19                            100.0  74.0  NaN  NaN  \n21                            100.0  74.0  NaN  NaN  \n22                             99.0  78.0  NaN  NaN  \n23                             99.0  93.0  NaN  NaN  \n24                             98.5  83.0  NaN  NaN  \n25                            100.0  71.0  NaN  NaN  \n",
                    "output_type": "stream"
                },
                {
                    "traceback": [
                        "\u001b[1;31m---------------------------------------------------------------------------\u001b[0m",
                        "\u001b[1;31mIndexError\u001b[0m                                Traceback (most recent call last)",
                        "Input \u001b[1;32mIn [424]\u001b[0m, in \u001b[0;36m<module>\u001b[1;34m\u001b[0m\n\u001b[0;32m      2\u001b[0m \u001b[38;5;28;01mfor\u001b[39;00m patient \u001b[38;5;129;01min\u001b[39;00m interpo:\n\u001b[0;32m      3\u001b[0m     \u001b[38;5;28mprint\u001b[39m(patient)\n\u001b[1;32m----> 4\u001b[0m     label\u001b[38;5;241m.\u001b[39mappend([patient\u001b[38;5;241m.\u001b[39miloc[\u001b[38;5;241m25\u001b[39m][vit] \u001b[38;5;28;01mfor\u001b[39;00m vit \u001b[38;5;129;01min\u001b[39;00m list_vit])\n\u001b[0;32m      5\u001b[0m     patient \u001b[38;5;241m=\u001b[39m patient\u001b[38;5;241m.\u001b[39mdrop(\u001b[38;5;241m25\u001b[39m)\n\u001b[0;32m      7\u001b[0m     \u001b[38;5;28mprint\u001b[39m(label)\n",
                        "Input \u001b[1;32mIn [424]\u001b[0m, in \u001b[0;36m<listcomp>\u001b[1;34m(.0)\u001b[0m\n\u001b[0;32m      2\u001b[0m \u001b[38;5;28;01mfor\u001b[39;00m patient \u001b[38;5;129;01min\u001b[39;00m interpo:\n\u001b[0;32m      3\u001b[0m     \u001b[38;5;28mprint\u001b[39m(patient)\n\u001b[1;32m----> 4\u001b[0m     label\u001b[38;5;241m.\u001b[39mappend([\u001b[43mpatient\u001b[49m\u001b[38;5;241;43m.\u001b[39;49m\u001b[43miloc\u001b[49m\u001b[43m[\u001b[49m\u001b[38;5;241;43m25\u001b[39;49m\u001b[43m]\u001b[49m[vit] \u001b[38;5;28;01mfor\u001b[39;00m vit \u001b[38;5;129;01min\u001b[39;00m list_vit])\n\u001b[0;32m      5\u001b[0m     patient \u001b[38;5;241m=\u001b[39m patient\u001b[38;5;241m.\u001b[39mdrop(\u001b[38;5;241m25\u001b[39m)\n\u001b[0;32m      7\u001b[0m     \u001b[38;5;28mprint\u001b[39m(label)\n",
                        "File \u001b[1;32m~\\AppData\\Local\\Programs\\Python\\Python39\\lib\\site-packages\\pandas\\core\\indexing.py:931\u001b[0m, in \u001b[0;36m_LocationIndexer.__getitem__\u001b[1;34m(self, key)\u001b[0m\n\u001b[0;32m    928\u001b[0m axis \u001b[38;5;241m=\u001b[39m \u001b[38;5;28mself\u001b[39m\u001b[38;5;241m.\u001b[39maxis \u001b[38;5;129;01mor\u001b[39;00m \u001b[38;5;241m0\u001b[39m\n\u001b[0;32m    930\u001b[0m maybe_callable \u001b[38;5;241m=\u001b[39m com\u001b[38;5;241m.\u001b[39mapply_if_callable(key, \u001b[38;5;28mself\u001b[39m\u001b[38;5;241m.\u001b[39mobj)\n\u001b[1;32m--> 931\u001b[0m \u001b[38;5;28;01mreturn\u001b[39;00m \u001b[38;5;28;43mself\u001b[39;49m\u001b[38;5;241;43m.\u001b[39;49m\u001b[43m_getitem_axis\u001b[49m\u001b[43m(\u001b[49m\u001b[43mmaybe_callable\u001b[49m\u001b[43m,\u001b[49m\u001b[43m \u001b[49m\u001b[43maxis\u001b[49m\u001b[38;5;241;43m=\u001b[39;49m\u001b[43maxis\u001b[49m\u001b[43m)\u001b[49m\n",
                        "File \u001b[1;32m~\\AppData\\Local\\Programs\\Python\\Python39\\lib\\site-packages\\pandas\\core\\indexing.py:1566\u001b[0m, in \u001b[0;36m_iLocIndexer._getitem_axis\u001b[1;34m(self, key, axis)\u001b[0m\n\u001b[0;32m   1563\u001b[0m     \u001b[38;5;28;01mraise\u001b[39;00m \u001b[38;5;167;01mTypeError\u001b[39;00m(\u001b[38;5;124m\"\u001b[39m\u001b[38;5;124mCannot index by location index with a non-integer key\u001b[39m\u001b[38;5;124m\"\u001b[39m)\n\u001b[0;32m   1565\u001b[0m \u001b[38;5;66;03m# validate the location\u001b[39;00m\n\u001b[1;32m-> 1566\u001b[0m \u001b[38;5;28;43mself\u001b[39;49m\u001b[38;5;241;43m.\u001b[39;49m\u001b[43m_validate_integer\u001b[49m\u001b[43m(\u001b[49m\u001b[43mkey\u001b[49m\u001b[43m,\u001b[49m\u001b[43m \u001b[49m\u001b[43maxis\u001b[49m\u001b[43m)\u001b[49m\n\u001b[0;32m   1568\u001b[0m \u001b[38;5;28;01mreturn\u001b[39;00m \u001b[38;5;28mself\u001b[39m\u001b[38;5;241m.\u001b[39mobj\u001b[38;5;241m.\u001b[39m_ixs(key, axis\u001b[38;5;241m=\u001b[39maxis)\n",
                        "File \u001b[1;32m~\\AppData\\Local\\Programs\\Python\\Python39\\lib\\site-packages\\pandas\\core\\indexing.py:1500\u001b[0m, in \u001b[0;36m_iLocIndexer._validate_integer\u001b[1;34m(self, key, axis)\u001b[0m\n\u001b[0;32m   1498\u001b[0m len_axis \u001b[38;5;241m=\u001b[39m \u001b[38;5;28mlen\u001b[39m(\u001b[38;5;28mself\u001b[39m\u001b[38;5;241m.\u001b[39mobj\u001b[38;5;241m.\u001b[39m_get_axis(axis))\n\u001b[0;32m   1499\u001b[0m \u001b[38;5;28;01mif\u001b[39;00m key \u001b[38;5;241m>\u001b[39m\u001b[38;5;241m=\u001b[39m len_axis \u001b[38;5;129;01mor\u001b[39;00m key \u001b[38;5;241m<\u001b[39m \u001b[38;5;241m-\u001b[39mlen_axis:\n\u001b[1;32m-> 1500\u001b[0m     \u001b[38;5;28;01mraise\u001b[39;00m \u001b[38;5;167;01mIndexError\u001b[39;00m(\u001b[38;5;124m\"\u001b[39m\u001b[38;5;124msingle positional indexer is out-of-bounds\u001b[39m\u001b[38;5;124m\"\u001b[39m)\n",
                        "\u001b[1;31mIndexError\u001b[0m: single positional indexer is out-of-bounds"
                    ],
                    "ename": "IndexError",
                    "evalue": "single positional indexer is out-of-bounds",
                    "output_type": "error"
                }
            ],
            "execution_count": 424
        }
    ]
}